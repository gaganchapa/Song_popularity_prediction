{
  "cells": [
    {
      "cell_type": "markdown",
      "metadata": {
        "id": "view-in-github",
        "colab_type": "text"
      },
      "source": [
        "<a href=\"https://colab.research.google.com/github/gaganchapa/Song_popularity_prediction/blob/main/Song_popularity_Prediction.ipynb\" target=\"_parent\"><img src=\"https://colab.research.google.com/assets/colab-badge.svg\" alt=\"Open In Colab\"/></a>"
      ]
    },
    {
      "cell_type": "markdown",
      "metadata": {
        "id": "fjC-AOBs525p"
      },
      "source": [
        "#Song Poluparity Prediction"
      ]
    },
    {
      "cell_type": "markdown",
      "metadata": {
        "id": "lNOFLwVOAtFh"
      },
      "source": [
        "## Dataset Pre-Processing and Visualization"
      ]
    },
    {
      "cell_type": "code",
      "execution_count": 10,
      "metadata": {
        "id": "VVAqwW2Q5yqm"
      },
      "outputs": [],
      "source": [
        "#importing the Necessary dependencies \n",
        "from sklearn.preprocessing import LabelEncoder\n",
        "import numpy as np\n",
        "from sklearn.preprocessing import StandardScaler\n",
        "import pandas as pd # for reading and printing\n",
        "from sklearn.preprocessing import LabelEncoder\n",
        "import matplotlib.pyplot as plt # for the graph plotting (shows the relationship between the datas)\n",
        "from sklearn.linear_model import LinearRegression\n",
        "from sklearn.ensemble import RandomForestRegressor\n",
        "from sklearn.model_selection import train_test_split # split the data set in to the train and the test data\n",
        "import seaborn as sns  #plot the graph of the data set\n",
        "from sklearn import metrics  # transforming the data in to the metrics"
      ]
    },
    {
      "cell_type": "markdown",
      "source": [
        "## Importing Dataset"
      ],
      "metadata": {
        "id": "aEe-8P5vK4NO"
      }
    },
    {
      "cell_type": "code",
      "execution_count": 11,
      "metadata": {
        "colab": {
          "base_uri": "https://localhost:8080/",
          "height": 206
        },
        "id": "QVjqygN26Joe",
        "outputId": "8687a53c-baf8-4df4-acac-34102e41fc7b"
      },
      "outputs": [
        {
          "output_type": "execute_result",
          "data": {
            "text/plain": [
              "   Unnamed: 0                       Track.Name    Artist.Name           Genre  \\\n",
              "0           1                         Señorita   Shawn Mendes    canadian pop   \n",
              "1           2                            China       Anuel AA  reggaeton flow   \n",
              "2           3    boyfriend (with Social House)  Ariana Grande       dance pop   \n",
              "3           4  Beautiful People (feat. Khalid)     Ed Sheeran             pop   \n",
              "4           5      Goodbyes (Feat. Young Thug)    Post Malone         dfw rap   \n",
              "\n",
              "   Beats.Per.Minute  Energy  Danceability  Loudness..dB..  Liveness  Valence.  \\\n",
              "0               117      55            76              -6         8        75   \n",
              "1               105      81            79              -4         8        61   \n",
              "2               190      80            40              -4        16        70   \n",
              "3                93      65            64              -8         8        55   \n",
              "4               150      65            58              -4        11        18   \n",
              "\n",
              "   Length.  Acousticness..  Speechiness.  Popularity  \n",
              "0      191               4             3          79  \n",
              "1      302               8             9          92  \n",
              "2      186              12            46          85  \n",
              "3      198              12            19          86  \n",
              "4      175              45             7          94  "
            ],
            "text/html": [
              "\n",
              "  <div id=\"df-64b9ba45-33d1-44fe-9557-e56d19d90c3d\">\n",
              "    <div class=\"colab-df-container\">\n",
              "      <div>\n",
              "<style scoped>\n",
              "    .dataframe tbody tr th:only-of-type {\n",
              "        vertical-align: middle;\n",
              "    }\n",
              "\n",
              "    .dataframe tbody tr th {\n",
              "        vertical-align: top;\n",
              "    }\n",
              "\n",
              "    .dataframe thead th {\n",
              "        text-align: right;\n",
              "    }\n",
              "</style>\n",
              "<table border=\"1\" class=\"dataframe\">\n",
              "  <thead>\n",
              "    <tr style=\"text-align: right;\">\n",
              "      <th></th>\n",
              "      <th>Unnamed: 0</th>\n",
              "      <th>Track.Name</th>\n",
              "      <th>Artist.Name</th>\n",
              "      <th>Genre</th>\n",
              "      <th>Beats.Per.Minute</th>\n",
              "      <th>Energy</th>\n",
              "      <th>Danceability</th>\n",
              "      <th>Loudness..dB..</th>\n",
              "      <th>Liveness</th>\n",
              "      <th>Valence.</th>\n",
              "      <th>Length.</th>\n",
              "      <th>Acousticness..</th>\n",
              "      <th>Speechiness.</th>\n",
              "      <th>Popularity</th>\n",
              "    </tr>\n",
              "  </thead>\n",
              "  <tbody>\n",
              "    <tr>\n",
              "      <th>0</th>\n",
              "      <td>1</td>\n",
              "      <td>Señorita</td>\n",
              "      <td>Shawn Mendes</td>\n",
              "      <td>canadian pop</td>\n",
              "      <td>117</td>\n",
              "      <td>55</td>\n",
              "      <td>76</td>\n",
              "      <td>-6</td>\n",
              "      <td>8</td>\n",
              "      <td>75</td>\n",
              "      <td>191</td>\n",
              "      <td>4</td>\n",
              "      <td>3</td>\n",
              "      <td>79</td>\n",
              "    </tr>\n",
              "    <tr>\n",
              "      <th>1</th>\n",
              "      <td>2</td>\n",
              "      <td>China</td>\n",
              "      <td>Anuel AA</td>\n",
              "      <td>reggaeton flow</td>\n",
              "      <td>105</td>\n",
              "      <td>81</td>\n",
              "      <td>79</td>\n",
              "      <td>-4</td>\n",
              "      <td>8</td>\n",
              "      <td>61</td>\n",
              "      <td>302</td>\n",
              "      <td>8</td>\n",
              "      <td>9</td>\n",
              "      <td>92</td>\n",
              "    </tr>\n",
              "    <tr>\n",
              "      <th>2</th>\n",
              "      <td>3</td>\n",
              "      <td>boyfriend (with Social House)</td>\n",
              "      <td>Ariana Grande</td>\n",
              "      <td>dance pop</td>\n",
              "      <td>190</td>\n",
              "      <td>80</td>\n",
              "      <td>40</td>\n",
              "      <td>-4</td>\n",
              "      <td>16</td>\n",
              "      <td>70</td>\n",
              "      <td>186</td>\n",
              "      <td>12</td>\n",
              "      <td>46</td>\n",
              "      <td>85</td>\n",
              "    </tr>\n",
              "    <tr>\n",
              "      <th>3</th>\n",
              "      <td>4</td>\n",
              "      <td>Beautiful People (feat. Khalid)</td>\n",
              "      <td>Ed Sheeran</td>\n",
              "      <td>pop</td>\n",
              "      <td>93</td>\n",
              "      <td>65</td>\n",
              "      <td>64</td>\n",
              "      <td>-8</td>\n",
              "      <td>8</td>\n",
              "      <td>55</td>\n",
              "      <td>198</td>\n",
              "      <td>12</td>\n",
              "      <td>19</td>\n",
              "      <td>86</td>\n",
              "    </tr>\n",
              "    <tr>\n",
              "      <th>4</th>\n",
              "      <td>5</td>\n",
              "      <td>Goodbyes (Feat. Young Thug)</td>\n",
              "      <td>Post Malone</td>\n",
              "      <td>dfw rap</td>\n",
              "      <td>150</td>\n",
              "      <td>65</td>\n",
              "      <td>58</td>\n",
              "      <td>-4</td>\n",
              "      <td>11</td>\n",
              "      <td>18</td>\n",
              "      <td>175</td>\n",
              "      <td>45</td>\n",
              "      <td>7</td>\n",
              "      <td>94</td>\n",
              "    </tr>\n",
              "  </tbody>\n",
              "</table>\n",
              "</div>\n",
              "      <button class=\"colab-df-convert\" onclick=\"convertToInteractive('df-64b9ba45-33d1-44fe-9557-e56d19d90c3d')\"\n",
              "              title=\"Convert this dataframe to an interactive table.\"\n",
              "              style=\"display:none;\">\n",
              "        \n",
              "  <svg xmlns=\"http://www.w3.org/2000/svg\" height=\"24px\"viewBox=\"0 0 24 24\"\n",
              "       width=\"24px\">\n",
              "    <path d=\"M0 0h24v24H0V0z\" fill=\"none\"/>\n",
              "    <path d=\"M18.56 5.44l.94 2.06.94-2.06 2.06-.94-2.06-.94-.94-2.06-.94 2.06-2.06.94zm-11 1L8.5 8.5l.94-2.06 2.06-.94-2.06-.94L8.5 2.5l-.94 2.06-2.06.94zm10 10l.94 2.06.94-2.06 2.06-.94-2.06-.94-.94-2.06-.94 2.06-2.06.94z\"/><path d=\"M17.41 7.96l-1.37-1.37c-.4-.4-.92-.59-1.43-.59-.52 0-1.04.2-1.43.59L10.3 9.45l-7.72 7.72c-.78.78-.78 2.05 0 2.83L4 21.41c.39.39.9.59 1.41.59.51 0 1.02-.2 1.41-.59l7.78-7.78 2.81-2.81c.8-.78.8-2.07 0-2.86zM5.41 20L4 18.59l7.72-7.72 1.47 1.35L5.41 20z\"/>\n",
              "  </svg>\n",
              "      </button>\n",
              "      \n",
              "  <style>\n",
              "    .colab-df-container {\n",
              "      display:flex;\n",
              "      flex-wrap:wrap;\n",
              "      gap: 12px;\n",
              "    }\n",
              "\n",
              "    .colab-df-convert {\n",
              "      background-color: #E8F0FE;\n",
              "      border: none;\n",
              "      border-radius: 50%;\n",
              "      cursor: pointer;\n",
              "      display: none;\n",
              "      fill: #1967D2;\n",
              "      height: 32px;\n",
              "      padding: 0 0 0 0;\n",
              "      width: 32px;\n",
              "    }\n",
              "\n",
              "    .colab-df-convert:hover {\n",
              "      background-color: #E2EBFA;\n",
              "      box-shadow: 0px 1px 2px rgba(60, 64, 67, 0.3), 0px 1px 3px 1px rgba(60, 64, 67, 0.15);\n",
              "      fill: #174EA6;\n",
              "    }\n",
              "\n",
              "    [theme=dark] .colab-df-convert {\n",
              "      background-color: #3B4455;\n",
              "      fill: #D2E3FC;\n",
              "    }\n",
              "\n",
              "    [theme=dark] .colab-df-convert:hover {\n",
              "      background-color: #434B5C;\n",
              "      box-shadow: 0px 1px 3px 1px rgba(0, 0, 0, 0.15);\n",
              "      filter: drop-shadow(0px 1px 2px rgba(0, 0, 0, 0.3));\n",
              "      fill: #FFFFFF;\n",
              "    }\n",
              "  </style>\n",
              "\n",
              "      <script>\n",
              "        const buttonEl =\n",
              "          document.querySelector('#df-64b9ba45-33d1-44fe-9557-e56d19d90c3d button.colab-df-convert');\n",
              "        buttonEl.style.display =\n",
              "          google.colab.kernel.accessAllowed ? 'block' : 'none';\n",
              "\n",
              "        async function convertToInteractive(key) {\n",
              "          const element = document.querySelector('#df-64b9ba45-33d1-44fe-9557-e56d19d90c3d');\n",
              "          const dataTable =\n",
              "            await google.colab.kernel.invokeFunction('convertToInteractive',\n",
              "                                                     [key], {});\n",
              "          if (!dataTable) return;\n",
              "\n",
              "          const docLinkHtml = 'Like what you see? Visit the ' +\n",
              "            '<a target=\"_blank\" href=https://colab.research.google.com/notebooks/data_table.ipynb>data table notebook</a>'\n",
              "            + ' to learn more about interactive tables.';\n",
              "          element.innerHTML = '';\n",
              "          dataTable['output_type'] = 'display_data';\n",
              "          await google.colab.output.renderOutput(dataTable, element);\n",
              "          const docLink = document.createElement('div');\n",
              "          docLink.innerHTML = docLinkHtml;\n",
              "          element.appendChild(docLink);\n",
              "        }\n",
              "      </script>\n",
              "    </div>\n",
              "  </div>\n",
              "  "
            ]
          },
          "metadata": {},
          "execution_count": 11
        }
      ],
      "source": [
        "#reaading the CSV file using pandas as pd\n",
        "song_data = pd.read_csv(\"top50.csv\",encoding = \"ISO-8859-1\" )\n",
        "song_data.head(5)"
      ]
    },
    {
      "cell_type": "code",
      "execution_count": 12,
      "metadata": {
        "id": "fa_Sajgb7sQf",
        "colab": {
          "base_uri": "https://localhost:8080/"
        },
        "outputId": "599ed4a5-5c37-4a67-bfeb-e591065bdab7"
      },
      "outputs": [
        {
          "output_type": "execute_result",
          "data": {
            "text/plain": [
              "(50, 14)"
            ]
          },
          "metadata": {},
          "execution_count": 12
        }
      ],
      "source": [
        "song_data.shape"
      ]
    },
    {
      "cell_type": "code",
      "execution_count": 13,
      "metadata": {
        "id": "NdoGOf0r8GBL",
        "colab": {
          "base_uri": "https://localhost:8080/"
        },
        "outputId": "506e6d63-db6a-4ad5-d195-554623ab8131"
      },
      "outputs": [
        {
          "output_type": "execute_result",
          "data": {
            "text/plain": [
              "Index(['Unnamed: 0', 'Track.Name', 'Artist.Name', 'Genre', 'Beats.Per.Minute',\n",
              "       'Energy', 'Danceability', 'Loudness..dB..', 'Liveness', 'Valence.',\n",
              "       'Length.', 'Acousticness..', 'Speechiness.', 'Popularity'],\n",
              "      dtype='object')"
            ]
          },
          "metadata": {},
          "execution_count": 13
        }
      ],
      "source": [
        "song_data.columns"
      ]
    },
    {
      "cell_type": "code",
      "execution_count": 14,
      "metadata": {
        "id": "XVwXCS6m8KTT",
        "colab": {
          "base_uri": "https://localhost:8080/"
        },
        "outputId": "d9826aef-ebaa-47d8-ea0f-3c8d12db6e27"
      },
      "outputs": [
        {
          "output_type": "execute_result",
          "data": {
            "text/plain": [
              "dance pop           8\n",
              "pop                 7\n",
              "latin               5\n",
              "canadian hip hop    3\n",
              "edm                 3\n",
              "reggaeton           2\n",
              "reggaeton flow      2\n",
              "panamanian pop      2\n",
              "canadian pop        2\n",
              "electropop          2\n",
              "country rap         2\n",
              "dfw rap             2\n",
              "brostep             2\n",
              "trap music          1\n",
              "escape room         1\n",
              "pop house           1\n",
              "australian pop      1\n",
              "atl hip hop         1\n",
              "big room            1\n",
              "boy band            1\n",
              "r&b en espanol      1\n",
              "Name: Genre, dtype: int64"
            ]
          },
          "metadata": {},
          "execution_count": 14
        }
      ],
      "source": [
        "song_data['Genre'].value_counts()"
      ]
    },
    {
      "cell_type": "code",
      "execution_count": 15,
      "metadata": {
        "id": "MpCyPF4g8MWt",
        "colab": {
          "base_uri": "https://localhost:8080/"
        },
        "outputId": "6eaaf06d-7837-469d-b51d-811e661958f3"
      },
      "outputs": [
        {
          "output_type": "execute_result",
          "data": {
            "text/plain": [
              "array(['canadian pop', 'reggaeton flow', 'dance pop', 'pop', 'dfw rap',\n",
              "       'trap music', 'country rap', 'electropop', 'reggaeton',\n",
              "       'panamanian pop', 'canadian hip hop', 'latin', 'escape room',\n",
              "       'pop house', 'australian pop', 'edm', 'atl hip hop', 'big room',\n",
              "       'boy band', 'r&b en espanol', 'brostep'], dtype=object)"
            ]
          },
          "metadata": {},
          "execution_count": 15
        }
      ],
      "source": [
        "#list of all Genere\n",
        "song_data['Genre'].unique()"
      ]
    },
    {
      "cell_type": "code",
      "execution_count": 16,
      "metadata": {
        "id": "MZZ4dtgf8UAN",
        "colab": {
          "base_uri": "https://localhost:8080/"
        },
        "outputId": "c467692b-64bd-4328-ce96-43e3f90f4829"
      },
      "outputs": [
        {
          "output_type": "execute_result",
          "data": {
            "text/plain": [
              "0"
            ]
          },
          "metadata": {},
          "execution_count": 16
        }
      ],
      "source": [
        "#checking for the duplicated data \n",
        "song_data.duplicated().sum()"
      ]
    },
    {
      "cell_type": "code",
      "execution_count": 17,
      "metadata": {
        "id": "KJOHpHnE8bfY",
        "colab": {
          "base_uri": "https://localhost:8080/",
          "height": 360
        },
        "outputId": "dbce5b9d-6f55-49a8-90d7-19e5e0098881"
      },
      "outputs": [
        {
          "output_type": "execute_result",
          "data": {
            "text/plain": [
              "<matplotlib.axes._subplots.AxesSubplot at 0x7f476d24c850>"
            ]
          },
          "metadata": {},
          "execution_count": 17
        },
        {
          "output_type": "display_data",
          "data": {
            "text/plain": [
              "<Figure size 432x288 with 2 Axes>"
            ],
            "image/png": "[encoded data removed]"
          },
          "metadata": {
            "needs_background": "light"
          }
        }
      ],
      "source": [
        "#heatmap is generally used to show the correalation between diffrent attributes of the dataset\n",
        " #annot,If True, write the data value in each cell.\n",
        " #corr is used to show the corelations between the columns \n",
        "sns.heatmap(song_data.corr(),annot=True)"
      ]
    },
    {
      "cell_type": "code",
      "execution_count": 18,
      "metadata": {
        "id": "quxyUoKH8kgS"
      },
      "outputs": [],
      "source": [
        "#sns.pairplot(song_data) # plots all the data in the data fied in tha dataset "
      ]
    },
    {
      "cell_type": "markdown",
      "metadata": {
        "id": "VNB4TkxuNDy8"
      },
      "source": [
        "**Need to convert the Genre data to the numerical format**"
      ]
    },
    {
      "cell_type": "code",
      "execution_count": 19,
      "metadata": {
        "id": "FZyK712_NCiK"
      },
      "outputs": [],
      "source": [
        "#The Artistname and Genre have the String values so we need to convert them to numerical value \n",
        "def encode(data): \n",
        "  label_encode = LabelEncoder()\n",
        "  #label_genre = label_encode.fit_transform()\n",
        "  label = label_encode.fit_transform(data)\n",
        "  return label\n"
      ]
    },
    {
      "cell_type": "markdown",
      "metadata": {
        "id": "MIbs0jdQN-H0"
      },
      "source": [
        "**Appending the numerical data to the dataset**"
      ]
    },
    {
      "cell_type": "code",
      "execution_count": 20,
      "metadata": {
        "id": "PdpMGKy8OHMG",
        "colab": {
          "base_uri": "https://localhost:8080/",
          "height": 206
        },
        "outputId": "eb81e865-9ae7-41a1-ad46-f701940bcbf9"
      },
      "outputs": [
        {
          "output_type": "execute_result",
          "data": {
            "text/plain": [
              "   Unnamed: 0                       Track.Name  Artist.Name  Genre  \\\n",
              "0           1                         Señorita           32      6   \n",
              "1           2                            China            1     19   \n",
              "2           3    boyfriend (with Social House)            2      8   \n",
              "3           4  Beautiful People (feat. Khalid)            9     15   \n",
              "4           5      Goodbyes (Feat. Young Thug)           28      9   \n",
              "\n",
              "   Beats.Per.Minute  Energy  Danceability  Loudness..dB..  Liveness  Valence.  \\\n",
              "0               117      55            76              -6         8        75   \n",
              "1               105      81            79              -4         8        61   \n",
              "2               190      80            40              -4        16        70   \n",
              "3                93      65            64              -8         8        55   \n",
              "4               150      65            58              -4        11        18   \n",
              "\n",
              "   Length.  Acousticness..  Speechiness.  Popularity  \n",
              "0      191               4             3          79  \n",
              "1      302               8             9          92  \n",
              "2      186              12            46          85  \n",
              "3      198              12            19          86  \n",
              "4      175              45             7          94  "
            ],
            "text/html": [
              "\n",
              "  <div id=\"df-e8b46ca1-9759-41c0-8030-72dc1fc0ccc4\">\n",
              "    <div class=\"colab-df-container\">\n",
              "      <div>\n",
              "<style scoped>\n",
              "    .dataframe tbody tr th:only-of-type {\n",
              "        vertical-align: middle;\n",
              "    }\n",
              "\n",
              "    .dataframe tbody tr th {\n",
              "        vertical-align: top;\n",
              "    }\n",
              "\n",
              "    .dataframe thead th {\n",
              "        text-align: right;\n",
              "    }\n",
              "</style>\n",
              "<table border=\"1\" class=\"dataframe\">\n",
              "  <thead>\n",
              "    <tr style=\"text-align: right;\">\n",
              "      <th></th>\n",
              "      <th>Unnamed: 0</th>\n",
              "      <th>Track.Name</th>\n",
              "      <th>Artist.Name</th>\n",
              "      <th>Genre</th>\n",
              "      <th>Beats.Per.Minute</th>\n",
              "      <th>Energy</th>\n",
              "      <th>Danceability</th>\n",
              "      <th>Loudness..dB..</th>\n",
              "      <th>Liveness</th>\n",
              "      <th>Valence.</th>\n",
              "      <th>Length.</th>\n",
              "      <th>Acousticness..</th>\n",
              "      <th>Speechiness.</th>\n",
              "      <th>Popularity</th>\n",
              "    </tr>\n",
              "  </thead>\n",
              "  <tbody>\n",
              "    <tr>\n",
              "      <th>0</th>\n",
              "      <td>1</td>\n",
              "      <td>Señorita</td>\n",
              "      <td>32</td>\n",
              "      <td>6</td>\n",
              "      <td>117</td>\n",
              "      <td>55</td>\n",
              "      <td>76</td>\n",
              "      <td>-6</td>\n",
              "      <td>8</td>\n",
              "      <td>75</td>\n",
              "      <td>191</td>\n",
              "      <td>4</td>\n",
              "      <td>3</td>\n",
              "      <td>79</td>\n",
              "    </tr>\n",
              "    <tr>\n",
              "      <th>1</th>\n",
              "      <td>2</td>\n",
              "      <td>China</td>\n",
              "      <td>1</td>\n",
              "      <td>19</td>\n",
              "      <td>105</td>\n",
              "      <td>81</td>\n",
              "      <td>79</td>\n",
              "      <td>-4</td>\n",
              "      <td>8</td>\n",
              "      <td>61</td>\n",
              "      <td>302</td>\n",
              "      <td>8</td>\n",
              "      <td>9</td>\n",
              "      <td>92</td>\n",
              "    </tr>\n",
              "    <tr>\n",
              "      <th>2</th>\n",
              "      <td>3</td>\n",
              "      <td>boyfriend (with Social House)</td>\n",
              "      <td>2</td>\n",
              "      <td>8</td>\n",
              "      <td>190</td>\n",
              "      <td>80</td>\n",
              "      <td>40</td>\n",
              "      <td>-4</td>\n",
              "      <td>16</td>\n",
              "      <td>70</td>\n",
              "      <td>186</td>\n",
              "      <td>12</td>\n",
              "      <td>46</td>\n",
              "      <td>85</td>\n",
              "    </tr>\n",
              "    <tr>\n",
              "      <th>3</th>\n",
              "      <td>4</td>\n",
              "      <td>Beautiful People (feat. Khalid)</td>\n",
              "      <td>9</td>\n",
              "      <td>15</td>\n",
              "      <td>93</td>\n",
              "      <td>65</td>\n",
              "      <td>64</td>\n",
              "      <td>-8</td>\n",
              "      <td>8</td>\n",
              "      <td>55</td>\n",
              "      <td>198</td>\n",
              "      <td>12</td>\n",
              "      <td>19</td>\n",
              "      <td>86</td>\n",
              "    </tr>\n",
              "    <tr>\n",
              "      <th>4</th>\n",
              "      <td>5</td>\n",
              "      <td>Goodbyes (Feat. Young Thug)</td>\n",
              "      <td>28</td>\n",
              "      <td>9</td>\n",
              "      <td>150</td>\n",
              "      <td>65</td>\n",
              "      <td>58</td>\n",
              "      <td>-4</td>\n",
              "      <td>11</td>\n",
              "      <td>18</td>\n",
              "      <td>175</td>\n",
              "      <td>45</td>\n",
              "      <td>7</td>\n",
              "      <td>94</td>\n",
              "    </tr>\n",
              "  </tbody>\n",
              "</table>\n",
              "</div>\n",
              "      <button class=\"colab-df-convert\" onclick=\"convertToInteractive('df-e8b46ca1-9759-41c0-8030-72dc1fc0ccc4')\"\n",
              "              title=\"Convert this dataframe to an interactive table.\"\n",
              "              style=\"display:none;\">\n",
              "        \n",
              "  <svg xmlns=\"http://www.w3.org/2000/svg\" height=\"24px\"viewBox=\"0 0 24 24\"\n",
              "       width=\"24px\">\n",
              "    <path d=\"M0 0h24v24H0V0z\" fill=\"none\"/>\n",
              "    <path d=\"M18.56 5.44l.94 2.06.94-2.06 2.06-.94-2.06-.94-.94-2.06-.94 2.06-2.06.94zm-11 1L8.5 8.5l.94-2.06 2.06-.94-2.06-.94L8.5 2.5l-.94 2.06-2.06.94zm10 10l.94 2.06.94-2.06 2.06-.94-2.06-.94-.94-2.06-.94 2.06-2.06.94z\"/><path d=\"M17.41 7.96l-1.37-1.37c-.4-.4-.92-.59-1.43-.59-.52 0-1.04.2-1.43.59L10.3 9.45l-7.72 7.72c-.78.78-.78 2.05 0 2.83L4 21.41c.39.39.9.59 1.41.59.51 0 1.02-.2 1.41-.59l7.78-7.78 2.81-2.81c.8-.78.8-2.07 0-2.86zM5.41 20L4 18.59l7.72-7.72 1.47 1.35L5.41 20z\"/>\n",
              "  </svg>\n",
              "      </button>\n",
              "      \n",
              "  <style>\n",
              "    .colab-df-container {\n",
              "      display:flex;\n",
              "      flex-wrap:wrap;\n",
              "      gap: 12px;\n",
              "    }\n",
              "\n",
              "    .colab-df-convert {\n",
              "      background-color: #E8F0FE;\n",
              "      border: none;\n",
              "      border-radius: 50%;\n",
              "      cursor: pointer;\n",
              "      display: none;\n",
              "      fill: #1967D2;\n",
              "      height: 32px;\n",
              "      padding: 0 0 0 0;\n",
              "      width: 32px;\n",
              "    }\n",
              "\n",
              "    .colab-df-convert:hover {\n",
              "      background-color: #E2EBFA;\n",
              "      box-shadow: 0px 1px 2px rgba(60, 64, 67, 0.3), 0px 1px 3px 1px rgba(60, 64, 67, 0.15);\n",
              "      fill: #174EA6;\n",
              "    }\n",
              "\n",
              "    [theme=dark] .colab-df-convert {\n",
              "      background-color: #3B4455;\n",
              "      fill: #D2E3FC;\n",
              "    }\n",
              "\n",
              "    [theme=dark] .colab-df-convert:hover {\n",
              "      background-color: #434B5C;\n",
              "      box-shadow: 0px 1px 3px 1px rgba(0, 0, 0, 0.15);\n",
              "      filter: drop-shadow(0px 1px 2px rgba(0, 0, 0, 0.3));\n",
              "      fill: #FFFFFF;\n",
              "    }\n",
              "  </style>\n",
              "\n",
              "      <script>\n",
              "        const buttonEl =\n",
              "          document.querySelector('#df-e8b46ca1-9759-41c0-8030-72dc1fc0ccc4 button.colab-df-convert');\n",
              "        buttonEl.style.display =\n",
              "          google.colab.kernel.accessAllowed ? 'block' : 'none';\n",
              "\n",
              "        async function convertToInteractive(key) {\n",
              "          const element = document.querySelector('#df-e8b46ca1-9759-41c0-8030-72dc1fc0ccc4');\n",
              "          const dataTable =\n",
              "            await google.colab.kernel.invokeFunction('convertToInteractive',\n",
              "                                                     [key], {});\n",
              "          if (!dataTable) return;\n",
              "\n",
              "          const docLinkHtml = 'Like what you see? Visit the ' +\n",
              "            '<a target=\"_blank\" href=https://colab.research.google.com/notebooks/data_table.ipynb>data table notebook</a>'\n",
              "            + ' to learn more about interactive tables.';\n",
              "          element.innerHTML = '';\n",
              "          dataTable['output_type'] = 'display_data';\n",
              "          await google.colab.output.renderOutput(dataTable, element);\n",
              "          const docLink = document.createElement('div');\n",
              "          docLink.innerHTML = docLinkHtml;\n",
              "          element.appendChild(docLink);\n",
              "        }\n",
              "      </script>\n",
              "    </div>\n",
              "  </div>\n",
              "  "
            ]
          },
          "metadata": {},
          "execution_count": 20
        }
      ],
      "source": [
        "song_data[\"Genre\"] = encode(song_data[\"Genre\"])\n",
        "song_data[\"Artist.Name\"] =encode(song_data[\"Artist.Name\"])\n",
        " \n",
        "# printing Dataframe\n",
        "song_data.head(5)"
      ]
    },
    {
      "cell_type": "markdown",
      "metadata": {
        "id": "oPizimEq9GgI"
      },
      "source": [
        "**Selecting Features on Which the Popularity Depends**"
      ]
    },
    {
      "cell_type": "code",
      "execution_count": 21,
      "metadata": {
        "id": "ZFXKXMW79MMe"
      },
      "outputs": [],
      "source": [
        "selected_features = song_data[['Genre','Beats.Per.Minute','Artist.Name',\n",
        "       'Energy', 'Danceability', 'Loudness..dB..', 'Liveness', 'Valence.',\n",
        "       'Length.', 'Acousticness..', 'Speechiness.',]] #feaures on which our reommedtation is dependent\n",
        "songs_popularity = song_data['Popularity'] #The output that the user get input from our dataset"
      ]
    },
    {
      "cell_type": "code",
      "execution_count": 22,
      "metadata": {
        "id": "r1x6NcrgBYks",
        "colab": {
          "base_uri": "https://localhost:8080/",
          "height": 206
        },
        "outputId": "35a3e526-04ad-4cce-d5ef-7769e8418757"
      },
      "outputs": [
        {
          "output_type": "execute_result",
          "data": {
            "text/plain": [
              "   Genre  Beats.Per.Minute  Artist.Name  Energy  Danceability  Loudness..dB..  \\\n",
              "0      6               117           32      55            76              -6   \n",
              "1     19               105            1      81            79              -4   \n",
              "2      8               190            2      80            40              -4   \n",
              "3     15                93            9      65            64              -8   \n",
              "4      9               150           28      65            58              -4   \n",
              "\n",
              "   Liveness  Valence.  Length.  Acousticness..  Speechiness.  \n",
              "0         8        75      191               4             3  \n",
              "1         8        61      302               8             9  \n",
              "2        16        70      186              12            46  \n",
              "3         8        55      198              12            19  \n",
              "4        11        18      175              45             7  "
            ],
            "text/html": [
              "\n",
              "  <div id=\"df-1cbd32d7-8c26-402e-a112-977c8941be5e\">\n",
              "    <div class=\"colab-df-container\">\n",
              "      <div>\n",
              "<style scoped>\n",
              "    .dataframe tbody tr th:only-of-type {\n",
              "        vertical-align: middle;\n",
              "    }\n",
              "\n",
              "    .dataframe tbody tr th {\n",
              "        vertical-align: top;\n",
              "    }\n",
              "\n",
              "    .dataframe thead th {\n",
              "        text-align: right;\n",
              "    }\n",
              "</style>\n",
              "<table border=\"1\" class=\"dataframe\">\n",
              "  <thead>\n",
              "    <tr style=\"text-align: right;\">\n",
              "      <th></th>\n",
              "      <th>Genre</th>\n",
              "      <th>Beats.Per.Minute</th>\n",
              "      <th>Artist.Name</th>\n",
              "      <th>Energy</th>\n",
              "      <th>Danceability</th>\n",
              "      <th>Loudness..dB..</th>\n",
              "      <th>Liveness</th>\n",
              "      <th>Valence.</th>\n",
              "      <th>Length.</th>\n",
              "      <th>Acousticness..</th>\n",
              "      <th>Speechiness.</th>\n",
              "    </tr>\n",
              "  </thead>\n",
              "  <tbody>\n",
              "    <tr>\n",
              "      <th>0</th>\n",
              "      <td>6</td>\n",
              "      <td>117</td>\n",
              "      <td>32</td>\n",
              "      <td>55</td>\n",
              "      <td>76</td>\n",
              "      <td>-6</td>\n",
              "      <td>8</td>\n",
              "      <td>75</td>\n",
              "      <td>191</td>\n",
              "      <td>4</td>\n",
              "      <td>3</td>\n",
              "    </tr>\n",
              "    <tr>\n",
              "      <th>1</th>\n",
              "      <td>19</td>\n",
              "      <td>105</td>\n",
              "      <td>1</td>\n",
              "      <td>81</td>\n",
              "      <td>79</td>\n",
              "      <td>-4</td>\n",
              "      <td>8</td>\n",
              "      <td>61</td>\n",
              "      <td>302</td>\n",
              "      <td>8</td>\n",
              "      <td>9</td>\n",
              "    </tr>\n",
              "    <tr>\n",
              "      <th>2</th>\n",
              "      <td>8</td>\n",
              "      <td>190</td>\n",
              "      <td>2</td>\n",
              "      <td>80</td>\n",
              "      <td>40</td>\n",
              "      <td>-4</td>\n",
              "      <td>16</td>\n",
              "      <td>70</td>\n",
              "      <td>186</td>\n",
              "      <td>12</td>\n",
              "      <td>46</td>\n",
              "    </tr>\n",
              "    <tr>\n",
              "      <th>3</th>\n",
              "      <td>15</td>\n",
              "      <td>93</td>\n",
              "      <td>9</td>\n",
              "      <td>65</td>\n",
              "      <td>64</td>\n",
              "      <td>-8</td>\n",
              "      <td>8</td>\n",
              "      <td>55</td>\n",
              "      <td>198</td>\n",
              "      <td>12</td>\n",
              "      <td>19</td>\n",
              "    </tr>\n",
              "    <tr>\n",
              "      <th>4</th>\n",
              "      <td>9</td>\n",
              "      <td>150</td>\n",
              "      <td>28</td>\n",
              "      <td>65</td>\n",
              "      <td>58</td>\n",
              "      <td>-4</td>\n",
              "      <td>11</td>\n",
              "      <td>18</td>\n",
              "      <td>175</td>\n",
              "      <td>45</td>\n",
              "      <td>7</td>\n",
              "    </tr>\n",
              "  </tbody>\n",
              "</table>\n",
              "</div>\n",
              "      <button class=\"colab-df-convert\" onclick=\"convertToInteractive('df-1cbd32d7-8c26-402e-a112-977c8941be5e')\"\n",
              "              title=\"Convert this dataframe to an interactive table.\"\n",
              "              style=\"display:none;\">\n",
              "        \n",
              "  <svg xmlns=\"http://www.w3.org/2000/svg\" height=\"24px\"viewBox=\"0 0 24 24\"\n",
              "       width=\"24px\">\n",
              "    <path d=\"M0 0h24v24H0V0z\" fill=\"none\"/>\n",
              "    <path d=\"M18.56 5.44l.94 2.06.94-2.06 2.06-.94-2.06-.94-.94-2.06-.94 2.06-2.06.94zm-11 1L8.5 8.5l.94-2.06 2.06-.94-2.06-.94L8.5 2.5l-.94 2.06-2.06.94zm10 10l.94 2.06.94-2.06 2.06-.94-2.06-.94-.94-2.06-.94 2.06-2.06.94z\"/><path d=\"M17.41 7.96l-1.37-1.37c-.4-.4-.92-.59-1.43-.59-.52 0-1.04.2-1.43.59L10.3 9.45l-7.72 7.72c-.78.78-.78 2.05 0 2.83L4 21.41c.39.39.9.59 1.41.59.51 0 1.02-.2 1.41-.59l7.78-7.78 2.81-2.81c.8-.78.8-2.07 0-2.86zM5.41 20L4 18.59l7.72-7.72 1.47 1.35L5.41 20z\"/>\n",
              "  </svg>\n",
              "      </button>\n",
              "      \n",
              "  <style>\n",
              "    .colab-df-container {\n",
              "      display:flex;\n",
              "      flex-wrap:wrap;\n",
              "      gap: 12px;\n",
              "    }\n",
              "\n",
              "    .colab-df-convert {\n",
              "      background-color: #E8F0FE;\n",
              "      border: none;\n",
              "      border-radius: 50%;\n",
              "      cursor: pointer;\n",
              "      display: none;\n",
              "      fill: #1967D2;\n",
              "      height: 32px;\n",
              "      padding: 0 0 0 0;\n",
              "      width: 32px;\n",
              "    }\n",
              "\n",
              "    .colab-df-convert:hover {\n",
              "      background-color: #E2EBFA;\n",
              "      box-shadow: 0px 1px 2px rgba(60, 64, 67, 0.3), 0px 1px 3px 1px rgba(60, 64, 67, 0.15);\n",
              "      fill: #174EA6;\n",
              "    }\n",
              "\n",
              "    [theme=dark] .colab-df-convert {\n",
              "      background-color: #3B4455;\n",
              "      fill: #D2E3FC;\n",
              "    }\n",
              "\n",
              "    [theme=dark] .colab-df-convert:hover {\n",
              "      background-color: #434B5C;\n",
              "      box-shadow: 0px 1px 3px 1px rgba(0, 0, 0, 0.15);\n",
              "      filter: drop-shadow(0px 1px 2px rgba(0, 0, 0, 0.3));\n",
              "      fill: #FFFFFF;\n",
              "    }\n",
              "  </style>\n",
              "\n",
              "      <script>\n",
              "        const buttonEl =\n",
              "          document.querySelector('#df-1cbd32d7-8c26-402e-a112-977c8941be5e button.colab-df-convert');\n",
              "        buttonEl.style.display =\n",
              "          google.colab.kernel.accessAllowed ? 'block' : 'none';\n",
              "\n",
              "        async function convertToInteractive(key) {\n",
              "          const element = document.querySelector('#df-1cbd32d7-8c26-402e-a112-977c8941be5e');\n",
              "          const dataTable =\n",
              "            await google.colab.kernel.invokeFunction('convertToInteractive',\n",
              "                                                     [key], {});\n",
              "          if (!dataTable) return;\n",
              "\n",
              "          const docLinkHtml = 'Like what you see? Visit the ' +\n",
              "            '<a target=\"_blank\" href=https://colab.research.google.com/notebooks/data_table.ipynb>data table notebook</a>'\n",
              "            + ' to learn more about interactive tables.';\n",
              "          element.innerHTML = '';\n",
              "          dataTable['output_type'] = 'display_data';\n",
              "          await google.colab.output.renderOutput(dataTable, element);\n",
              "          const docLink = document.createElement('div');\n",
              "          docLink.innerHTML = docLinkHtml;\n",
              "          element.appendChild(docLink);\n",
              "        }\n",
              "      </script>\n",
              "    </div>\n",
              "  </div>\n",
              "  "
            ]
          },
          "metadata": {},
          "execution_count": 22
        }
      ],
      "source": [
        "selected_features.head()"
      ]
    },
    {
      "cell_type": "code",
      "execution_count": 23,
      "metadata": {
        "id": "-byLEZ8GBnNM",
        "colab": {
          "base_uri": "https://localhost:8080/"
        },
        "outputId": "28102cf8-700d-4831-c4d2-25342a453f47"
      },
      "outputs": [
        {
          "output_type": "execute_result",
          "data": {
            "text/plain": [
              "0    79\n",
              "1    92\n",
              "2    85\n",
              "3    86\n",
              "4    94\n",
              "Name: Popularity, dtype: int64"
            ]
          },
          "metadata": {},
          "execution_count": 23
        }
      ],
      "source": [
        "songs_popularity.head(5)"
      ]
    },
    {
      "cell_type": "markdown",
      "metadata": {
        "id": "7Cdiq6BrjEnt"
      },
      "source": [
        "**Fill zeros in to Empty cell**"
      ]
    },
    {
      "cell_type": "code",
      "execution_count": 97,
      "metadata": {
        "id": "9CrC_lgPDNEV"
      },
      "outputs": [],
      "source": [
        "#replacing the null field with 0\n",
        "for feature in selected_features:\n",
        " song_data[feature] = song_data[feature].fillna(0)"
      ]
    },
    {
      "cell_type": "markdown",
      "metadata": {
        "id": "B0aCWnA6DBF2"
      },
      "source": [
        "##Spliting data in to Training and Testing"
      ]
    },
    {
      "cell_type": "code",
      "execution_count": 25,
      "metadata": {
        "id": "BsxMJURDDHi_",
        "colab": {
          "base_uri": "https://localhost:8080/"
        },
        "outputId": "687a9374-3770-4dfe-cf7c-934c89e2e3b1"
      },
      "outputs": [
        {
          "output_type": "stream",
          "name": "stdout",
          "text": [
            "(33, 11)\n",
            "(33,)\n",
            "(17, 11)\n",
            "(17,)\n"
          ]
        }
      ],
      "source": [
        "#Splitting into train and test data\n",
        "from sklearn.model_selection import train_test_split\n",
        "x_train,x_test,y_train,y_test = train_test_split(selected_features,songs_popularity,test_size = 1/3)\n",
        "#x_train get some random data to train the model as per sixe of test_size, greater the test size less will be train data \n",
        "#y_train get the same number of crosspondingnoutput values of x_train\n",
        "print(x_train.shape)\n",
        "print(y_train.shape)\n",
        "#X-test-get the test data from the dataset , size of the test data is specified by the programmer  \n",
        "#y_test get the same number of crosspondingnoutput values of y_test\n",
        "print(x_test.shape)\n",
        "print(y_test.shape)\n",
        "#Random-state specifies the Randomness in the data set and the repetation of the data set for validation"
      ]
    },
    {
      "cell_type": "markdown",
      "metadata": {
        "id": "TFMrxfZWDp0W"
      },
      "source": [
        "##Random forest Regressor Algorithm"
      ]
    },
    {
      "cell_type": "code",
      "execution_count": 26,
      "metadata": {
        "id": "bt_f4EghDuFF",
        "colab": {
          "base_uri": "https://localhost:8080/"
        },
        "outputId": "860ed6d6-281f-43bf-c26c-73a071af31cf"
      },
      "outputs": [
        {
          "output_type": "execute_result",
          "data": {
            "text/plain": [
              "RandomForestRegressor()"
            ]
          },
          "metadata": {},
          "execution_count": 26
        }
      ],
      "source": [
        "# Initialzing empty lists to append all model's name and corresponding name\n",
        "data = []  # initialize a array to store the trained data \n",
        "Random_Forest = RandomForestRegressor() #creating the instances of RandomForest Regressor\n",
        "Random_Forest.fit(x_train.values,y_train.values)# it will train the model. Which can be used in predict() with a single arguement"
      ]
    },
    {
      "cell_type": "code",
      "execution_count": 27,
      "metadata": {
        "id": "5UdRf5EEIwSM"
      },
      "outputs": [],
      "source": [
        "y_predict = Random_Forest.predict(x_test.values)\n",
        "#y_predict = Random_Forest.predict(x_test)"
      ]
    },
    {
      "cell_type": "code",
      "execution_count": 28,
      "metadata": {
        "id": "btEwq3nPJF9S",
        "colab": {
          "base_uri": "https://localhost:8080/"
        },
        "outputId": "89f00b19-3479-43da-e3dc-d3b7f8963cbb"
      },
      "outputs": [
        {
          "output_type": "execute_result",
          "data": {
            "text/plain": [
              "array([87.52, 87.84, 88.7 , 87.85, 88.06, 86.54, 87.7 , 88.15, 88.13,\n",
              "       85.25, 88.53, 87.56, 88.25, 87.11, 87.96, 87.58, 86.4 ])"
            ]
          },
          "metadata": {},
          "execution_count": 28
        }
      ],
      "source": [
        "y_predict"
      ]
    },
    {
      "cell_type": "markdown",
      "metadata": {
        "id": "tXNWyQC3QuBU"
      },
      "source": [
        "**Checking Mean Squared Error for Random Forest Regressor**"
      ]
    },
    {
      "cell_type": "code",
      "execution_count": 29,
      "metadata": {
        "id": "sCb4bviaJOyj",
        "colab": {
          "base_uri": "https://localhost:8080/"
        },
        "outputId": "64fdb145-a2c2-4540-e34c-5b48265329dc"
      },
      "outputs": [
        {
          "output_type": "execute_result",
          "data": {
            "text/plain": [
              "17.606041176470583"
            ]
          },
          "metadata": {},
          "execution_count": 29
        }
      ],
      "source": [
        "from sklearn.metrics  import  mean_squared_error\n",
        "mean_squared_error(y_test, y_predict)"
      ]
    },
    {
      "cell_type": "code",
      "execution_count": 30,
      "metadata": {
        "id": "57_IN5RfJ4XV",
        "colab": {
          "base_uri": "https://localhost:8080/"
        },
        "outputId": "8eb1adbb-8db1-43ff-e467-082ffce70c80"
      },
      "outputs": [
        {
          "output_type": "execute_result",
          "data": {
            "text/plain": [
              "4.1959553353760315"
            ]
          },
          "metadata": {},
          "execution_count": 30
        }
      ],
      "source": [
        "np.sqrt(mean_squared_error(y_test, y_predict))"
      ]
    },
    {
      "cell_type": "markdown",
      "metadata": {
        "id": "3w6v-MbxkXu2"
      },
      "source": [
        "##Linear Regression Algorithm"
      ]
    },
    {
      "cell_type": "code",
      "execution_count": 31,
      "metadata": {
        "id": "hW4GZW25kzx5",
        "colab": {
          "base_uri": "https://localhost:8080/"
        },
        "outputId": "5957d962-d027-4129-d283-44a649587d62"
      },
      "outputs": [
        {
          "output_type": "execute_result",
          "data": {
            "text/plain": [
              "0.29260241088922856"
            ]
          },
          "metadata": {},
          "execution_count": 31
        }
      ],
      "source": [
        "import numpy as np\n",
        "from sklearn.linear_model import LinearRegression\n",
        "reg = LinearRegression().fit(x_train, y_train)\n",
        "reg.score(x_train, y_train)\n"
      ]
    },
    {
      "cell_type": "code",
      "execution_count": 32,
      "metadata": {
        "id": "SVEePhH-lqpb",
        "colab": {
          "base_uri": "https://localhost:8080/"
        },
        "outputId": "98ced325-88e4-4e23-bbe4-46104f10851e"
      },
      "outputs": [
        {
          "output_type": "execute_result",
          "data": {
            "text/plain": [
              "array([85.02794624, 88.9025519 , 86.99439276, 84.70755607, 85.80693928,\n",
              "       80.24015944, 92.57772339, 81.31065987, 86.85865188, 87.04988626,\n",
              "       85.73949737, 88.32182142, 86.80714503, 87.17079074, 85.7393839 ,\n",
              "       87.73944209, 82.72177931])"
            ]
          },
          "metadata": {},
          "execution_count": 32
        }
      ],
      "source": [
        "Reg_predict =reg.predict(x_test)\n",
        "Reg_predict"
      ]
    },
    {
      "cell_type": "markdown",
      "metadata": {
        "id": "_A2h_b7vnGdk"
      },
      "source": [
        "**Checking Mean Squared Error for Linear Regression**"
      ]
    },
    {
      "cell_type": "code",
      "execution_count": 33,
      "metadata": {
        "id": "om8jmLAbm3m1",
        "colab": {
          "base_uri": "https://localhost:8080/"
        },
        "outputId": "a00d2bb1-3f5e-4664-829c-41c0fd2f5163"
      },
      "outputs": [
        {
          "output_type": "execute_result",
          "data": {
            "text/plain": [
              "23.336053478675616"
            ]
          },
          "metadata": {},
          "execution_count": 33
        }
      ],
      "source": [
        "from sklearn.metrics  import  mean_squared_error\n",
        "mean_squared_error(y_test, Reg_predict)"
      ]
    },
    {
      "cell_type": "code",
      "execution_count": 34,
      "metadata": {
        "id": "ZDGz1TDSm-NY",
        "colab": {
          "base_uri": "https://localhost:8080/"
        },
        "outputId": "813da8f2-f1fc-48fe-fcbe-5f773c22d829"
      },
      "outputs": [
        {
          "output_type": "execute_result",
          "data": {
            "text/plain": [
              "4.830740468983572"
            ]
          },
          "metadata": {},
          "execution_count": 34
        }
      ],
      "source": [
        "np.sqrt(mean_squared_error(y_test, Reg_predict))"
      ]
    },
    {
      "cell_type": "code",
      "source": [
        "#The Artistname and Genre have the String values so we need to convert them to numerical value \n",
        "def encode(data): \n",
        "  label_encode = LabelEncoder()\n",
        "  #label_genre = label_encode.fit_transform()\n",
        "  label = label_encode.fit_transform(data)\n",
        "  return label"
      ],
      "metadata": {
        "id": "BiAqBQL1jS_M"
      },
      "execution_count": 35,
      "outputs": []
    },
    {
      "cell_type": "code",
      "source": [
        "#song_data.drop(\"Genre\", axis=1, inplace=True) song_data['Genre'] 'Artist.Name']\n",
        " \n",
        "# Appending the array to our dataFrame\n",
        "# with column name 'Purchased'\n",
        "song_data[\"Genre\"] = encode(song_data[\"Genre\"])\n",
        "song_data[\"Artist.Name\"] =encode(song_data[\"Artist.Name\"])\n",
        "song_data[\"Track.Name\"] =encode(song_data[\"Track.Name\"])\n",
        "# printing Dataframe\n",
        "song_data.head(5)"
      ],
      "metadata": {
        "id": "rhE7Y7e2jSNg",
        "colab": {
          "base_uri": "https://localhost:8080/",
          "height": 206
        },
        "outputId": "ea1175ec-325d-4bdc-91b3-81a77d674b5e"
      },
      "execution_count": 36,
      "outputs": [
        {
          "output_type": "execute_result",
          "data": {
            "text/plain": [
              "   Unnamed: 0  Track.Name  Artist.Name  Genre  Beats.Per.Minute  Energy  \\\n",
              "0           1          33           32      6               117      55   \n",
              "1           2           6            1     19               105      81   \n",
              "2           3          48            2      8               190      80   \n",
              "3           4           3            9     15                93      65   \n",
              "4           5          11           28      9               150      65   \n",
              "\n",
              "   Danceability  Loudness..dB..  Liveness  Valence.  Length.  Acousticness..  \\\n",
              "0            76              -6         8        75      191               4   \n",
              "1            79              -4         8        61      302               8   \n",
              "2            40              -4        16        70      186              12   \n",
              "3            64              -8         8        55      198              12   \n",
              "4            58              -4        11        18      175              45   \n",
              "\n",
              "   Speechiness.  Popularity  \n",
              "0             3          79  \n",
              "1             9          92  \n",
              "2            46          85  \n",
              "3            19          86  \n",
              "4             7          94  "
            ],
            "text/html": [
              "\n",
              "  <div id=\"df-88b23303-3b07-43c1-adb9-7f8faf11c997\">\n",
              "    <div class=\"colab-df-container\">\n",
              "      <div>\n",
              "<style scoped>\n",
              "    .dataframe tbody tr th:only-of-type {\n",
              "        vertical-align: middle;\n",
              "    }\n",
              "\n",
              "    .dataframe tbody tr th {\n",
              "        vertical-align: top;\n",
              "    }\n",
              "\n",
              "    .dataframe thead th {\n",
              "        text-align: right;\n",
              "    }\n",
              "</style>\n",
              "<table border=\"1\" class=\"dataframe\">\n",
              "  <thead>\n",
              "    <tr style=\"text-align: right;\">\n",
              "      <th></th>\n",
              "      <th>Unnamed: 0</th>\n",
              "      <th>Track.Name</th>\n",
              "      <th>Artist.Name</th>\n",
              "      <th>Genre</th>\n",
              "      <th>Beats.Per.Minute</th>\n",
              "      <th>Energy</th>\n",
              "      <th>Danceability</th>\n",
              "      <th>Loudness..dB..</th>\n",
              "      <th>Liveness</th>\n",
              "      <th>Valence.</th>\n",
              "      <th>Length.</th>\n",
              "      <th>Acousticness..</th>\n",
              "      <th>Speechiness.</th>\n",
              "      <th>Popularity</th>\n",
              "    </tr>\n",
              "  </thead>\n",
              "  <tbody>\n",
              "    <tr>\n",
              "      <th>0</th>\n",
              "      <td>1</td>\n",
              "      <td>33</td>\n",
              "      <td>32</td>\n",
              "      <td>6</td>\n",
              "      <td>117</td>\n",
              "      <td>55</td>\n",
              "      <td>76</td>\n",
              "      <td>-6</td>\n",
              "      <td>8</td>\n",
              "      <td>75</td>\n",
              "      <td>191</td>\n",
              "      <td>4</td>\n",
              "      <td>3</td>\n",
              "      <td>79</td>\n",
              "    </tr>\n",
              "    <tr>\n",
              "      <th>1</th>\n",
              "      <td>2</td>\n",
              "      <td>6</td>\n",
              "      <td>1</td>\n",
              "      <td>19</td>\n",
              "      <td>105</td>\n",
              "      <td>81</td>\n",
              "      <td>79</td>\n",
              "      <td>-4</td>\n",
              "      <td>8</td>\n",
              "      <td>61</td>\n",
              "      <td>302</td>\n",
              "      <td>8</td>\n",
              "      <td>9</td>\n",
              "      <td>92</td>\n",
              "    </tr>\n",
              "    <tr>\n",
              "      <th>2</th>\n",
              "      <td>3</td>\n",
              "      <td>48</td>\n",
              "      <td>2</td>\n",
              "      <td>8</td>\n",
              "      <td>190</td>\n",
              "      <td>80</td>\n",
              "      <td>40</td>\n",
              "      <td>-4</td>\n",
              "      <td>16</td>\n",
              "      <td>70</td>\n",
              "      <td>186</td>\n",
              "      <td>12</td>\n",
              "      <td>46</td>\n",
              "      <td>85</td>\n",
              "    </tr>\n",
              "    <tr>\n",
              "      <th>3</th>\n",
              "      <td>4</td>\n",
              "      <td>3</td>\n",
              "      <td>9</td>\n",
              "      <td>15</td>\n",
              "      <td>93</td>\n",
              "      <td>65</td>\n",
              "      <td>64</td>\n",
              "      <td>-8</td>\n",
              "      <td>8</td>\n",
              "      <td>55</td>\n",
              "      <td>198</td>\n",
              "      <td>12</td>\n",
              "      <td>19</td>\n",
              "      <td>86</td>\n",
              "    </tr>\n",
              "    <tr>\n",
              "      <th>4</th>\n",
              "      <td>5</td>\n",
              "      <td>11</td>\n",
              "      <td>28</td>\n",
              "      <td>9</td>\n",
              "      <td>150</td>\n",
              "      <td>65</td>\n",
              "      <td>58</td>\n",
              "      <td>-4</td>\n",
              "      <td>11</td>\n",
              "      <td>18</td>\n",
              "      <td>175</td>\n",
              "      <td>45</td>\n",
              "      <td>7</td>\n",
              "      <td>94</td>\n",
              "    </tr>\n",
              "  </tbody>\n",
              "</table>\n",
              "</div>\n",
              "      <button class=\"colab-df-convert\" onclick=\"convertToInteractive('df-88b23303-3b07-43c1-adb9-7f8faf11c997')\"\n",
              "              title=\"Convert this dataframe to an interactive table.\"\n",
              "              style=\"display:none;\">\n",
              "        \n",
              "  <svg xmlns=\"http://www.w3.org/2000/svg\" height=\"24px\"viewBox=\"0 0 24 24\"\n",
              "       width=\"24px\">\n",
              "    <path d=\"M0 0h24v24H0V0z\" fill=\"none\"/>\n",
              "    <path d=\"M18.56 5.44l.94 2.06.94-2.06 2.06-.94-2.06-.94-.94-2.06-.94 2.06-2.06.94zm-11 1L8.5 8.5l.94-2.06 2.06-.94-2.06-.94L8.5 2.5l-.94 2.06-2.06.94zm10 10l.94 2.06.94-2.06 2.06-.94-2.06-.94-.94-2.06-.94 2.06-2.06.94z\"/><path d=\"M17.41 7.96l-1.37-1.37c-.4-.4-.92-.59-1.43-.59-.52 0-1.04.2-1.43.59L10.3 9.45l-7.72 7.72c-.78.78-.78 2.05 0 2.83L4 21.41c.39.39.9.59 1.41.59.51 0 1.02-.2 1.41-.59l7.78-7.78 2.81-2.81c.8-.78.8-2.07 0-2.86zM5.41 20L4 18.59l7.72-7.72 1.47 1.35L5.41 20z\"/>\n",
              "  </svg>\n",
              "      </button>\n",
              "      \n",
              "  <style>\n",
              "    .colab-df-container {\n",
              "      display:flex;\n",
              "      flex-wrap:wrap;\n",
              "      gap: 12px;\n",
              "    }\n",
              "\n",
              "    .colab-df-convert {\n",
              "      background-color: #E8F0FE;\n",
              "      border: none;\n",
              "      border-radius: 50%;\n",
              "      cursor: pointer;\n",
              "      display: none;\n",
              "      fill: #1967D2;\n",
              "      height: 32px;\n",
              "      padding: 0 0 0 0;\n",
              "      width: 32px;\n",
              "    }\n",
              "\n",
              "    .colab-df-convert:hover {\n",
              "      background-color: #E2EBFA;\n",
              "      box-shadow: 0px 1px 2px rgba(60, 64, 67, 0.3), 0px 1px 3px 1px rgba(60, 64, 67, 0.15);\n",
              "      fill: #174EA6;\n",
              "    }\n",
              "\n",
              "    [theme=dark] .colab-df-convert {\n",
              "      background-color: #3B4455;\n",
              "      fill: #D2E3FC;\n",
              "    }\n",
              "\n",
              "    [theme=dark] .colab-df-convert:hover {\n",
              "      background-color: #434B5C;\n",
              "      box-shadow: 0px 1px 3px 1px rgba(0, 0, 0, 0.15);\n",
              "      filter: drop-shadow(0px 1px 2px rgba(0, 0, 0, 0.3));\n",
              "      fill: #FFFFFF;\n",
              "    }\n",
              "  </style>\n",
              "\n",
              "      <script>\n",
              "        const buttonEl =\n",
              "          document.querySelector('#df-88b23303-3b07-43c1-adb9-7f8faf11c997 button.colab-df-convert');\n",
              "        buttonEl.style.display =\n",
              "          google.colab.kernel.accessAllowed ? 'block' : 'none';\n",
              "\n",
              "        async function convertToInteractive(key) {\n",
              "          const element = document.querySelector('#df-88b23303-3b07-43c1-adb9-7f8faf11c997');\n",
              "          const dataTable =\n",
              "            await google.colab.kernel.invokeFunction('convertToInteractive',\n",
              "                                                     [key], {});\n",
              "          if (!dataTable) return;\n",
              "\n",
              "          const docLinkHtml = 'Like what you see? Visit the ' +\n",
              "            '<a target=\"_blank\" href=https://colab.research.google.com/notebooks/data_table.ipynb>data table notebook</a>'\n",
              "            + ' to learn more about interactive tables.';\n",
              "          element.innerHTML = '';\n",
              "          dataTable['output_type'] = 'display_data';\n",
              "          await google.colab.output.renderOutput(dataTable, element);\n",
              "          const docLink = document.createElement('div');\n",
              "          docLink.innerHTML = docLinkHtml;\n",
              "          element.appendChild(docLink);\n",
              "        }\n",
              "      </script>\n",
              "    </div>\n",
              "  </div>\n",
              "  "
            ]
          },
          "metadata": {},
          "execution_count": 36
        }
      ]
    },
    {
      "cell_type": "code",
      "source": [
        "song_data.drop(['Unnamed: 0'], axis=1)\n",
        "song_data.head(5)"
      ],
      "metadata": {
        "id": "JqStAjImWpzI",
        "colab": {
          "base_uri": "https://localhost:8080/",
          "height": 206
        },
        "outputId": "f08b0319-388f-428c-ce67-1fa5d9a8438c"
      },
      "execution_count": 138,
      "outputs": [
        {
          "output_type": "execute_result",
          "data": {
            "text/plain": [
              "   Unnamed: 0  Track.Name  Artist.Name  Genre  Beats.Per.Minute  Energy  \\\n",
              "0           1          33           32      6               117      55   \n",
              "1           2           6            1     19               105      81   \n",
              "2           3          48            2      8               190      80   \n",
              "3           4           3            9     15                93      65   \n",
              "4           5          11           28      9               150      65   \n",
              "\n",
              "   Danceability  Loudness..dB..  Liveness  Valence.  Length.  Acousticness..  \\\n",
              "0            76              -6         8        75      191               4   \n",
              "1            79              -4         8        61      302               8   \n",
              "2            40              -4        16        70      186              12   \n",
              "3            64              -8         8        55      198              12   \n",
              "4            58              -4        11        18      175              45   \n",
              "\n",
              "   Speechiness.  Popularity  \n",
              "0             3          79  \n",
              "1             9          92  \n",
              "2            46          85  \n",
              "3            19          86  \n",
              "4             7          94  "
            ],
            "text/html": [
              "\n",
              "  <div id=\"df-cb56e2dd-0c90-4e6a-b451-b74bae66992d\">\n",
              "    <div class=\"colab-df-container\">\n",
              "      <div>\n",
              "<style scoped>\n",
              "    .dataframe tbody tr th:only-of-type {\n",
              "        vertical-align: middle;\n",
              "    }\n",
              "\n",
              "    .dataframe tbody tr th {\n",
              "        vertical-align: top;\n",
              "    }\n",
              "\n",
              "    .dataframe thead th {\n",
              "        text-align: right;\n",
              "    }\n",
              "</style>\n",
              "<table border=\"1\" class=\"dataframe\">\n",
              "  <thead>\n",
              "    <tr style=\"text-align: right;\">\n",
              "      <th></th>\n",
              "      <th>Unnamed: 0</th>\n",
              "      <th>Track.Name</th>\n",
              "      <th>Artist.Name</th>\n",
              "      <th>Genre</th>\n",
              "      <th>Beats.Per.Minute</th>\n",
              "      <th>Energy</th>\n",
              "      <th>Danceability</th>\n",
              "      <th>Loudness..dB..</th>\n",
              "      <th>Liveness</th>\n",
              "      <th>Valence.</th>\n",
              "      <th>Length.</th>\n",
              "      <th>Acousticness..</th>\n",
              "      <th>Speechiness.</th>\n",
              "      <th>Popularity</th>\n",
              "    </tr>\n",
              "  </thead>\n",
              "  <tbody>\n",
              "    <tr>\n",
              "      <th>0</th>\n",
              "      <td>1</td>\n",
              "      <td>33</td>\n",
              "      <td>32</td>\n",
              "      <td>6</td>\n",
              "      <td>117</td>\n",
              "      <td>55</td>\n",
              "      <td>76</td>\n",
              "      <td>-6</td>\n",
              "      <td>8</td>\n",
              "      <td>75</td>\n",
              "      <td>191</td>\n",
              "      <td>4</td>\n",
              "      <td>3</td>\n",
              "      <td>79</td>\n",
              "    </tr>\n",
              "    <tr>\n",
              "      <th>1</th>\n",
              "      <td>2</td>\n",
              "      <td>6</td>\n",
              "      <td>1</td>\n",
              "      <td>19</td>\n",
              "      <td>105</td>\n",
              "      <td>81</td>\n",
              "      <td>79</td>\n",
              "      <td>-4</td>\n",
              "      <td>8</td>\n",
              "      <td>61</td>\n",
              "      <td>302</td>\n",
              "      <td>8</td>\n",
              "      <td>9</td>\n",
              "      <td>92</td>\n",
              "    </tr>\n",
              "    <tr>\n",
              "      <th>2</th>\n",
              "      <td>3</td>\n",
              "      <td>48</td>\n",
              "      <td>2</td>\n",
              "      <td>8</td>\n",
              "      <td>190</td>\n",
              "      <td>80</td>\n",
              "      <td>40</td>\n",
              "      <td>-4</td>\n",
              "      <td>16</td>\n",
              "      <td>70</td>\n",
              "      <td>186</td>\n",
              "      <td>12</td>\n",
              "      <td>46</td>\n",
              "      <td>85</td>\n",
              "    </tr>\n",
              "    <tr>\n",
              "      <th>3</th>\n",
              "      <td>4</td>\n",
              "      <td>3</td>\n",
              "      <td>9</td>\n",
              "      <td>15</td>\n",
              "      <td>93</td>\n",
              "      <td>65</td>\n",
              "      <td>64</td>\n",
              "      <td>-8</td>\n",
              "      <td>8</td>\n",
              "      <td>55</td>\n",
              "      <td>198</td>\n",
              "      <td>12</td>\n",
              "      <td>19</td>\n",
              "      <td>86</td>\n",
              "    </tr>\n",
              "    <tr>\n",
              "      <th>4</th>\n",
              "      <td>5</td>\n",
              "      <td>11</td>\n",
              "      <td>28</td>\n",
              "      <td>9</td>\n",
              "      <td>150</td>\n",
              "      <td>65</td>\n",
              "      <td>58</td>\n",
              "      <td>-4</td>\n",
              "      <td>11</td>\n",
              "      <td>18</td>\n",
              "      <td>175</td>\n",
              "      <td>45</td>\n",
              "      <td>7</td>\n",
              "      <td>94</td>\n",
              "    </tr>\n",
              "  </tbody>\n",
              "</table>\n",
              "</div>\n",
              "      <button class=\"colab-df-convert\" onclick=\"convertToInteractive('df-cb56e2dd-0c90-4e6a-b451-b74bae66992d')\"\n",
              "              title=\"Convert this dataframe to an interactive table.\"\n",
              "              style=\"display:none;\">\n",
              "        \n",
              "  <svg xmlns=\"http://www.w3.org/2000/svg\" height=\"24px\"viewBox=\"0 0 24 24\"\n",
              "       width=\"24px\">\n",
              "    <path d=\"M0 0h24v24H0V0z\" fill=\"none\"/>\n",
              "    <path d=\"M18.56 5.44l.94 2.06.94-2.06 2.06-.94-2.06-.94-.94-2.06-.94 2.06-2.06.94zm-11 1L8.5 8.5l.94-2.06 2.06-.94-2.06-.94L8.5 2.5l-.94 2.06-2.06.94zm10 10l.94 2.06.94-2.06 2.06-.94-2.06-.94-.94-2.06-.94 2.06-2.06.94z\"/><path d=\"M17.41 7.96l-1.37-1.37c-.4-.4-.92-.59-1.43-.59-.52 0-1.04.2-1.43.59L10.3 9.45l-7.72 7.72c-.78.78-.78 2.05 0 2.83L4 21.41c.39.39.9.59 1.41.59.51 0 1.02-.2 1.41-.59l7.78-7.78 2.81-2.81c.8-.78.8-2.07 0-2.86zM5.41 20L4 18.59l7.72-7.72 1.47 1.35L5.41 20z\"/>\n",
              "  </svg>\n",
              "      </button>\n",
              "      \n",
              "  <style>\n",
              "    .colab-df-container {\n",
              "      display:flex;\n",
              "      flex-wrap:wrap;\n",
              "      gap: 12px;\n",
              "    }\n",
              "\n",
              "    .colab-df-convert {\n",
              "      background-color: #E8F0FE;\n",
              "      border: none;\n",
              "      border-radius: 50%;\n",
              "      cursor: pointer;\n",
              "      display: none;\n",
              "      fill: #1967D2;\n",
              "      height: 32px;\n",
              "      padding: 0 0 0 0;\n",
              "      width: 32px;\n",
              "    }\n",
              "\n",
              "    .colab-df-convert:hover {\n",
              "      background-color: #E2EBFA;\n",
              "      box-shadow: 0px 1px 2px rgba(60, 64, 67, 0.3), 0px 1px 3px 1px rgba(60, 64, 67, 0.15);\n",
              "      fill: #174EA6;\n",
              "    }\n",
              "\n",
              "    [theme=dark] .colab-df-convert {\n",
              "      background-color: #3B4455;\n",
              "      fill: #D2E3FC;\n",
              "    }\n",
              "\n",
              "    [theme=dark] .colab-df-convert:hover {\n",
              "      background-color: #434B5C;\n",
              "      box-shadow: 0px 1px 3px 1px rgba(0, 0, 0, 0.15);\n",
              "      filter: drop-shadow(0px 1px 2px rgba(0, 0, 0, 0.3));\n",
              "      fill: #FFFFFF;\n",
              "    }\n",
              "  </style>\n",
              "\n",
              "      <script>\n",
              "        const buttonEl =\n",
              "          document.querySelector('#df-cb56e2dd-0c90-4e6a-b451-b74bae66992d button.colab-df-convert');\n",
              "        buttonEl.style.display =\n",
              "          google.colab.kernel.accessAllowed ? 'block' : 'none';\n",
              "\n",
              "        async function convertToInteractive(key) {\n",
              "          const element = document.querySelector('#df-cb56e2dd-0c90-4e6a-b451-b74bae66992d');\n",
              "          const dataTable =\n",
              "            await google.colab.kernel.invokeFunction('convertToInteractive',\n",
              "                                                     [key], {});\n",
              "          if (!dataTable) return;\n",
              "\n",
              "          const docLinkHtml = 'Like what you see? Visit the ' +\n",
              "            '<a target=\"_blank\" href=https://colab.research.google.com/notebooks/data_table.ipynb>data table notebook</a>'\n",
              "            + ' to learn more about interactive tables.';\n",
              "          element.innerHTML = '';\n",
              "          dataTable['output_type'] = 'display_data';\n",
              "          await google.colab.output.renderOutput(dataTable, element);\n",
              "          const docLink = document.createElement('div');\n",
              "          docLink.innerHTML = docLinkHtml;\n",
              "          element.appendChild(docLink);\n",
              "        }\n",
              "      </script>\n",
              "    </div>\n",
              "  </div>\n",
              "  "
            ]
          },
          "metadata": {},
          "execution_count": 138
        }
      ]
    },
    {
      "cell_type": "code",
      "source": [
        "from sklearn.metrics  import  mean_squared_error\n",
        "N = 13;\n",
        "n = 1;\n",
        " \n",
        "def fun1():\n",
        "    global N, n;\n",
        "    if (n <= N):\n",
        "      sc = song_data.iloc[:,n]\n",
        "      songs_popularity = song_data['Popularity']\n",
        "       #The output that the user get input from our dataset\n",
        "      x_train,x_test,y_train,y_test = train_test_split(sc,songs_popularity,test_size = 1/3)\n",
        "      x_train2 = x_train.values.reshape(-1, 1)\n",
        "      x_test2 = x_test.values.reshape(-1, 1)\n",
        "      y_train2 = y_train.values.reshape(-1, 1)\n",
        "      y_test2 = y_test.values.reshape(-1, 1)\n",
        "      reg = LinearRegression().fit(x_train2, y_train2)\n",
        "      reg_score = reg.score(x_train2, y_train2)\n",
        "      print(\"score ==> \",reg_score,\",index ==>\",n)\n",
        "      Reg_predict =reg.predict(x_test2)\n",
        "      mean = mean_squared_error(y_test2, Reg_predict)\n",
        "      print(\"mean square error ==> \",mean, \",index ==> \",n)\n",
        "      n += 1;\n",
        "      fun2();\n",
        "    else:\n",
        "        return;\n",
        "def fun2():\n",
        "    global N, n;\n",
        "    if (n <= N):\n",
        "        sc = song_data.iloc[:,n]\n",
        "        songs_popularity = song_data['Popularity'] #The output that the user get input from our dataset\n",
        "        x_train,x_test,y_train,y_test = train_test_split(sc,songs_popularity,test_size = 1/3)\n",
        "        x_train2 = x_train.values.reshape(-1, 1)\n",
        "        x_test2 = x_test.values.reshape(-1, 1)\n",
        "        y_train2 = y_train.values.reshape(-1, 1)\n",
        "        y_test2 = y_test.values.reshape(-1, 1)\n",
        "        reg = LinearRegression().fit(x_train2, y_train2)\n",
        "        reg_score = reg.score(x_train2, y_train2)\n",
        "        print(\"score ==> \",reg_score,\",index ==>\",n)\n",
        "        Reg_predict =reg.predict(x_test2)\n",
        "        mean = mean_squared_error(y_test2, Reg_predict)\n",
        "        print(\"mean square error ==> \",mean, \",index ==> \",n)\n",
        "        n += 1;\n",
        "        fun1();\n",
        "    else:\n",
        "        return;       "
      ],
      "metadata": {
        "id": "cdq0Ked2ZeSf"
      },
      "execution_count": 157,
      "outputs": []
    },
    {
      "cell_type": "code",
      "source": [
        "fun1()"
      ],
      "metadata": {
        "id": "XfZ8HFf_ZkFl",
        "colab": {
          "base_uri": "https://localhost:8080/"
        },
        "outputId": "d88e800b-f033-43ea-e412-4cfdce950dd0"
      },
      "execution_count": 158,
      "outputs": [
        {
          "output_type": "stream",
          "name": "stdout",
          "text": [
            "score ==>  0.00822808008015774 ,index ==> 1\n",
            "mean square error ==>  26.943609703862364 ,index ==>  1\n",
            "score ==>  0.002210424326498761 ,index ==> 2\n",
            "mean square error ==>  37.467502828697214 ,index ==>  2\n",
            "score ==>  0.07911680983449598 ,index ==> 3\n",
            "mean square error ==>  13.110714275030048 ,index ==>  3\n",
            "score ==>  0.00031019826665001915 ,index ==> 4\n",
            "mean square error ==>  16.229668994689433 ,index ==>  4\n",
            "score ==>  0.002163005648236793 ,index ==> 5\n",
            "mean square error ==>  35.92750869173162 ,index ==>  5\n",
            "score ==>  0.0029761967549274404 ,index ==> 6\n",
            "mean square error ==>  7.4672461164272566 ,index ==>  6\n",
            "score ==>  0.032200889680497724 ,index ==> 7\n",
            "mean square error ==>  18.884113431829576 ,index ==>  7\n",
            "score ==>  0.0007254281227633275 ,index ==> 8\n",
            "mean square error ==>  18.633649188270436 ,index ==>  8\n",
            "score ==>  0.15611397743797029 ,index ==> 9\n",
            "mean square error ==>  19.64879478009058 ,index ==>  9\n",
            "score ==>  0.0040196962600219655 ,index ==> 10\n",
            "mean square error ==>  31.968554348663165 ,index ==>  10\n",
            "score ==>  0.09139713998937293 ,index ==> 11\n",
            "mean square error ==>  39.324178900385974 ,index ==>  11\n",
            "score ==>  0.08790102072933503 ,index ==> 12\n",
            "mean square error ==>  11.273961996073904 ,index ==>  12\n",
            "score ==>  1.0 ,index ==> 13\n",
            "mean square error ==>  0.0 ,index ==>  13\n"
          ]
        }
      ]
    },
    {
      "cell_type": "code",
      "source": [
        ""
      ],
      "metadata": {
        "id": "odKCJpk-Ntzi"
      },
      "execution_count": 163,
      "outputs": []
    },
    {
      "cell_type": "markdown",
      "metadata": {
        "id": "pkqH8oh4_4GS"
      },
      "source": [
        "##Decision Tree Algorithm"
      ]
    },
    {
      "cell_type": "code",
      "execution_count": 40,
      "metadata": {
        "id": "tlm-kwjmBxmg",
        "colab": {
          "base_uri": "https://localhost:8080/"
        },
        "outputId": "2776c89f-b987-41af-ac91-2cce539f16d7"
      },
      "outputs": [
        {
          "output_type": "execute_result",
          "data": {
            "text/plain": [
              "DecisionTreeRegressor(random_state=0)"
            ]
          },
          "metadata": {},
          "execution_count": 40
        }
      ],
      "source": [
        "from sklearn.tree import DecisionTreeRegressor \n",
        "Decision_tree = DecisionTreeRegressor(random_state = 0)\n",
        "Decision_tree.fit(x_train.values,y_train.values)"
      ]
    },
    {
      "cell_type": "code",
      "execution_count": 41,
      "metadata": {
        "id": "QvS03ZyVEvpC",
        "colab": {
          "base_uri": "https://localhost:8080/"
        },
        "outputId": "9bd1eb91-6a63-48b3-f284-fb2b0a015bab"
      },
      "outputs": [
        {
          "output_type": "execute_result",
          "data": {
            "text/plain": [
              "array([89., 89., 91., 91., 89., 82., 89., 90., 91., 89., 86., 91., 84.,\n",
              "       88., 90., 89., 70.])"
            ]
          },
          "metadata": {},
          "execution_count": 41
        }
      ],
      "source": [
        "dec_predict =Decision_tree.predict(x_test.values)\n",
        "dec_predict"
      ]
    },
    {
      "cell_type": "markdown",
      "metadata": {
        "id": "UOQRriIBMsCO"
      },
      "source": [
        "**Checking Mean Squared Error for Decision tree**"
      ]
    },
    {
      "cell_type": "code",
      "execution_count": 42,
      "metadata": {
        "id": "EK141UIvFDMJ",
        "colab": {
          "base_uri": "https://localhost:8080/"
        },
        "outputId": "7a7297cd-e057-4e4e-e654-a58ac6ae0acf"
      },
      "outputs": [
        {
          "output_type": "execute_result",
          "data": {
            "text/plain": [
              "39.470588235294116"
            ]
          },
          "metadata": {},
          "execution_count": 42
        }
      ],
      "source": [
        "from sklearn.metrics  import  mean_squared_error\n",
        "mean_squared_error(y_test, dec_predict)"
      ]
    },
    {
      "cell_type": "code",
      "execution_count": 43,
      "metadata": {
        "id": "Z_NXAn3rFKQh",
        "colab": {
          "base_uri": "https://localhost:8080/"
        },
        "outputId": "d59ba0f4-2f13-4ce6-ad02-67254bba663c"
      },
      "outputs": [
        {
          "output_type": "execute_result",
          "data": {
            "text/plain": [
              "6.282562234892235"
            ]
          },
          "metadata": {},
          "execution_count": 43
        }
      ],
      "source": [
        "np.sqrt(mean_squared_error(y_test, dec_predict))"
      ]
    },
    {
      "cell_type": "markdown",
      "metadata": {
        "id": "jZOt2qd_GtXW"
      },
      "source": [
        "## SVM Algorithm"
      ]
    },
    {
      "cell_type": "code",
      "execution_count": 44,
      "metadata": {
        "id": "dsOzhxrJGxpb",
        "colab": {
          "base_uri": "https://localhost:8080/"
        },
        "outputId": "05432257-3456-44c5-dc7f-22a6b1cda9ab"
      },
      "outputs": [
        {
          "output_type": "execute_result",
          "data": {
            "text/plain": [
              "array([88.71526109, 88.77451086, 88.5205538 , 88.15033354, 88.29279472,\n",
              "       88.68055396, 88.57694671, 87.88326039, 88.70714171, 88.33896802,\n",
              "       88.26242718, 88.5584776 , 89.21472972, 88.73932944, 88.69479835,\n",
              "       88.48574119, 88.23771507])"
            ]
          },
          "metadata": {},
          "execution_count": 44
        }
      ],
      "source": [
        "from sklearn.svm import SVR\n",
        "from sklearn.pipeline import make_pipeline \n",
        "from sklearn.preprocessing import StandardScaler\n",
        "svm = make_pipeline(StandardScaler(), SVR(C=1.0, epsilon=0.2))\n",
        "svm.fit(x_train.values,y_train.values)\n",
        "svm_predict=svm.predict(x_test.values)\n",
        "svm_predict\n"
      ]
    },
    {
      "cell_type": "markdown",
      "metadata": {
        "id": "eVQN2FG7M7hx"
      },
      "source": [
        "**Checking Mean Squared Error for SVM Model**"
      ]
    },
    {
      "cell_type": "code",
      "execution_count": 45,
      "metadata": {
        "id": "l7B9YwiEH2Ty",
        "colab": {
          "base_uri": "https://localhost:8080/"
        },
        "outputId": "2f6eff8a-f1c2-4593-a1c3-b5be6bd45dbf"
      },
      "outputs": [
        {
          "output_type": "execute_result",
          "data": {
            "text/plain": [
              "15.726565333846262"
            ]
          },
          "metadata": {},
          "execution_count": 45
        }
      ],
      "source": [
        "from sklearn.metrics  import  mean_squared_error\n",
        "mean_squared_error(y_test, svm_predict)"
      ]
    },
    {
      "cell_type": "code",
      "execution_count": 46,
      "metadata": {
        "id": "UbJ9m_OJIK5F",
        "colab": {
          "base_uri": "https://localhost:8080/"
        },
        "outputId": "b7527535-35a8-4a58-a428-d4078c916e92"
      },
      "outputs": [
        {
          "output_type": "execute_result",
          "data": {
            "text/plain": [
              "3.965673377100825"
            ]
          },
          "metadata": {},
          "execution_count": 46
        }
      ],
      "source": [
        "np.sqrt(mean_squared_error(y_test, svm_predict))"
      ]
    },
    {
      "cell_type": "markdown",
      "source": [
        "##**K-Nearest Neighbor(KNN) Algorithm**"
      ],
      "metadata": {
        "id": "XO4kYh2OiREJ"
      }
    },
    {
      "cell_type": "code",
      "source": [
        "from sklearn.neighbors import KNeighborsRegressor\n",
        "knn = KNeighborsRegressor(n_neighbors=5)\n",
        "knn.fit(x_train, y_train)"
      ],
      "metadata": {
        "id": "W3iXbTSS7m4i",
        "colab": {
          "base_uri": "https://localhost:8080/"
        },
        "outputId": "a8adff4d-7b95-4bee-bab2-c24a8d51b823"
      },
      "execution_count": 47,
      "outputs": [
        {
          "output_type": "execute_result",
          "data": {
            "text/plain": [
              "KNeighborsRegressor()"
            ]
          },
          "metadata": {},
          "execution_count": 47
        }
      ]
    },
    {
      "cell_type": "code",
      "source": [
        "knn.score(x_test, y_test)"
      ],
      "metadata": {
        "id": "xZj9gQUZ71ql",
        "colab": {
          "base_uri": "https://localhost:8080/"
        },
        "outputId": "b4e4f317-284b-492a-d12e-72be9596c703"
      },
      "execution_count": 48,
      "outputs": [
        {
          "output_type": "execute_result",
          "data": {
            "text/plain": [
              "0.09268054940186088"
            ]
          },
          "metadata": {},
          "execution_count": 48
        }
      ]
    },
    {
      "cell_type": "code",
      "source": [
        "knn_predict =knn.predict(x_test.values)\n",
        "knn_predict"
      ],
      "metadata": {
        "id": "IT7fqmbOmlms",
        "colab": {
          "base_uri": "https://localhost:8080/"
        },
        "outputId": "9c0ffe1d-dc16-4c4f-a523-ee23805e0fb5"
      },
      "execution_count": 49,
      "outputs": [
        {
          "output_type": "stream",
          "name": "stderr",
          "text": [
            "/usr/local/lib/python3.7/dist-packages/sklearn/base.py:451: UserWarning: X does not have valid feature names, but KNeighborsRegressor was fitted with feature names\n",
            "  \"X does not have valid feature names, but\"\n"
          ]
        },
        {
          "output_type": "execute_result",
          "data": {
            "text/plain": [
              "array([90.2, 89.4, 88.2, 85.8, 88.4, 89. , 87.8, 82.2, 89.4, 88. , 87.8,\n",
              "       86.2, 88.4, 88.2, 88.6, 87.4, 86.2])"
            ]
          },
          "metadata": {},
          "execution_count": 49
        }
      ]
    },
    {
      "cell_type": "markdown",
      "source": [
        "**Checking Mean Squared Error for KNN Model**"
      ],
      "metadata": {
        "id": "Z_bSmGh0n7vY"
      }
    },
    {
      "cell_type": "code",
      "source": [
        "from sklearn.metrics  import  mean_squared_error\n",
        "mean_squared_error(y_test, knn_predict)"
      ],
      "metadata": {
        "id": "U-89Oj9lmG3p",
        "colab": {
          "base_uri": "https://localhost:8080/"
        },
        "outputId": "53101f1d-47ff-4699-bb85-a618dc0801ec"
      },
      "execution_count": 50,
      "outputs": [
        {
          "output_type": "execute_result",
          "data": {
            "text/plain": [
              "14.171764705882353"
            ]
          },
          "metadata": {},
          "execution_count": 50
        }
      ]
    },
    {
      "cell_type": "code",
      "source": [
        "np.sqrt(mean_squared_error(y_test, knn_predict))"
      ],
      "metadata": {
        "id": "JaagPKv5nWCb",
        "colab": {
          "base_uri": "https://localhost:8080/"
        },
        "outputId": "87de6cfc-663d-4676-d69e-01f6dbf4e25e"
      },
      "execution_count": 51,
      "outputs": [
        {
          "output_type": "execute_result",
          "data": {
            "text/plain": [
              "3.764540437541129"
            ]
          },
          "metadata": {},
          "execution_count": 51
        }
      ]
    },
    {
      "cell_type": "markdown",
      "metadata": {
        "id": "OhGx_PDQOcIO"
      },
      "source": [
        "##Gaussian Regression"
      ]
    },
    {
      "cell_type": "code",
      "execution_count": 52,
      "metadata": {
        "id": "JW3ltxRfOhXe"
      },
      "outputs": [],
      "source": [
        "from sklearn.datasets import make_friedman2\n",
        "from sklearn.gaussian_process import GaussianProcessRegressor\n",
        "from sklearn.gaussian_process.kernels import DotProduct, WhiteKernel\n",
        "kernel = DotProduct() + WhiteKernel()\n",
        "gau = GaussianProcessRegressor(kernel=kernel,random_state=0).fit(x_train, y_train)"
      ]
    },
    {
      "cell_type": "code",
      "execution_count": 53,
      "metadata": {
        "id": "caLze2tLO2RH",
        "colab": {
          "base_uri": "https://localhost:8080/"
        },
        "outputId": "fedbe68b-0d0b-4e90-bb37-a64678f977cb"
      },
      "outputs": [
        {
          "output_type": "execute_result",
          "data": {
            "text/plain": [
              "array([85.21207938, 89.20485502, 86.89709491, 84.80037983, 85.81125681,\n",
              "       80.93275485, 92.68512678, 81.59126083, 86.70849321, 87.32616184,\n",
              "       86.07430491, 88.50348145, 87.04790812, 86.63279609, 86.15912045,\n",
              "       87.87819637, 82.91685691])"
            ]
          },
          "metadata": {},
          "execution_count": 53
        }
      ],
      "source": [
        "#gpr.score(x_test,y_test)\n",
        "gaussian_predict= gau.predict(x_test)\n",
        "gaussian_predict"
      ]
    },
    {
      "cell_type": "code",
      "execution_count": 54,
      "metadata": {
        "id": "18rKlVMQPZbk",
        "colab": {
          "base_uri": "https://localhost:8080/"
        },
        "outputId": "5e10e929-c3e9-4f31-c52d-e38bafd4499f"
      },
      "outputs": [
        {
          "output_type": "execute_result",
          "data": {
            "text/plain": [
              "21.60636821071927"
            ]
          },
          "metadata": {},
          "execution_count": 54
        }
      ],
      "source": [
        "from sklearn.metrics  import  mean_squared_error\n",
        "mean_squared_error(y_test, gaussian_predict)"
      ]
    },
    {
      "cell_type": "code",
      "execution_count": 55,
      "metadata": {
        "id": "hbPoYsBfQP44",
        "colab": {
          "base_uri": "https://localhost:8080/"
        },
        "outputId": "d141dda9-d3a9-41de-fb89-0ee44dbaded3"
      },
      "outputs": [
        {
          "output_type": "execute_result",
          "data": {
            "text/plain": [
              "4.6482650753500785"
            ]
          },
          "metadata": {},
          "execution_count": 55
        }
      ],
      "source": [
        "np.sqrt(mean_squared_error(y_test, gaussian_predict))"
      ]
    },
    {
      "cell_type": "markdown",
      "source": [
        "##**Lasso Regression**"
      ],
      "metadata": {
        "id": "Sxs-PcTZ3e7y"
      }
    },
    {
      "cell_type": "code",
      "source": [
        "from sklearn import linear_model\n",
        "lasso_reg = linear_model.Lasso(alpha=50,max_iter=100,tol=0.1) #max_iter --> The maximum number of iterations, alphafloat:->default=1.0\n",
        "#Constant that multiplies the L1 term, controlling regularization strength. alpha must be a non-negative float, tol:--> The tolerance for the optimization\n",
        "lasso_reg.fit(x_train,y_train)"
      ],
      "metadata": {
        "id": "LWPm5usB63tN",
        "colab": {
          "base_uri": "https://localhost:8080/"
        },
        "outputId": "2027bbf5-a7f1-4361-f8ff-98f32031e9b9"
      },
      "execution_count": 56,
      "outputs": [
        {
          "output_type": "execute_result",
          "data": {
            "text/plain": [
              "Lasso(alpha=50, max_iter=100, tol=0.1)"
            ]
          },
          "metadata": {},
          "execution_count": 56
        }
      ]
    },
    {
      "cell_type": "code",
      "source": [
        "lasso_reg.score(x_test,y_test)"
      ],
      "metadata": {
        "id": "2PanxpnO5SKI",
        "colab": {
          "base_uri": "https://localhost:8080/"
        },
        "outputId": "f6a936df-cd90-434f-e8c3-4926dd85fc66"
      },
      "execution_count": 57,
      "outputs": [
        {
          "output_type": "execute_result",
          "data": {
            "text/plain": [
              "-0.09268684753036438"
            ]
          },
          "metadata": {},
          "execution_count": 57
        }
      ]
    },
    {
      "cell_type": "code",
      "source": [
        "lasso_reg.score(x_train,y_train)"
      ],
      "metadata": {
        "id": "10AzemcE5s3e",
        "colab": {
          "base_uri": "https://localhost:8080/"
        },
        "outputId": "ccb12cce-8695-4d23-cda8-6b97de6a56e0"
      },
      "execution_count": 58,
      "outputs": [
        {
          "output_type": "execute_result",
          "data": {
            "text/plain": [
              "0.0"
            ]
          },
          "metadata": {},
          "execution_count": 58
        }
      ]
    },
    {
      "cell_type": "code",
      "source": [
        "lasso_predict= lasso_reg.predict(x_test)\n",
        "lasso_predict"
      ],
      "metadata": {
        "id": "HDTvk6gd7_Xb",
        "colab": {
          "base_uri": "https://localhost:8080/"
        },
        "outputId": "29f1de70-02ce-4e15-ab81-868acf279c9a"
      },
      "execution_count": 59,
      "outputs": [
        {
          "output_type": "execute_result",
          "data": {
            "text/plain": [
              "array([87.09090909, 87.09090909, 87.09090909, 87.09090909, 87.09090909,\n",
              "       87.09090909, 87.09090909, 87.09090909, 87.09090909, 87.09090909,\n",
              "       87.09090909, 87.09090909, 87.09090909, 87.09090909, 87.09090909,\n",
              "       87.09090909, 87.09090909])"
            ]
          },
          "metadata": {},
          "execution_count": 59
        }
      ]
    },
    {
      "cell_type": "code",
      "source": [
        "from sklearn.metrics  import  mean_squared_error\n",
        "mean_squared_error(y_test, lasso_predict)"
      ],
      "metadata": {
        "id": "bucr9Pyo8a_z",
        "colab": {
          "base_uri": "https://localhost:8080/"
        },
        "outputId": "603d7748-97d9-49a5-988e-7e81a6d1961d"
      },
      "execution_count": 60,
      "outputs": [
        {
          "output_type": "execute_result",
          "data": {
            "text/plain": [
              "17.067087992221676"
            ]
          },
          "metadata": {},
          "execution_count": 60
        }
      ]
    },
    {
      "cell_type": "code",
      "source": [
        "np.sqrt(mean_squared_error(y_test, lasso_predict))"
      ],
      "metadata": {
        "id": "hnu4dyN98j5r",
        "colab": {
          "base_uri": "https://localhost:8080/"
        },
        "outputId": "32c50a4b-c315-44d1-89d3-6a8928d8cf2c"
      },
      "execution_count": 61,
      "outputs": [
        {
          "output_type": "execute_result",
          "data": {
            "text/plain": [
              "4.1312332289791724"
            ]
          },
          "metadata": {},
          "execution_count": 61
        }
      ]
    },
    {
      "cell_type": "markdown",
      "metadata": {
        "id": "VUr-DISpP8V7"
      },
      "source": [
        "##Ridge Regression\n"
      ]
    },
    {
      "cell_type": "code",
      "execution_count": 62,
      "metadata": {
        "id": "NcTNOmqmQABN",
        "colab": {
          "base_uri": "https://localhost:8080/"
        },
        "outputId": "d1db417f-dfbf-4007-c7d6-c69663d233d3"
      },
      "outputs": [
        {
          "output_type": "execute_result",
          "data": {
            "text/plain": [
              "Ridge()"
            ]
          },
          "metadata": {},
          "execution_count": 62
        }
      ],
      "source": [
        "from sklearn.linear_model import Ridge\n",
        "ridge= Ridge(alpha=1.0)\n",
        "ridge.fit(x_train, y_train)\n"
      ]
    },
    {
      "cell_type": "code",
      "execution_count": 63,
      "metadata": {
        "id": "frR13dHiQknq"
      },
      "outputs": [],
      "source": [
        "ridge_predict=ridge.predict(x_test)"
      ]
    },
    {
      "cell_type": "code",
      "execution_count": 64,
      "metadata": {
        "id": "mig2OX6XQr_6",
        "colab": {
          "base_uri": "https://localhost:8080/"
        },
        "outputId": "e47b5c3c-0e86-41a1-a35e-7e1cccde90a7"
      },
      "outputs": [
        {
          "output_type": "execute_result",
          "data": {
            "text/plain": [
              "23.225305476940378"
            ]
          },
          "metadata": {},
          "execution_count": 64
        }
      ],
      "source": [
        "from sklearn.metrics  import  mean_squared_error\n",
        "mean_squared_error(y_test, ridge_predict)"
      ]
    },
    {
      "cell_type": "code",
      "execution_count": 65,
      "metadata": {
        "id": "5GFmHFhrQ4Ha",
        "colab": {
          "base_uri": "https://localhost:8080/"
        },
        "outputId": "84646039-051f-4c9e-d980-a7e9fac282b4"
      },
      "outputs": [
        {
          "output_type": "execute_result",
          "data": {
            "text/plain": [
              "4.819263997431597"
            ]
          },
          "metadata": {},
          "execution_count": 65
        }
      ],
      "source": [
        "np.sqrt(mean_squared_error(y_test, ridge_predict))"
      ]
    },
    {
      "cell_type": "markdown",
      "source": [
        "## Bayesian Ridge Regression"
      ],
      "metadata": {
        "id": "KxxVGZunMQtS"
      }
    },
    {
      "cell_type": "code",
      "source": [
        "from sklearn import linear_model\n",
        "BayReg = linear_model.BayesianRidge()\n",
        "BayReg.fit(x_train, y_train)\n",
        "bayesian_predict= BayReg.predict(x_test)"
      ],
      "metadata": {
        "id": "chUWXVvWOBts"
      },
      "execution_count": 66,
      "outputs": []
    },
    {
      "cell_type": "markdown",
      "source": [
        "Checking Mean Squared Error"
      ],
      "metadata": {
        "id": "O3oSL9RBLn8p"
      }
    },
    {
      "cell_type": "code",
      "source": [
        "from sklearn.metrics  import  mean_squared_error\n",
        "mean_squared_error(y_test, bayesian_predict)"
      ],
      "metadata": {
        "id": "fczjLkOwOTBq",
        "colab": {
          "base_uri": "https://localhost:8080/"
        },
        "outputId": "3a77408b-b2f8-40ef-befd-343bb4eb17bb"
      },
      "execution_count": 67,
      "outputs": [
        {
          "output_type": "execute_result",
          "data": {
            "text/plain": [
              "17.104013810936628"
            ]
          },
          "metadata": {},
          "execution_count": 67
        }
      ]
    },
    {
      "cell_type": "code",
      "source": [
        "np.sqrt(mean_squared_error(y_test, bayesian_predict))"
      ],
      "metadata": {
        "id": "zKMhQ4RhOWNz",
        "colab": {
          "base_uri": "https://localhost:8080/"
        },
        "outputId": "5ea91463-b47c-417d-f0dc-9e3582dcd30b"
      },
      "execution_count": 68,
      "outputs": [
        {
          "output_type": "execute_result",
          "data": {
            "text/plain": [
              "4.135699917902244"
            ]
          },
          "metadata": {},
          "execution_count": 68
        }
      ]
    },
    {
      "cell_type": "markdown",
      "source": [
        "## Kernel Ridge Regression "
      ],
      "metadata": {
        "id": "AuArY-EaO_sH"
      }
    },
    {
      "cell_type": "code",
      "source": [
        "import sklearn\n",
        "from sklearn.kernel_ridge import KernelRidge\n",
        "kerReg = sklearn.kernel_ridge.KernelRidge(alpha=1,kernel='linear', gamma=None, degree=3, coef0=1, kernel_params=None)\n",
        "kerReg.fit(x_train,y_train)\n",
        "ker_predict = reg.predict(x_test)"
      ],
      "metadata": {
        "id": "JkRY8EqTPUfF"
      },
      "execution_count": 69,
      "outputs": []
    },
    {
      "cell_type": "code",
      "source": [
        "from sklearn.metrics  import  mean_squared_error\n",
        "mean_squared_error(y_test, ker_predict)"
      ],
      "metadata": {
        "id": "LIzpmlQgRFTY",
        "colab": {
          "base_uri": "https://localhost:8080/"
        },
        "outputId": "5534ff0f-c47c-4042-f93e-b96e01981ccc"
      },
      "execution_count": 70,
      "outputs": [
        {
          "output_type": "execute_result",
          "data": {
            "text/plain": [
              "23.336053478675616"
            ]
          },
          "metadata": {},
          "execution_count": 70
        }
      ]
    },
    {
      "cell_type": "code",
      "source": [
        "np.sqrt(mean_squared_error(y_test, ker_predict))"
      ],
      "metadata": {
        "id": "PzodmmVuRIBV",
        "colab": {
          "base_uri": "https://localhost:8080/"
        },
        "outputId": "2651ea93-f5aa-49a4-bd36-9cc8ee4ccab3"
      },
      "execution_count": 71,
      "outputs": [
        {
          "output_type": "execute_result",
          "data": {
            "text/plain": [
              "4.830740468983572"
            ]
          },
          "metadata": {},
          "execution_count": 71
        }
      ]
    },
    {
      "cell_type": "markdown",
      "source": [
        "## Polynomial Regression"
      ],
      "metadata": {
        "id": "XGpGhQZcBZwj"
      }
    },
    {
      "cell_type": "code",
      "source": [
        "print(\"Enter the degree\")\n",
        "deg = int(input())\n",
        "from sklearn.preprocessing import PolynomialFeatures\n",
        "from sklearn.linear_model import LinearRegression\n",
        "poly = PolynomialFeatures(degree= deg, include_bias=False)\n",
        "poly_features = poly.fit_transform(x_train)\n",
        "poly_reg_model = LinearRegression()\n",
        "poly_fit = poly_reg_model.fit(poly_features, y_train)"
      ],
      "metadata": {
        "id": "BBiPrVmVBjWp",
        "colab": {
          "base_uri": "https://localhost:8080/"
        },
        "outputId": "09229793-a66b-4ca7-dcba-86d760337480"
      },
      "execution_count": 72,
      "outputs": [
        {
          "name": "stdout",
          "output_type": "stream",
          "text": [
            "Enter the degree\n",
            "5\n"
          ]
        }
      ]
    },
    {
      "cell_type": "code",
      "source": [
        "poly_predict= poly_reg_model.predict(poly_features)\n",
        "from sklearn.metrics  import  mean_squared_error\n",
        "mean_squared_error(y_train, poly_predict)"
      ],
      "metadata": {
        "id": "pgBXEmOBE0mB",
        "colab": {
          "base_uri": "https://localhost:8080/"
        },
        "outputId": "cd3be7b4-f49f-4587-8730-299fb0cbe5fe"
      },
      "execution_count": 73,
      "outputs": [
        {
          "output_type": "execute_result",
          "data": {
            "text/plain": [
              "2.2459109020401364e-27"
            ]
          },
          "metadata": {},
          "execution_count": 73
        }
      ]
    },
    {
      "cell_type": "markdown",
      "source": [
        "## Neural Network Regression"
      ],
      "metadata": {
        "id": "NoewIL_HHZ2p"
      }
    },
    {
      "cell_type": "code",
      "source": [
        "from sklearn.neural_network import MLPRegressor\n",
        "from sklearn.preprocessing import StandardScaler\n",
        "from sklearn.metrics import r2_score"
      ],
      "metadata": {
        "id": "Mq2BHbBUAlP_"
      },
      "execution_count": 74,
      "outputs": []
    },
    {
      "cell_type": "code",
      "source": [
        "sc_X = StandardScaler()\n",
        "X_trainscaled=sc_X.fit_transform(x_train)\n",
        "X_testscaled=sc_X.transform(x_test)"
      ],
      "metadata": {
        "id": "USZRiEJ_ArlF"
      },
      "execution_count": 75,
      "outputs": []
    },
    {
      "cell_type": "code",
      "source": [
        "CNNReg = MLPRegressor(hidden_layer_sizes=(64,64,64),activation=\"relu\" ,random_state=1, max_iter=2000).fit(X_trainscaled, y_train)"
      ],
      "metadata": {
        "id": "LpcGUaX8AuYU"
      },
      "execution_count": 76,
      "outputs": []
    },
    {
      "cell_type": "code",
      "source": [
        "y_pred=CNNReg.predict(X_testscaled)\n",
        "y_pred"
      ],
      "metadata": {
        "id": "PgZyGmwxCiRK",
        "colab": {
          "base_uri": "https://localhost:8080/"
        },
        "outputId": "313ce354-d702-43d9-d240-1ae1f9de19bf"
      },
      "execution_count": 77,
      "outputs": [
        {
          "output_type": "execute_result",
          "data": {
            "text/plain": [
              "array([ 63.86000708,  83.39425751,  81.08520107,  68.44809578,\n",
              "        73.87548422,  90.42234158, 118.9289503 ,  60.08452916,\n",
              "        86.49212319,  77.48381709,  59.12793423,  93.35425172,\n",
              "        93.95636738, 135.24477545,  90.38136528,  65.02495017,\n",
              "        74.07515616])"
            ]
          },
          "metadata": {},
          "execution_count": 77
        }
      ]
    },
    {
      "cell_type": "code",
      "source": [
        "from sklearn.metrics  import  mean_squared_error\n",
        "mean_squared_error(y_test, y_pred)"
      ],
      "metadata": {
        "id": "5RdvhISfEj6u",
        "colab": {
          "base_uri": "https://localhost:8080/"
        },
        "outputId": "eed25fa2-b739-4f23-9dcc-f3c7cff676c8"
      },
      "execution_count": 78,
      "outputs": [
        {
          "output_type": "execute_result",
          "data": {
            "text/plain": [
              "445.5360038919879"
            ]
          },
          "metadata": {},
          "execution_count": 78
        }
      ]
    },
    {
      "cell_type": "code",
      "source": [
        "np.sqrt(mean_squared_error(y_test, y_pred))"
      ],
      "metadata": {
        "id": "f0yhwQI6AxBF",
        "colab": {
          "base_uri": "https://localhost:8080/"
        },
        "outputId": "0a3319d1-0d53-45f1-cd6f-3b01693c9788"
      },
      "execution_count": 79,
      "outputs": [
        {
          "output_type": "execute_result",
          "data": {
            "text/plain": [
              "21.107723797036662"
            ]
          },
          "metadata": {},
          "execution_count": 79
        }
      ]
    },
    {
      "cell_type": "markdown",
      "metadata": {
        "id": "BdU97Xg7DsYn"
      },
      "source": [
        "##User Input\n"
      ]
    },
    {
      "cell_type": "code",
      "source": [
        "Artist = str(input(\"Enter the Artist.Name: \"))\n",
        "genre = str(input(\"Enter the Genre: \"))\n",
        "arr=[Artist,genre] #need to convert strings to numerical value \n",
        "A = encode(arr)\n",
        "Beats = int(input(\"Enter the Beats.Per.Minute: \"))\n",
        "Energy = int(input(\"Enter the Energy: \"))\n",
        "Danceability = int(input(\"Enter the Danceability: \"))\n",
        "Loudness = int(input(\"Enter the Loudness; \"))\n",
        "Liveness = int(input(\"Enter the Liveness: \"))\n",
        "Valence = int(input(\"Enter the Valence: \"))\n",
        "Length = int(input(\"Enter the Length: \"))\n",
        "Acousticness = int(input(\"Enter the Acousticness: \"))\n",
        "Speechiness = int(input(\"Enter the Speechiness: \"))\n",
        "data = np.array([[A[0],A[1],Beats,Energy,Danceability,Loudness,Liveness,Valence,Length,Acousticness,Speechiness]])\n",
        "#Ed Sheeran\tpop\t102\t68\t80\t-5\t9\t84\t220\t9\t4\t\n",
        "#Prediction:- 84 "
      ],
      "metadata": {
        "colab": {
          "base_uri": "https://localhost:8080/"
        },
        "id": "v3mBlwzo62fI",
        "outputId": "794e1c33-8e9e-4ac2-ec0c-992616ab97f2"
      },
      "execution_count": 164,
      "outputs": [
        {
          "name": "stdout",
          "output_type": "stream",
          "text": [
            "Enter the Artist.Name: Ed Sheeran\n",
            "Enter the Genre: pop\n",
            "Enter the Beats.Per.Minute: 102\n",
            "Enter the Energy: 68\n",
            "Enter the Danceability: 80\n",
            "Enter the Loudness; -5\n",
            "Enter the Liveness: 9\n",
            "Enter the Valence: 84\n",
            "Enter the Length: 220\n",
            "Enter the Acousticness: 9\n",
            "Enter the Speechiness: 4\n"
          ]
        }
      ]
    },
    {
      "cell_type": "markdown",
      "metadata": {
        "id": "fLu91MSrR_XC"
      },
      "source": [
        "**Input from the user to predict Popularity**"
      ]
    },
    {
      "cell_type": "code",
      "source": [
        "print(\"1. Linear Regression\")\n",
        "print(\"2. Random Forest Regressor\")\n",
        "print(\"3. Lasso Regression\")\n",
        "print(\"4. Ridge Regression\")\n",
        "print(\"5. Decision Tree Algorithm\")\n",
        "print(\"6. SVM Regressor\")\n",
        "print(\"7. Polynomial Regression\")\n",
        "print(\"8. CNN Regression\")\n",
        "print(\"9. Bayesian Ridge Regression\")\n",
        "print(\"10. Kernel Ridge Regression\")\n",
        "print(\"11. KNN Regression\")\n",
        "print(\"Regression Type: \")\n",
        "user_in = int(input())\n",
        "if(user_in == 2):\n",
        "  rand = Random_Forest.predict(data)\n",
        "  print(rand)\n",
        "elif(user_in == 6):\n",
        "  rand = svm_predict.predict(data)\n",
        "  print(rand)\n",
        "elif(user_in == 1):\n",
        "  rand = reg.predict(data)\n",
        "  print(rand)\n",
        "elif(user_in == 4):\n",
        "  rand = ridge.predict(data)\n",
        "  print(rand)\n",
        "elif(user_in == 5):\n",
        "  rand = Decision_tree.predict(data)\n",
        "  print(rand)\n",
        "elif(user_in == 9):\n",
        "  rand = BayReg.predict(data)\n",
        "  print(rand)\n",
        "elif(user_in == 3):\n",
        "  rand = lasso_reg.predict(data)\n",
        "  print(rand)\n",
        "elif(user_in == 7):\n",
        "  rand = poly_reg_model.predict(data)\n",
        "  print(rand) \n",
        "elif(user_in == 8):\n",
        "  rand_2 = CNNReg.predict(data)\n",
        "  print(rand_2)\n",
        "elif(user_in == 10):\n",
        "  rand_2 = kerReg.predict(data)\n",
        "  print(rand_2)  \n",
        "elif(user_in == 11):\n",
        "  rand_2 = knn.predict(data)\n",
        "  print(rand_2)\n",
        "#Ed Sheeran\tpop\t102\t68\t80\t-5\t9\t84\t220\t9\t4\t\n",
        "#Prediction:- 84 \n"
      ],
      "metadata": {
        "id": "Xh_riSKlaJGO",
        "colab": {
          "base_uri": "https://localhost:8080/"
        },
        "outputId": "1e57f8e1-2cb9-43a4-ef2a-50133e90dd0a"
      },
      "execution_count": 165,
      "outputs": [
        {
          "output_type": "stream",
          "name": "stdout",
          "text": [
            "1. Linear Regression\n",
            "2. Random Forest Regressor\n",
            "3. Lasso Regression\n",
            "4. Ridge Regression\n",
            "5. Decision Tree Algorithm\n",
            "6. SVM Regressor\n",
            "7. Polynomial Regression\n",
            "8. CNN Regression\n",
            "9. Bayesian Ridge Regression\n",
            "10. Kernel Ridge Regression\n",
            "11. KNN Regression\n",
            "Regression Type: \n",
            "2\n",
            "[83.86]\n"
          ]
        }
      ]
    }
  ],
  "metadata": {
    "colab": {
      "name": "Song_popularity_Prediction.ipynb",
      "provenance": [],
      "collapsed_sections": [
        "XO4kYh2OiREJ",
        "OhGx_PDQOcIO",
        "Sxs-PcTZ3e7y"
      ],
      "include_colab_link": true
    },
    "kernelspec": {
      "display_name": "Python 3",
      "name": "python3"
    },
    "language_info": {
      "name": "python"
    }
  },
  "nbformat": 4,
  "nbformat_minor": 0
}