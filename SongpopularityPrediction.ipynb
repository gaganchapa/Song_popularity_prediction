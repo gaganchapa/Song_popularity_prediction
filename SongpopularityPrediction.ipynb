{
  "nbformat": 4,
  "nbformat_minor": 0,
  "metadata": {
    "colab": {
      "name": "SongpopularityPrediction.ipynb",
      "provenance": [],
      "include_colab_link": true
    },
    "kernelspec": {
      "name": "python3",
      "display_name": "Python 3"
    },
    "language_info": {
      "name": "python"
    }
  },
  "cells": [
    {
      "cell_type": "markdown",
      "metadata": {
        "id": "view-in-github",
        "colab_type": "text"
      },
      "source": [
        "<a href=\"https://colab.research.google.com/github/gaganchapa/Song_popularity_prediction/blob/main/SongpopularityPrediction.ipynb\" target=\"_parent\"><img src=\"https://colab.research.google.com/assets/colab-badge.svg\" alt=\"Open In Colab\"/></a>"
      ]
    },
    {
      "cell_type": "markdown",
      "source": [
        "#Data Pre-Processing"
      ],
      "metadata": {
        "id": "fjC-AOBs525p"
      }
    },
    {
      "cell_type": "code",
      "execution_count": 2,
      "metadata": {
        "id": "VVAqwW2Q5yqm"
      },
      "outputs": [],
      "source": [
        "#importing the Necessary dependencies \n",
        "from sklearn.preprocessing import LabelEncoder\n",
        "import numpy as np\n",
        "from sklearn.preprocessing import StandardScaler\n",
        "import pandas as pd # for reading and printing\n",
        "from sklearn.preprocessing import LabelEncoder\n",
        "import matplotlib.pyplot as plt # for the graph plotting (shows the relationship between the datas)\n",
        "from sklearn.linear_model import LinearRegression\n",
        "from sklearn.ensemble import RandomForestRegressor\n",
        "from sklearn.model_selection import train_test_split # split the data set in to the train and the test data\n",
        "import seaborn as sns  #plot the graph of the data set\n",
        "from sklearn import metrics  # transforming the data in to the metrics"
      ]
    },
    {
      "cell_type": "markdown",
      "source": [
        "## Dataset Pre-Processing and Visualization"
      ],
      "metadata": {
        "id": "lNOFLwVOAtFh"
      }
    },
    {
      "cell_type": "code",
      "source": [
        "#reaading the CSV file using pandas as pd\n",
        "song_data = pd.read_csv(\"/content/top50.csv\",encoding = \"ISO-8859-1\")\n",
        "\n",
        "song_data.head(5)"
      ],
      "metadata": {
        "colab": {
          "base_uri": "https://localhost:8080/",
          "height": 461
        },
        "id": "QVjqygN26Joe",
        "outputId": "d6628585-9df9-4f4b-d082-7c59200a73a8"
      },
      "execution_count": 3,
      "outputs": [
        {
          "output_type": "execute_result",
          "data": {
            "text/plain": [
              "   Unnamed: 0                       Track.Name    Artist.Name           Genre  \\\n",
              "0           1                         Señorita   Shawn Mendes    canadian pop   \n",
              "1           2                            China       Anuel AA  reggaeton flow   \n",
              "2           3    boyfriend (with Social House)  Ariana Grande       dance pop   \n",
              "3           4  Beautiful People (feat. Khalid)     Ed Sheeran             pop   \n",
              "4           5      Goodbyes (Feat. Young Thug)    Post Malone         dfw rap   \n",
              "\n",
              "   Beats.Per.Minute  Energy  Danceability  Loudness..dB..  Liveness  Valence.  \\\n",
              "0               117      55            76              -6         8        75   \n",
              "1               105      81            79              -4         8        61   \n",
              "2               190      80            40              -4        16        70   \n",
              "3                93      65            64              -8         8        55   \n",
              "4               150      65            58              -4        11        18   \n",
              "\n",
              "   Length.  Acousticness..  Speechiness.  Popularity  \n",
              "0      191               4             3          79  \n",
              "1      302               8             9          92  \n",
              "2      186              12            46          85  \n",
              "3      198              12            19          86  \n",
              "4      175              45             7          94  "
            ],
            "text/html": [
              "\n",
              "  <div id=\"df-5e9b6dd4-2418-4019-b4ea-d927fba76ae1\">\n",
              "    <div class=\"colab-df-container\">\n",
              "      <div>\n",
              "<style scoped>\n",
              "    .dataframe tbody tr th:only-of-type {\n",
              "        vertical-align: middle;\n",
              "    }\n",
              "\n",
              "    .dataframe tbody tr th {\n",
              "        vertical-align: top;\n",
              "    }\n",
              "\n",
              "    .dataframe thead th {\n",
              "        text-align: right;\n",
              "    }\n",
              "</style>\n",
              "<table border=\"1\" class=\"dataframe\">\n",
              "  <thead>\n",
              "    <tr style=\"text-align: right;\">\n",
              "      <th></th>\n",
              "      <th>Unnamed: 0</th>\n",
              "      <th>Track.Name</th>\n",
              "      <th>Artist.Name</th>\n",
              "      <th>Genre</th>\n",
              "      <th>Beats.Per.Minute</th>\n",
              "      <th>Energy</th>\n",
              "      <th>Danceability</th>\n",
              "      <th>Loudness..dB..</th>\n",
              "      <th>Liveness</th>\n",
              "      <th>Valence.</th>\n",
              "      <th>Length.</th>\n",
              "      <th>Acousticness..</th>\n",
              "      <th>Speechiness.</th>\n",
              "      <th>Popularity</th>\n",
              "    </tr>\n",
              "  </thead>\n",
              "  <tbody>\n",
              "    <tr>\n",
              "      <th>0</th>\n",
              "      <td>1</td>\n",
              "      <td>Señorita</td>\n",
              "      <td>Shawn Mendes</td>\n",
              "      <td>canadian pop</td>\n",
              "      <td>117</td>\n",
              "      <td>55</td>\n",
              "      <td>76</td>\n",
              "      <td>-6</td>\n",
              "      <td>8</td>\n",
              "      <td>75</td>\n",
              "      <td>191</td>\n",
              "      <td>4</td>\n",
              "      <td>3</td>\n",
              "      <td>79</td>\n",
              "    </tr>\n",
              "    <tr>\n",
              "      <th>1</th>\n",
              "      <td>2</td>\n",
              "      <td>China</td>\n",
              "      <td>Anuel AA</td>\n",
              "      <td>reggaeton flow</td>\n",
              "      <td>105</td>\n",
              "      <td>81</td>\n",
              "      <td>79</td>\n",
              "      <td>-4</td>\n",
              "      <td>8</td>\n",
              "      <td>61</td>\n",
              "      <td>302</td>\n",
              "      <td>8</td>\n",
              "      <td>9</td>\n",
              "      <td>92</td>\n",
              "    </tr>\n",
              "    <tr>\n",
              "      <th>2</th>\n",
              "      <td>3</td>\n",
              "      <td>boyfriend (with Social House)</td>\n",
              "      <td>Ariana Grande</td>\n",
              "      <td>dance pop</td>\n",
              "      <td>190</td>\n",
              "      <td>80</td>\n",
              "      <td>40</td>\n",
              "      <td>-4</td>\n",
              "      <td>16</td>\n",
              "      <td>70</td>\n",
              "      <td>186</td>\n",
              "      <td>12</td>\n",
              "      <td>46</td>\n",
              "      <td>85</td>\n",
              "    </tr>\n",
              "    <tr>\n",
              "      <th>3</th>\n",
              "      <td>4</td>\n",
              "      <td>Beautiful People (feat. Khalid)</td>\n",
              "      <td>Ed Sheeran</td>\n",
              "      <td>pop</td>\n",
              "      <td>93</td>\n",
              "      <td>65</td>\n",
              "      <td>64</td>\n",
              "      <td>-8</td>\n",
              "      <td>8</td>\n",
              "      <td>55</td>\n",
              "      <td>198</td>\n",
              "      <td>12</td>\n",
              "      <td>19</td>\n",
              "      <td>86</td>\n",
              "    </tr>\n",
              "    <tr>\n",
              "      <th>4</th>\n",
              "      <td>5</td>\n",
              "      <td>Goodbyes (Feat. Young Thug)</td>\n",
              "      <td>Post Malone</td>\n",
              "      <td>dfw rap</td>\n",
              "      <td>150</td>\n",
              "      <td>65</td>\n",
              "      <td>58</td>\n",
              "      <td>-4</td>\n",
              "      <td>11</td>\n",
              "      <td>18</td>\n",
              "      <td>175</td>\n",
              "      <td>45</td>\n",
              "      <td>7</td>\n",
              "      <td>94</td>\n",
              "    </tr>\n",
              "  </tbody>\n",
              "</table>\n",
              "</div>\n",
              "      <button class=\"colab-df-convert\" onclick=\"convertToInteractive('df-5e9b6dd4-2418-4019-b4ea-d927fba76ae1')\"\n",
              "              title=\"Convert this dataframe to an interactive table.\"\n",
              "              style=\"display:none;\">\n",
              "        \n",
              "  <svg xmlns=\"http://www.w3.org/2000/svg\" height=\"24px\"viewBox=\"0 0 24 24\"\n",
              "       width=\"24px\">\n",
              "    <path d=\"M0 0h24v24H0V0z\" fill=\"none\"/>\n",
              "    <path d=\"M18.56 5.44l.94 2.06.94-2.06 2.06-.94-2.06-.94-.94-2.06-.94 2.06-2.06.94zm-11 1L8.5 8.5l.94-2.06 2.06-.94-2.06-.94L8.5 2.5l-.94 2.06-2.06.94zm10 10l.94 2.06.94-2.06 2.06-.94-2.06-.94-.94-2.06-.94 2.06-2.06.94z\"/><path d=\"M17.41 7.96l-1.37-1.37c-.4-.4-.92-.59-1.43-.59-.52 0-1.04.2-1.43.59L10.3 9.45l-7.72 7.72c-.78.78-.78 2.05 0 2.83L4 21.41c.39.39.9.59 1.41.59.51 0 1.02-.2 1.41-.59l7.78-7.78 2.81-2.81c.8-.78.8-2.07 0-2.86zM5.41 20L4 18.59l7.72-7.72 1.47 1.35L5.41 20z\"/>\n",
              "  </svg>\n",
              "      </button>\n",
              "      \n",
              "  <style>\n",
              "    .colab-df-container {\n",
              "      display:flex;\n",
              "      flex-wrap:wrap;\n",
              "      gap: 12px;\n",
              "    }\n",
              "\n",
              "    .colab-df-convert {\n",
              "      background-color: #E8F0FE;\n",
              "      border: none;\n",
              "      border-radius: 50%;\n",
              "      cursor: pointer;\n",
              "      display: none;\n",
              "      fill: #1967D2;\n",
              "      height: 32px;\n",
              "      padding: 0 0 0 0;\n",
              "      width: 32px;\n",
              "    }\n",
              "\n",
              "    .colab-df-convert:hover {\n",
              "      background-color: #E2EBFA;\n",
              "      box-shadow: 0px 1px 2px rgba(60, 64, 67, 0.3), 0px 1px 3px 1px rgba(60, 64, 67, 0.15);\n",
              "      fill: #174EA6;\n",
              "    }\n",
              "\n",
              "    [theme=dark] .colab-df-convert {\n",
              "      background-color: #3B4455;\n",
              "      fill: #D2E3FC;\n",
              "    }\n",
              "\n",
              "    [theme=dark] .colab-df-convert:hover {\n",
              "      background-color: #434B5C;\n",
              "      box-shadow: 0px 1px 3px 1px rgba(0, 0, 0, 0.15);\n",
              "      filter: drop-shadow(0px 1px 2px rgba(0, 0, 0, 0.3));\n",
              "      fill: #FFFFFF;\n",
              "    }\n",
              "  </style>\n",
              "\n",
              "      <script>\n",
              "        const buttonEl =\n",
              "          document.querySelector('#df-5e9b6dd4-2418-4019-b4ea-d927fba76ae1 button.colab-df-convert');\n",
              "        buttonEl.style.display =\n",
              "          google.colab.kernel.accessAllowed ? 'block' : 'none';\n",
              "\n",
              "        async function convertToInteractive(key) {\n",
              "          const element = document.querySelector('#df-5e9b6dd4-2418-4019-b4ea-d927fba76ae1');\n",
              "          const dataTable =\n",
              "            await google.colab.kernel.invokeFunction('convertToInteractive',\n",
              "                                                     [key], {});\n",
              "          if (!dataTable) return;\n",
              "\n",
              "          const docLinkHtml = 'Like what you see? Visit the ' +\n",
              "            '<a target=\"_blank\" href=https://colab.research.google.com/notebooks/data_table.ipynb>data table notebook</a>'\n",
              "            + ' to learn more about interactive tables.';\n",
              "          element.innerHTML = '';\n",
              "          dataTable['output_type'] = 'display_data';\n",
              "          await google.colab.output.renderOutput(dataTable, element);\n",
              "          const docLink = document.createElement('div');\n",
              "          docLink.innerHTML = docLinkHtml;\n",
              "          element.appendChild(docLink);\n",
              "        }\n",
              "      </script>\n",
              "    </div>\n",
              "  </div>\n",
              "  "
            ]
          },
          "metadata": {},
          "execution_count": 3
        }
      ]
    },
    {
      "cell_type": "markdown",
      "source": [
        ""
      ],
      "metadata": {
        "id": "rstaRiWRArEo"
      }
    },
    {
      "cell_type": "code",
      "source": [
        "song_data.info()\n"
      ],
      "metadata": {
        "colab": {
          "base_uri": "https://localhost:8080/"
        },
        "id": "fa_Sajgb7sQf",
        "outputId": "3c55b73a-0ad8-4d4a-fde2-abf25de27d03"
      },
      "execution_count": 4,
      "outputs": [
        {
          "output_type": "stream",
          "name": "stdout",
          "text": [
            "<class 'pandas.core.frame.DataFrame'>\n",
            "RangeIndex: 50 entries, 0 to 49\n",
            "Data columns (total 14 columns):\n",
            " #   Column            Non-Null Count  Dtype \n",
            "---  ------            --------------  ----- \n",
            " 0   Unnamed: 0        50 non-null     int64 \n",
            " 1   Track.Name        50 non-null     object\n",
            " 2   Artist.Name       50 non-null     object\n",
            " 3   Genre             50 non-null     object\n",
            " 4   Beats.Per.Minute  50 non-null     int64 \n",
            " 5   Energy            50 non-null     int64 \n",
            " 6   Danceability      50 non-null     int64 \n",
            " 7   Loudness..dB..    50 non-null     int64 \n",
            " 8   Liveness          50 non-null     int64 \n",
            " 9   Valence.          50 non-null     int64 \n",
            " 10  Length.           50 non-null     int64 \n",
            " 11  Acousticness..    50 non-null     int64 \n",
            " 12  Speechiness.      50 non-null     int64 \n",
            " 13  Popularity        50 non-null     int64 \n",
            "dtypes: int64(11), object(3)\n",
            "memory usage: 5.6+ KB\n"
          ]
        }
      ]
    },
    {
      "cell_type": "code",
      "source": [
        "song_data.describe()"
      ],
      "metadata": {
        "colab": {
          "base_uri": "https://localhost:8080/",
          "height": 382
        },
        "id": "d5MbmzJX0DcS",
        "outputId": "da252ac6-0529-440b-bf01-7a0d32a6c026"
      },
      "execution_count": 5,
      "outputs": [
        {
          "output_type": "execute_result",
          "data": {
            "text/plain": [
              "       Unnamed: 0  Beats.Per.Minute     Energy  Danceability  Loudness..dB..  \\\n",
              "count    50.00000         50.000000  50.000000      50.00000       50.000000   \n",
              "mean     25.50000        120.060000  64.060000      71.38000       -5.660000   \n",
              "std      14.57738         30.898392  14.231913      11.92988        2.056448   \n",
              "min       1.00000         85.000000  32.000000      29.00000      -11.000000   \n",
              "25%      13.25000         96.000000  55.250000      67.00000       -6.750000   \n",
              "50%      25.50000        104.500000  66.500000      73.50000       -6.000000   \n",
              "75%      37.75000        137.500000  74.750000      79.75000       -4.000000   \n",
              "max      50.00000        190.000000  88.000000      90.00000       -2.000000   \n",
              "\n",
              "        Liveness   Valence.     Length.  Acousticness..  Speechiness.  \\\n",
              "count  50.000000  50.000000   50.000000       50.000000     50.000000   \n",
              "mean   14.660000  54.600000  200.960000       22.160000     12.480000   \n",
              "std    11.118306  22.336024   39.143879       18.995553     11.161596   \n",
              "min     5.000000  10.000000  115.000000        1.000000      3.000000   \n",
              "25%     8.000000  38.250000  176.750000        8.250000      5.000000   \n",
              "50%    11.000000  55.500000  198.000000       15.000000      7.000000   \n",
              "75%    15.750000  69.500000  217.500000       33.750000     15.000000   \n",
              "max    58.000000  95.000000  309.000000       75.000000     46.000000   \n",
              "\n",
              "       Popularity  \n",
              "count   50.000000  \n",
              "mean    87.500000  \n",
              "std      4.491489  \n",
              "min     70.000000  \n",
              "25%     86.000000  \n",
              "50%     88.000000  \n",
              "75%     90.750000  \n",
              "max     95.000000  "
            ],
            "text/html": [
              "\n",
              "  <div id=\"df-45323d63-eeca-454e-8878-2fdee3365853\">\n",
              "    <div class=\"colab-df-container\">\n",
              "      <div>\n",
              "<style scoped>\n",
              "    .dataframe tbody tr th:only-of-type {\n",
              "        vertical-align: middle;\n",
              "    }\n",
              "\n",
              "    .dataframe tbody tr th {\n",
              "        vertical-align: top;\n",
              "    }\n",
              "\n",
              "    .dataframe thead th {\n",
              "        text-align: right;\n",
              "    }\n",
              "</style>\n",
              "<table border=\"1\" class=\"dataframe\">\n",
              "  <thead>\n",
              "    <tr style=\"text-align: right;\">\n",
              "      <th></th>\n",
              "      <th>Unnamed: 0</th>\n",
              "      <th>Beats.Per.Minute</th>\n",
              "      <th>Energy</th>\n",
              "      <th>Danceability</th>\n",
              "      <th>Loudness..dB..</th>\n",
              "      <th>Liveness</th>\n",
              "      <th>Valence.</th>\n",
              "      <th>Length.</th>\n",
              "      <th>Acousticness..</th>\n",
              "      <th>Speechiness.</th>\n",
              "      <th>Popularity</th>\n",
              "    </tr>\n",
              "  </thead>\n",
              "  <tbody>\n",
              "    <tr>\n",
              "      <th>count</th>\n",
              "      <td>50.00000</td>\n",
              "      <td>50.000000</td>\n",
              "      <td>50.000000</td>\n",
              "      <td>50.00000</td>\n",
              "      <td>50.000000</td>\n",
              "      <td>50.000000</td>\n",
              "      <td>50.000000</td>\n",
              "      <td>50.000000</td>\n",
              "      <td>50.000000</td>\n",
              "      <td>50.000000</td>\n",
              "      <td>50.000000</td>\n",
              "    </tr>\n",
              "    <tr>\n",
              "      <th>mean</th>\n",
              "      <td>25.50000</td>\n",
              "      <td>120.060000</td>\n",
              "      <td>64.060000</td>\n",
              "      <td>71.38000</td>\n",
              "      <td>-5.660000</td>\n",
              "      <td>14.660000</td>\n",
              "      <td>54.600000</td>\n",
              "      <td>200.960000</td>\n",
              "      <td>22.160000</td>\n",
              "      <td>12.480000</td>\n",
              "      <td>87.500000</td>\n",
              "    </tr>\n",
              "    <tr>\n",
              "      <th>std</th>\n",
              "      <td>14.57738</td>\n",
              "      <td>30.898392</td>\n",
              "      <td>14.231913</td>\n",
              "      <td>11.92988</td>\n",
              "      <td>2.056448</td>\n",
              "      <td>11.118306</td>\n",
              "      <td>22.336024</td>\n",
              "      <td>39.143879</td>\n",
              "      <td>18.995553</td>\n",
              "      <td>11.161596</td>\n",
              "      <td>4.491489</td>\n",
              "    </tr>\n",
              "    <tr>\n",
              "      <th>min</th>\n",
              "      <td>1.00000</td>\n",
              "      <td>85.000000</td>\n",
              "      <td>32.000000</td>\n",
              "      <td>29.00000</td>\n",
              "      <td>-11.000000</td>\n",
              "      <td>5.000000</td>\n",
              "      <td>10.000000</td>\n",
              "      <td>115.000000</td>\n",
              "      <td>1.000000</td>\n",
              "      <td>3.000000</td>\n",
              "      <td>70.000000</td>\n",
              "    </tr>\n",
              "    <tr>\n",
              "      <th>25%</th>\n",
              "      <td>13.25000</td>\n",
              "      <td>96.000000</td>\n",
              "      <td>55.250000</td>\n",
              "      <td>67.00000</td>\n",
              "      <td>-6.750000</td>\n",
              "      <td>8.000000</td>\n",
              "      <td>38.250000</td>\n",
              "      <td>176.750000</td>\n",
              "      <td>8.250000</td>\n",
              "      <td>5.000000</td>\n",
              "      <td>86.000000</td>\n",
              "    </tr>\n",
              "    <tr>\n",
              "      <th>50%</th>\n",
              "      <td>25.50000</td>\n",
              "      <td>104.500000</td>\n",
              "      <td>66.500000</td>\n",
              "      <td>73.50000</td>\n",
              "      <td>-6.000000</td>\n",
              "      <td>11.000000</td>\n",
              "      <td>55.500000</td>\n",
              "      <td>198.000000</td>\n",
              "      <td>15.000000</td>\n",
              "      <td>7.000000</td>\n",
              "      <td>88.000000</td>\n",
              "    </tr>\n",
              "    <tr>\n",
              "      <th>75%</th>\n",
              "      <td>37.75000</td>\n",
              "      <td>137.500000</td>\n",
              "      <td>74.750000</td>\n",
              "      <td>79.75000</td>\n",
              "      <td>-4.000000</td>\n",
              "      <td>15.750000</td>\n",
              "      <td>69.500000</td>\n",
              "      <td>217.500000</td>\n",
              "      <td>33.750000</td>\n",
              "      <td>15.000000</td>\n",
              "      <td>90.750000</td>\n",
              "    </tr>\n",
              "    <tr>\n",
              "      <th>max</th>\n",
              "      <td>50.00000</td>\n",
              "      <td>190.000000</td>\n",
              "      <td>88.000000</td>\n",
              "      <td>90.00000</td>\n",
              "      <td>-2.000000</td>\n",
              "      <td>58.000000</td>\n",
              "      <td>95.000000</td>\n",
              "      <td>309.000000</td>\n",
              "      <td>75.000000</td>\n",
              "      <td>46.000000</td>\n",
              "      <td>95.000000</td>\n",
              "    </tr>\n",
              "  </tbody>\n",
              "</table>\n",
              "</div>\n",
              "      <button class=\"colab-df-convert\" onclick=\"convertToInteractive('df-45323d63-eeca-454e-8878-2fdee3365853')\"\n",
              "              title=\"Convert this dataframe to an interactive table.\"\n",
              "              style=\"display:none;\">\n",
              "        \n",
              "  <svg xmlns=\"http://www.w3.org/2000/svg\" height=\"24px\"viewBox=\"0 0 24 24\"\n",
              "       width=\"24px\">\n",
              "    <path d=\"M0 0h24v24H0V0z\" fill=\"none\"/>\n",
              "    <path d=\"M18.56 5.44l.94 2.06.94-2.06 2.06-.94-2.06-.94-.94-2.06-.94 2.06-2.06.94zm-11 1L8.5 8.5l.94-2.06 2.06-.94-2.06-.94L8.5 2.5l-.94 2.06-2.06.94zm10 10l.94 2.06.94-2.06 2.06-.94-2.06-.94-.94-2.06-.94 2.06-2.06.94z\"/><path d=\"M17.41 7.96l-1.37-1.37c-.4-.4-.92-.59-1.43-.59-.52 0-1.04.2-1.43.59L10.3 9.45l-7.72 7.72c-.78.78-.78 2.05 0 2.83L4 21.41c.39.39.9.59 1.41.59.51 0 1.02-.2 1.41-.59l7.78-7.78 2.81-2.81c.8-.78.8-2.07 0-2.86zM5.41 20L4 18.59l7.72-7.72 1.47 1.35L5.41 20z\"/>\n",
              "  </svg>\n",
              "      </button>\n",
              "      \n",
              "  <style>\n",
              "    .colab-df-container {\n",
              "      display:flex;\n",
              "      flex-wrap:wrap;\n",
              "      gap: 12px;\n",
              "    }\n",
              "\n",
              "    .colab-df-convert {\n",
              "      background-color: #E8F0FE;\n",
              "      border: none;\n",
              "      border-radius: 50%;\n",
              "      cursor: pointer;\n",
              "      display: none;\n",
              "      fill: #1967D2;\n",
              "      height: 32px;\n",
              "      padding: 0 0 0 0;\n",
              "      width: 32px;\n",
              "    }\n",
              "\n",
              "    .colab-df-convert:hover {\n",
              "      background-color: #E2EBFA;\n",
              "      box-shadow: 0px 1px 2px rgba(60, 64, 67, 0.3), 0px 1px 3px 1px rgba(60, 64, 67, 0.15);\n",
              "      fill: #174EA6;\n",
              "    }\n",
              "\n",
              "    [theme=dark] .colab-df-convert {\n",
              "      background-color: #3B4455;\n",
              "      fill: #D2E3FC;\n",
              "    }\n",
              "\n",
              "    [theme=dark] .colab-df-convert:hover {\n",
              "      background-color: #434B5C;\n",
              "      box-shadow: 0px 1px 3px 1px rgba(0, 0, 0, 0.15);\n",
              "      filter: drop-shadow(0px 1px 2px rgba(0, 0, 0, 0.3));\n",
              "      fill: #FFFFFF;\n",
              "    }\n",
              "  </style>\n",
              "\n",
              "      <script>\n",
              "        const buttonEl =\n",
              "          document.querySelector('#df-45323d63-eeca-454e-8878-2fdee3365853 button.colab-df-convert');\n",
              "        buttonEl.style.display =\n",
              "          google.colab.kernel.accessAllowed ? 'block' : 'none';\n",
              "\n",
              "        async function convertToInteractive(key) {\n",
              "          const element = document.querySelector('#df-45323d63-eeca-454e-8878-2fdee3365853');\n",
              "          const dataTable =\n",
              "            await google.colab.kernel.invokeFunction('convertToInteractive',\n",
              "                                                     [key], {});\n",
              "          if (!dataTable) return;\n",
              "\n",
              "          const docLinkHtml = 'Like what you see? Visit the ' +\n",
              "            '<a target=\"_blank\" href=https://colab.research.google.com/notebooks/data_table.ipynb>data table notebook</a>'\n",
              "            + ' to learn more about interactive tables.';\n",
              "          element.innerHTML = '';\n",
              "          dataTable['output_type'] = 'display_data';\n",
              "          await google.colab.output.renderOutput(dataTable, element);\n",
              "          const docLink = document.createElement('div');\n",
              "          docLink.innerHTML = docLinkHtml;\n",
              "          element.appendChild(docLink);\n",
              "        }\n",
              "      </script>\n",
              "    </div>\n",
              "  </div>\n",
              "  "
            ]
          },
          "metadata": {},
          "execution_count": 5
        }
      ]
    },
    {
      "cell_type": "code",
      "source": [
        "song_data.columns"
      ],
      "metadata": {
        "colab": {
          "base_uri": "https://localhost:8080/"
        },
        "id": "NdoGOf0r8GBL",
        "outputId": "ac08b2b9-8ff6-43ca-a0e7-9bc912dca2ec"
      },
      "execution_count": 6,
      "outputs": [
        {
          "output_type": "execute_result",
          "data": {
            "text/plain": [
              "Index(['Unnamed: 0', 'Track.Name', 'Artist.Name', 'Genre', 'Beats.Per.Minute',\n",
              "       'Energy', 'Danceability', 'Loudness..dB..', 'Liveness', 'Valence.',\n",
              "       'Length.', 'Acousticness..', 'Speechiness.', 'Popularity'],\n",
              "      dtype='object')"
            ]
          },
          "metadata": {},
          "execution_count": 6
        }
      ]
    },
    {
      "cell_type": "code",
      "source": [
        "song_data['Genre'].value_counts()"
      ],
      "metadata": {
        "colab": {
          "base_uri": "https://localhost:8080/"
        },
        "id": "XVwXCS6m8KTT",
        "outputId": "c15435eb-a223-4914-a8c1-5d448cce4fce"
      },
      "execution_count": 7,
      "outputs": [
        {
          "output_type": "execute_result",
          "data": {
            "text/plain": [
              "dance pop           8\n",
              "pop                 7\n",
              "latin               5\n",
              "canadian hip hop    3\n",
              "edm                 3\n",
              "reggaeton           2\n",
              "reggaeton flow      2\n",
              "panamanian pop      2\n",
              "canadian pop        2\n",
              "electropop          2\n",
              "country rap         2\n",
              "dfw rap             2\n",
              "brostep             2\n",
              "trap music          1\n",
              "escape room         1\n",
              "pop house           1\n",
              "australian pop      1\n",
              "atl hip hop         1\n",
              "big room            1\n",
              "boy band            1\n",
              "r&b en espanol      1\n",
              "Name: Genre, dtype: int64"
            ]
          },
          "metadata": {},
          "execution_count": 7
        }
      ]
    },
    {
      "cell_type": "code",
      "source": [
        "#list of all Genere\n",
        "song_data['Genre'].unique()"
      ],
      "metadata": {
        "colab": {
          "base_uri": "https://localhost:8080/"
        },
        "id": "MpCyPF4g8MWt",
        "outputId": "fdf8b17c-93fe-4c97-9fd9-9ceead92c7df"
      },
      "execution_count": 8,
      "outputs": [
        {
          "output_type": "execute_result",
          "data": {
            "text/plain": [
              "array(['canadian pop', 'reggaeton flow', 'dance pop', 'pop', 'dfw rap',\n",
              "       'trap music', 'country rap', 'electropop', 'reggaeton',\n",
              "       'panamanian pop', 'canadian hip hop', 'latin', 'escape room',\n",
              "       'pop house', 'australian pop', 'edm', 'atl hip hop', 'big room',\n",
              "       'boy band', 'r&b en espanol', 'brostep'], dtype=object)"
            ]
          },
          "metadata": {},
          "execution_count": 8
        }
      ]
    },
    {
      "cell_type": "code",
      "source": [
        "#checking for the duplicated data \n",
        "song_data.duplicated().sum()"
      ],
      "metadata": {
        "colab": {
          "base_uri": "https://localhost:8080/"
        },
        "id": "MZZ4dtgf8UAN",
        "outputId": "faf4335b-0528-4d28-ecb2-71a19f7e3f86"
      },
      "execution_count": 9,
      "outputs": [
        {
          "output_type": "execute_result",
          "data": {
            "text/plain": [
              "0"
            ]
          },
          "metadata": {},
          "execution_count": 9
        }
      ]
    },
    {
      "cell_type": "markdown",
      "source": [
        "#Data Visualization"
      ],
      "metadata": {
        "id": "EZ6z3lIeAKcc"
      }
    },
    {
      "cell_type": "code",
      "source": [
        "#heatmap is generally used to show the correalation between diffrent attributes of the dataset\n",
        " #annot,If True, write the data value in each cell.\n",
        " #corr is used to show the corelations between the columns \n",
        "sns.heatmap(song_data.corr(),annot=True)"
      ],
      "metadata": {
        "colab": {
          "base_uri": "https://localhost:8080/",
          "height": 360
        },
        "id": "KJOHpHnE8bfY",
        "outputId": "b62c0503-5f88-4ccb-9ead-019be5edc08e"
      },
      "execution_count": 10,
      "outputs": [
        {
          "output_type": "execute_result",
          "data": {
            "text/plain": [
              "<matplotlib.axes._subplots.AxesSubplot at 0x7f1d214b9e90>"
            ]
          },
          "metadata": {},
          "execution_count": 10
        },
        {
          "output_type": "display_data",
          "data": {
            "text/plain": [
              "<Figure size 432x288 with 2 Axes>"
            ],
            "image/png": "[encoded data removed]"
          },
          "metadata": {
            "needs_background": "light"
          }
        }
      ]
    },
    {
      "cell_type": "code",
      "source": [
        "#plotting between Beats.per>Minutr and Popularity \n",
        "plt.scatter(song_data['Beats.Per.Minute'], song_data['Popularity'],color='b')"
      ],
      "metadata": {
        "colab": {
          "base_uri": "https://localhost:8080/",
          "height": 282
        },
        "id": "J9GVs7jk0U59",
        "outputId": "c8d5fe90-5f36-47a7-e51e-4cdb249dd0ef"
      },
      "execution_count": 11,
      "outputs": [
        {
          "output_type": "execute_result",
          "data": {
            "text/plain": [
              "<matplotlib.collections.PathCollection at 0x7f1d1cd48410>"
            ]
          },
          "metadata": {},
          "execution_count": 11
        },
        {
          "output_type": "display_data",
          "data": {
            "text/plain": [
              "<Figure size 432x288 with 1 Axes>"
            ],
            "image/png": "[encoded data removed]"
          },
          "metadata": {
            "needs_background": "light"
          }
        }
      ]
    },
    {
      "cell_type": "code",
      "source": [
        "#plotting between Danceability and Popularity \n",
        "plt.scatter(song_data['Danceability'], song_data['Popularity'],color='b')"
      ],
      "metadata": {
        "colab": {
          "base_uri": "https://localhost:8080/",
          "height": 282
        },
        "id": "TafPH5PH1vPD",
        "outputId": "1eef2ddc-8ea7-43d2-9550-dfe6e590c2f2"
      },
      "execution_count": 12,
      "outputs": [
        {
          "output_type": "execute_result",
          "data": {
            "text/plain": [
              "<matplotlib.collections.PathCollection at 0x7f1d1cd48190>"
            ]
          },
          "metadata": {},
          "execution_count": 12
        },
        {
          "output_type": "display_data",
          "data": {
            "text/plain": [
              "<Figure size 432x288 with 1 Axes>"
            ],
            "image/png": "[encoded data removed]"
          },
          "metadata": {
            "needs_background": "light"
          }
        }
      ]
    },
    {
      "cell_type": "code",
      "source": [
        "sns.pairplot(song_data) # plots all the data in the data fied in tha dataset "
      ],
      "metadata": {
        "colab": {
          "base_uri": "https://localhost:8080/",
          "height": 1000
        },
        "id": "quxyUoKH8kgS",
        "outputId": "fc9188f4-6198-47be-9b9a-c58576feda43"
      },
      "execution_count": 13,
      "outputs": [
        {
          "output_type": "execute_result",
          "data": {
            "text/plain": [
              "<seaborn.axisgrid.PairGrid at 0x7f1d1ea2f4d0>"
            ]
          },
          "metadata": {},
          "execution_count": 13
        },
        {
          "output_type": "display_data",
          "data": {
            "text/plain": [
              "<Figure size 1980x1980 with 132 Axes>"
            ],
            "image/png": "[encoded data removed]"
          },
          "metadata": {
            "needs_background": "light"
          }
        }
      ]
    },
    {
      "cell_type": "code",
      "source": [
        "f, ax = plt.subplots(5, figsize=(12,24))\n",
        "sns.histplot(song_data.Danceability,color='b',ax=ax[0], kde=True)\n",
        "sns.histplot(song_data['Length.'],color='g',ax=ax[1], kde=True)\n",
        "sns.histplot(song_data.Liveness,color='y',ax=ax[2], kde=True)\n",
        "sns.histplot(song_data['Beats.Per.Minute'],color='r',ax=ax[3], kde=True)\n",
        "sns.histplot(song_data['Popularity'],color='orange',ax=ax[4], kde=True)"
      ],
      "metadata": {
        "colab": {
          "base_uri": "https://localhost:8080/",
          "height": 1000
        },
        "id": "CzRQklGZ2Oy_",
        "outputId": "f730da9b-f61d-444b-98a1-94daf70e724c"
      },
      "execution_count": 14,
      "outputs": [
        {
          "output_type": "execute_result",
          "data": {
            "text/plain": [
              "<matplotlib.axes._subplots.AxesSubplot at 0x7f1d19d3a310>"
            ]
          },
          "metadata": {},
          "execution_count": 14
        },
        {
          "output_type": "display_data",
          "data": {
            "text/plain": [
              "<Figure size 864x1728 with 5 Axes>"
            ],
            "image/png": "[encoded data removed]"
          },
          "metadata": {
            "needs_background": "light"
          }
        }
      ]
    },
    {
      "cell_type": "markdown",
      "source": [
        "##Regression Plot\n"
      ],
      "metadata": {
        "id": "XtK5UB2w48Wd"
      }
    },
    {
      "cell_type": "code",
      "source": [
        "f, ax = plt.subplots(5, figsize=(12,24))\n",
        "sns.regplot(x=\"Danceability\", y=\"Popularity\", data=song_data, color='b', ax=ax[0]);\n",
        "sns.regplot(x=\"Beats.Per.Minute\", y=\"Popularity\", data=song_data, color='y', ax=ax[1]);\n",
        "sns.regplot(x=\"Length.\", y=\"Popularity\", data=song_data, color='r', ax=ax[2]);\n",
        "sns.regplot(x=\"Speechiness.\", y=\"Popularity\", data=song_data, color='g', ax=ax[3]);\n",
        "sns.regplot(x=\"Energy\", y=\"Popularity\", data=song_data, color='pink', ax=ax[4]);"
      ],
      "metadata": {
        "colab": {
          "base_uri": "https://localhost:8080/",
          "height": 1000
        },
        "id": "us0N8MrH4_Vr",
        "outputId": "f02b8ac5-869e-4585-e9e4-02ca389a8e39"
      },
      "execution_count": 15,
      "outputs": [
        {
          "output_type": "display_data",
          "data": {
            "text/plain": [
              "<Figure size 864x1728 with 5 Axes>"
            ],
            "image/png": "[encoded data removed]"
          },
          "metadata": {
            "needs_background": "light"
          }
        }
      ]
    },
    {
      "cell_type": "markdown",
      "source": [
        "**Need to convert the Genre data to the numerical format**"
      ],
      "metadata": {
        "id": "VNB4TkxuNDy8"
      }
    },
    {
      "cell_type": "code",
      "source": [
        "#The Artistname and Genre have the String values so we need to convert them to numerical value \n",
        "def encode(data): \n",
        "  label_encode = LabelEncoder()\n",
        "  #label_genre = label_encode.fit_transform()\n",
        "  label = label_encode.fit_transform(data)\n",
        "  return label\n"
      ],
      "metadata": {
        "id": "FZyK712_NCiK"
      },
      "execution_count": 16,
      "outputs": []
    },
    {
      "cell_type": "markdown",
      "source": [
        "**Appending the numerical data to the dataset**"
      ],
      "metadata": {
        "id": "MIbs0jdQN-H0"
      }
    },
    {
      "cell_type": "code",
      "source": [
        "#song_data.drop(\"Genre\", axis=1, inplace=True) song_data['Genre'] 'Artist.Name']\n",
        " \n",
        "# Appending the array to our dataFrame\n",
        "# with column name 'Purchased'\n",
        "song_data[\"Genre\"] = encode(song_data[\"Genre\"])\n",
        "song_data[\"Artist.Name\"] =encode(song_data[\"Artist.Name\"])\n",
        " \n",
        "# printing Dataframe\n",
        "song_data.head(5)"
      ],
      "metadata": {
        "colab": {
          "base_uri": "https://localhost:8080/",
          "height": 426
        },
        "id": "PdpMGKy8OHMG",
        "outputId": "d739ba49-7b41-4485-eb2f-2378b4b36d76"
      },
      "execution_count": 17,
      "outputs": [
        {
          "output_type": "execute_result",
          "data": {
            "text/plain": [
              "   Unnamed: 0                       Track.Name  Artist.Name  Genre  \\\n",
              "0           1                         Señorita           32      6   \n",
              "1           2                            China            1     19   \n",
              "2           3    boyfriend (with Social House)            2      8   \n",
              "3           4  Beautiful People (feat. Khalid)            9     15   \n",
              "4           5      Goodbyes (Feat. Young Thug)           28      9   \n",
              "\n",
              "   Beats.Per.Minute  Energy  Danceability  Loudness..dB..  Liveness  Valence.  \\\n",
              "0               117      55            76              -6         8        75   \n",
              "1               105      81            79              -4         8        61   \n",
              "2               190      80            40              -4        16        70   \n",
              "3                93      65            64              -8         8        55   \n",
              "4               150      65            58              -4        11        18   \n",
              "\n",
              "   Length.  Acousticness..  Speechiness.  Popularity  \n",
              "0      191               4             3          79  \n",
              "1      302               8             9          92  \n",
              "2      186              12            46          85  \n",
              "3      198              12            19          86  \n",
              "4      175              45             7          94  "
            ],
            "text/html": [
              "\n",
              "  <div id=\"df-26b764be-a742-443e-9c48-6e330e829d8c\">\n",
              "    <div class=\"colab-df-container\">\n",
              "      <div>\n",
              "<style scoped>\n",
              "    .dataframe tbody tr th:only-of-type {\n",
              "        vertical-align: middle;\n",
              "    }\n",
              "\n",
              "    .dataframe tbody tr th {\n",
              "        vertical-align: top;\n",
              "    }\n",
              "\n",
              "    .dataframe thead th {\n",
              "        text-align: right;\n",
              "    }\n",
              "</style>\n",
              "<table border=\"1\" class=\"dataframe\">\n",
              "  <thead>\n",
              "    <tr style=\"text-align: right;\">\n",
              "      <th></th>\n",
              "      <th>Unnamed: 0</th>\n",
              "      <th>Track.Name</th>\n",
              "      <th>Artist.Name</th>\n",
              "      <th>Genre</th>\n",
              "      <th>Beats.Per.Minute</th>\n",
              "      <th>Energy</th>\n",
              "      <th>Danceability</th>\n",
              "      <th>Loudness..dB..</th>\n",
              "      <th>Liveness</th>\n",
              "      <th>Valence.</th>\n",
              "      <th>Length.</th>\n",
              "      <th>Acousticness..</th>\n",
              "      <th>Speechiness.</th>\n",
              "      <th>Popularity</th>\n",
              "    </tr>\n",
              "  </thead>\n",
              "  <tbody>\n",
              "    <tr>\n",
              "      <th>0</th>\n",
              "      <td>1</td>\n",
              "      <td>Señorita</td>\n",
              "      <td>32</td>\n",
              "      <td>6</td>\n",
              "      <td>117</td>\n",
              "      <td>55</td>\n",
              "      <td>76</td>\n",
              "      <td>-6</td>\n",
              "      <td>8</td>\n",
              "      <td>75</td>\n",
              "      <td>191</td>\n",
              "      <td>4</td>\n",
              "      <td>3</td>\n",
              "      <td>79</td>\n",
              "    </tr>\n",
              "    <tr>\n",
              "      <th>1</th>\n",
              "      <td>2</td>\n",
              "      <td>China</td>\n",
              "      <td>1</td>\n",
              "      <td>19</td>\n",
              "      <td>105</td>\n",
              "      <td>81</td>\n",
              "      <td>79</td>\n",
              "      <td>-4</td>\n",
              "      <td>8</td>\n",
              "      <td>61</td>\n",
              "      <td>302</td>\n",
              "      <td>8</td>\n",
              "      <td>9</td>\n",
              "      <td>92</td>\n",
              "    </tr>\n",
              "    <tr>\n",
              "      <th>2</th>\n",
              "      <td>3</td>\n",
              "      <td>boyfriend (with Social House)</td>\n",
              "      <td>2</td>\n",
              "      <td>8</td>\n",
              "      <td>190</td>\n",
              "      <td>80</td>\n",
              "      <td>40</td>\n",
              "      <td>-4</td>\n",
              "      <td>16</td>\n",
              "      <td>70</td>\n",
              "      <td>186</td>\n",
              "      <td>12</td>\n",
              "      <td>46</td>\n",
              "      <td>85</td>\n",
              "    </tr>\n",
              "    <tr>\n",
              "      <th>3</th>\n",
              "      <td>4</td>\n",
              "      <td>Beautiful People (feat. Khalid)</td>\n",
              "      <td>9</td>\n",
              "      <td>15</td>\n",
              "      <td>93</td>\n",
              "      <td>65</td>\n",
              "      <td>64</td>\n",
              "      <td>-8</td>\n",
              "      <td>8</td>\n",
              "      <td>55</td>\n",
              "      <td>198</td>\n",
              "      <td>12</td>\n",
              "      <td>19</td>\n",
              "      <td>86</td>\n",
              "    </tr>\n",
              "    <tr>\n",
              "      <th>4</th>\n",
              "      <td>5</td>\n",
              "      <td>Goodbyes (Feat. Young Thug)</td>\n",
              "      <td>28</td>\n",
              "      <td>9</td>\n",
              "      <td>150</td>\n",
              "      <td>65</td>\n",
              "      <td>58</td>\n",
              "      <td>-4</td>\n",
              "      <td>11</td>\n",
              "      <td>18</td>\n",
              "      <td>175</td>\n",
              "      <td>45</td>\n",
              "      <td>7</td>\n",
              "      <td>94</td>\n",
              "    </tr>\n",
              "  </tbody>\n",
              "</table>\n",
              "</div>\n",
              "      <button class=\"colab-df-convert\" onclick=\"convertToInteractive('df-26b764be-a742-443e-9c48-6e330e829d8c')\"\n",
              "              title=\"Convert this dataframe to an interactive table.\"\n",
              "              style=\"display:none;\">\n",
              "        \n",
              "  <svg xmlns=\"http://www.w3.org/2000/svg\" height=\"24px\"viewBox=\"0 0 24 24\"\n",
              "       width=\"24px\">\n",
              "    <path d=\"M0 0h24v24H0V0z\" fill=\"none\"/>\n",
              "    <path d=\"M18.56 5.44l.94 2.06.94-2.06 2.06-.94-2.06-.94-.94-2.06-.94 2.06-2.06.94zm-11 1L8.5 8.5l.94-2.06 2.06-.94-2.06-.94L8.5 2.5l-.94 2.06-2.06.94zm10 10l.94 2.06.94-2.06 2.06-.94-2.06-.94-.94-2.06-.94 2.06-2.06.94z\"/><path d=\"M17.41 7.96l-1.37-1.37c-.4-.4-.92-.59-1.43-.59-.52 0-1.04.2-1.43.59L10.3 9.45l-7.72 7.72c-.78.78-.78 2.05 0 2.83L4 21.41c.39.39.9.59 1.41.59.51 0 1.02-.2 1.41-.59l7.78-7.78 2.81-2.81c.8-.78.8-2.07 0-2.86zM5.41 20L4 18.59l7.72-7.72 1.47 1.35L5.41 20z\"/>\n",
              "  </svg>\n",
              "      </button>\n",
              "      \n",
              "  <style>\n",
              "    .colab-df-container {\n",
              "      display:flex;\n",
              "      flex-wrap:wrap;\n",
              "      gap: 12px;\n",
              "    }\n",
              "\n",
              "    .colab-df-convert {\n",
              "      background-color: #E8F0FE;\n",
              "      border: none;\n",
              "      border-radius: 50%;\n",
              "      cursor: pointer;\n",
              "      display: none;\n",
              "      fill: #1967D2;\n",
              "      height: 32px;\n",
              "      padding: 0 0 0 0;\n",
              "      width: 32px;\n",
              "    }\n",
              "\n",
              "    .colab-df-convert:hover {\n",
              "      background-color: #E2EBFA;\n",
              "      box-shadow: 0px 1px 2px rgba(60, 64, 67, 0.3), 0px 1px 3px 1px rgba(60, 64, 67, 0.15);\n",
              "      fill: #174EA6;\n",
              "    }\n",
              "\n",
              "    [theme=dark] .colab-df-convert {\n",
              "      background-color: #3B4455;\n",
              "      fill: #D2E3FC;\n",
              "    }\n",
              "\n",
              "    [theme=dark] .colab-df-convert:hover {\n",
              "      background-color: #434B5C;\n",
              "      box-shadow: 0px 1px 3px 1px rgba(0, 0, 0, 0.15);\n",
              "      filter: drop-shadow(0px 1px 2px rgba(0, 0, 0, 0.3));\n",
              "      fill: #FFFFFF;\n",
              "    }\n",
              "  </style>\n",
              "\n",
              "      <script>\n",
              "        const buttonEl =\n",
              "          document.querySelector('#df-26b764be-a742-443e-9c48-6e330e829d8c button.colab-df-convert');\n",
              "        buttonEl.style.display =\n",
              "          google.colab.kernel.accessAllowed ? 'block' : 'none';\n",
              "\n",
              "        async function convertToInteractive(key) {\n",
              "          const element = document.querySelector('#df-26b764be-a742-443e-9c48-6e330e829d8c');\n",
              "          const dataTable =\n",
              "            await google.colab.kernel.invokeFunction('convertToInteractive',\n",
              "                                                     [key], {});\n",
              "          if (!dataTable) return;\n",
              "\n",
              "          const docLinkHtml = 'Like what you see? Visit the ' +\n",
              "            '<a target=\"_blank\" href=https://colab.research.google.com/notebooks/data_table.ipynb>data table notebook</a>'\n",
              "            + ' to learn more about interactive tables.';\n",
              "          element.innerHTML = '';\n",
              "          dataTable['output_type'] = 'display_data';\n",
              "          await google.colab.output.renderOutput(dataTable, element);\n",
              "          const docLink = document.createElement('div');\n",
              "          docLink.innerHTML = docLinkHtml;\n",
              "          element.appendChild(docLink);\n",
              "        }\n",
              "      </script>\n",
              "    </div>\n",
              "  </div>\n",
              "  "
            ]
          },
          "metadata": {},
          "execution_count": 17
        }
      ]
    },
    {
      "cell_type": "markdown",
      "source": [
        "#Linear Regression Algorithm : multi_features implementations"
      ],
      "metadata": {
        "id": "3w6v-MbxkXu2"
      }
    },
    {
      "cell_type": "markdown",
      "source": [
        "####Selecting Features:Genre,Danceability"
      ],
      "metadata": {
        "id": "oPizimEq9GgI"
      }
    },
    {
      "cell_type": "code",
      "source": [
        "#selected_features = song_data[['Genre','Beats.Per.Minute','Artist.Name',\n",
        "  #     'Energy', 'Danceability', 'Loudness..dB..', 'Liveness', 'Valence.',\n",
        "    #   'Length.', 'Acousticness..', 'Speechiness.',]] #feaures on which our Predictionn is dependent\n",
        "#songs_popularity = song_data['Popularity'] #The output that the user get input from our dataset\n",
        "\n",
        "selected_features = song_data[['Genre', 'Danceability']] #feaures on which our predenction is dependent\n",
        "songs_popularity = song_data['Popularity'] #The output that the user get input from our dataset\n",
        "selected_features.head()"
      ],
      "metadata": {
        "id": "ZFXKXMW79MMe",
        "colab": {
          "base_uri": "https://localhost:8080/",
          "height": 0
        },
        "outputId": "2c2129ac-19c8-4aab-b6eb-e59379aa7d1f"
      },
      "execution_count": 18,
      "outputs": [
        {
          "output_type": "execute_result",
          "data": {
            "text/plain": [
              "   Genre  Danceability\n",
              "0      6            76\n",
              "1     19            79\n",
              "2      8            40\n",
              "3     15            64\n",
              "4      9            58"
            ],
            "text/html": [
              "\n",
              "  <div id=\"df-67de2437-e658-466e-9a2c-38a6987832e5\">\n",
              "    <div class=\"colab-df-container\">\n",
              "      <div>\n",
              "<style scoped>\n",
              "    .dataframe tbody tr th:only-of-type {\n",
              "        vertical-align: middle;\n",
              "    }\n",
              "\n",
              "    .dataframe tbody tr th {\n",
              "        vertical-align: top;\n",
              "    }\n",
              "\n",
              "    .dataframe thead th {\n",
              "        text-align: right;\n",
              "    }\n",
              "</style>\n",
              "<table border=\"1\" class=\"dataframe\">\n",
              "  <thead>\n",
              "    <tr style=\"text-align: right;\">\n",
              "      <th></th>\n",
              "      <th>Genre</th>\n",
              "      <th>Danceability</th>\n",
              "    </tr>\n",
              "  </thead>\n",
              "  <tbody>\n",
              "    <tr>\n",
              "      <th>0</th>\n",
              "      <td>6</td>\n",
              "      <td>76</td>\n",
              "    </tr>\n",
              "    <tr>\n",
              "      <th>1</th>\n",
              "      <td>19</td>\n",
              "      <td>79</td>\n",
              "    </tr>\n",
              "    <tr>\n",
              "      <th>2</th>\n",
              "      <td>8</td>\n",
              "      <td>40</td>\n",
              "    </tr>\n",
              "    <tr>\n",
              "      <th>3</th>\n",
              "      <td>15</td>\n",
              "      <td>64</td>\n",
              "    </tr>\n",
              "    <tr>\n",
              "      <th>4</th>\n",
              "      <td>9</td>\n",
              "      <td>58</td>\n",
              "    </tr>\n",
              "  </tbody>\n",
              "</table>\n",
              "</div>\n",
              "      <button class=\"colab-df-convert\" onclick=\"convertToInteractive('df-67de2437-e658-466e-9a2c-38a6987832e5')\"\n",
              "              title=\"Convert this dataframe to an interactive table.\"\n",
              "              style=\"display:none;\">\n",
              "        \n",
              "  <svg xmlns=\"http://www.w3.org/2000/svg\" height=\"24px\"viewBox=\"0 0 24 24\"\n",
              "       width=\"24px\">\n",
              "    <path d=\"M0 0h24v24H0V0z\" fill=\"none\"/>\n",
              "    <path d=\"M18.56 5.44l.94 2.06.94-2.06 2.06-.94-2.06-.94-.94-2.06-.94 2.06-2.06.94zm-11 1L8.5 8.5l.94-2.06 2.06-.94-2.06-.94L8.5 2.5l-.94 2.06-2.06.94zm10 10l.94 2.06.94-2.06 2.06-.94-2.06-.94-.94-2.06-.94 2.06-2.06.94z\"/><path d=\"M17.41 7.96l-1.37-1.37c-.4-.4-.92-.59-1.43-.59-.52 0-1.04.2-1.43.59L10.3 9.45l-7.72 7.72c-.78.78-.78 2.05 0 2.83L4 21.41c.39.39.9.59 1.41.59.51 0 1.02-.2 1.41-.59l7.78-7.78 2.81-2.81c.8-.78.8-2.07 0-2.86zM5.41 20L4 18.59l7.72-7.72 1.47 1.35L5.41 20z\"/>\n",
              "  </svg>\n",
              "      </button>\n",
              "      \n",
              "  <style>\n",
              "    .colab-df-container {\n",
              "      display:flex;\n",
              "      flex-wrap:wrap;\n",
              "      gap: 12px;\n",
              "    }\n",
              "\n",
              "    .colab-df-convert {\n",
              "      background-color: #E8F0FE;\n",
              "      border: none;\n",
              "      border-radius: 50%;\n",
              "      cursor: pointer;\n",
              "      display: none;\n",
              "      fill: #1967D2;\n",
              "      height: 32px;\n",
              "      padding: 0 0 0 0;\n",
              "      width: 32px;\n",
              "    }\n",
              "\n",
              "    .colab-df-convert:hover {\n",
              "      background-color: #E2EBFA;\n",
              "      box-shadow: 0px 1px 2px rgba(60, 64, 67, 0.3), 0px 1px 3px 1px rgba(60, 64, 67, 0.15);\n",
              "      fill: #174EA6;\n",
              "    }\n",
              "\n",
              "    [theme=dark] .colab-df-convert {\n",
              "      background-color: #3B4455;\n",
              "      fill: #D2E3FC;\n",
              "    }\n",
              "\n",
              "    [theme=dark] .colab-df-convert:hover {\n",
              "      background-color: #434B5C;\n",
              "      box-shadow: 0px 1px 3px 1px rgba(0, 0, 0, 0.15);\n",
              "      filter: drop-shadow(0px 1px 2px rgba(0, 0, 0, 0.3));\n",
              "      fill: #FFFFFF;\n",
              "    }\n",
              "  </style>\n",
              "\n",
              "      <script>\n",
              "        const buttonEl =\n",
              "          document.querySelector('#df-67de2437-e658-466e-9a2c-38a6987832e5 button.colab-df-convert');\n",
              "        buttonEl.style.display =\n",
              "          google.colab.kernel.accessAllowed ? 'block' : 'none';\n",
              "\n",
              "        async function convertToInteractive(key) {\n",
              "          const element = document.querySelector('#df-67de2437-e658-466e-9a2c-38a6987832e5');\n",
              "          const dataTable =\n",
              "            await google.colab.kernel.invokeFunction('convertToInteractive',\n",
              "                                                     [key], {});\n",
              "          if (!dataTable) return;\n",
              "\n",
              "          const docLinkHtml = 'Like what you see? Visit the ' +\n",
              "            '<a target=\"_blank\" href=https://colab.research.google.com/notebooks/data_table.ipynb>data table notebook</a>'\n",
              "            + ' to learn more about interactive tables.';\n",
              "          element.innerHTML = '';\n",
              "          dataTable['output_type'] = 'display_data';\n",
              "          await google.colab.output.renderOutput(dataTable, element);\n",
              "          const docLink = document.createElement('div');\n",
              "          docLink.innerHTML = docLinkHtml;\n",
              "          element.appendChild(docLink);\n",
              "        }\n",
              "      </script>\n",
              "    </div>\n",
              "  </div>\n",
              "  "
            ]
          },
          "metadata": {},
          "execution_count": 18
        }
      ]
    },
    {
      "cell_type": "code",
      "source": [
        "#replacing the null field with 0\n",
        "for feature in selected_features:\n",
        " song_data[feature] = song_data[feature].fillna(0)"
      ],
      "metadata": {
        "id": "9CrC_lgPDNEV"
      },
      "execution_count": 19,
      "outputs": []
    },
    {
      "cell_type": "code",
      "source": [
        "#Splitting into train and test data\n",
        "from sklearn.model_selection import train_test_split\n",
        "x_train,x_test,y_train,y_test = train_test_split(selected_features,songs_popularity,test_size = 0.2,random_state =500)\n",
        "#x_train get some random data to train the model as per sixe of test_size, greater the test size less will be train data \n",
        "#y_train get the same number of crosspondingnoutput values of x_train\n",
        "print(x_train.shape)\n",
        "print(y_train.shape)\n",
        "#X-test-get the test data from the dataset , size of the test data is specified by the programmer  \n",
        "#y_test get the same number of crosspondingnoutput values of y_test\n",
        "print(x_test.shape)\n",
        "print(y_test.shape)\n"
      ],
      "metadata": {
        "colab": {
          "base_uri": "https://localhost:8080/"
        },
        "id": "BsxMJURDDHi_",
        "outputId": "60e133a6-92e9-41e2-e174-970bc6b751c9"
      },
      "execution_count": 20,
      "outputs": [
        {
          "output_type": "stream",
          "name": "stdout",
          "text": [
            "(40, 2)\n",
            "(40,)\n",
            "(10, 2)\n",
            "(10,)\n"
          ]
        }
      ]
    },
    {
      "cell_type": "code",
      "source": [
        "import numpy as np\n",
        "from sklearn.linear_model import LinearRegression\n",
        "reg = LinearRegression().fit(x_train, y_train)\n",
        "reg.score(x_train, y_train)\n"
      ],
      "metadata": {
        "colab": {
          "base_uri": "https://localhost:8080/"
        },
        "id": "hW4GZW25kzx5",
        "outputId": "4246251d-9faa-42da-f09d-14085035bb63"
      },
      "execution_count": 21,
      "outputs": [
        {
          "output_type": "execute_result",
          "data": {
            "text/plain": [
              "0.10142370053873073"
            ]
          },
          "metadata": {},
          "execution_count": 21
        }
      ]
    },
    {
      "cell_type": "code",
      "source": [
        "Reg_predict =reg.predict(x_test)\n",
        "Reg_predict"
      ],
      "metadata": {
        "colab": {
          "base_uri": "https://localhost:8080/"
        },
        "id": "SVEePhH-lqpb",
        "outputId": "b65af317-5b62-4945-8a8c-3040288797b3"
      },
      "execution_count": 22,
      "outputs": [
        {
          "output_type": "execute_result",
          "data": {
            "text/plain": [
              "array([88.80629815, 87.70094617, 89.53047487, 90.43703867, 85.63134509,\n",
              "       90.0558634 , 87.46709456, 88.37676875, 86.85828846, 86.50284545])"
            ]
          },
          "metadata": {},
          "execution_count": 22
        }
      ]
    },
    {
      "cell_type": "markdown",
      "source": [
        "**Checking Mean Squared Error for Linear Regression**"
      ],
      "metadata": {
        "id": "_A2h_b7vnGdk"
      }
    },
    {
      "cell_type": "code",
      "source": [
        "from sklearn.metrics  import  mean_squared_error\n",
        "mean_squared_error(y_test, Reg_predict)"
      ],
      "metadata": {
        "colab": {
          "base_uri": "https://localhost:8080/"
        },
        "id": "om8jmLAbm3m1",
        "outputId": "80adc9c7-c993-49d6-8629-8667a973d79a"
      },
      "execution_count": 23,
      "outputs": [
        {
          "output_type": "execute_result",
          "data": {
            "text/plain": [
              "20.995534197008244"
            ]
          },
          "metadata": {},
          "execution_count": 23
        }
      ]
    },
    {
      "cell_type": "code",
      "source": [
        "np.sqrt(mean_squared_error(y_test, Reg_predict))"
      ],
      "metadata": {
        "colab": {
          "base_uri": "https://localhost:8080/"
        },
        "id": "ZDGz1TDSm-NY",
        "outputId": "23bba211-547e-4583-9435-878bc70ccdf6"
      },
      "execution_count": 24,
      "outputs": [
        {
          "output_type": "execute_result",
          "data": {
            "text/plain": [
              "4.582088409994753"
            ]
          },
          "metadata": {},
          "execution_count": 24
        }
      ]
    },
    {
      "cell_type": "markdown",
      "source": [
        "####Selecting Features:Beats.Per.Minute,Length"
      ],
      "metadata": {
        "id": "pwITgffA9Zuc"
      }
    },
    {
      "cell_type": "code",
      "source": [
        "#selected_features = song_data[['Genre','Beats.Per.Minute','Artist.Name',\n",
        "  #     'Energy', 'Danceability', 'Loudness..dB..', 'Liveness', 'Valence.',\n",
        "    #   'Length.', 'Acousticness..', 'Speechiness.',]] #feaures on which our Predictionn is dependent\n",
        "#songs_popularity = song_data['Popularity'] #The output that the user get input from our dataset\n",
        "\n",
        "selected_features = song_data[[\"Length.\", 'Beats.Per.Minute']] #feaures on which our predenction is dependent\n",
        "songs_popularity = song_data['Popularity'] #The output that the user get input from our dataset\n",
        "selected_features.head()"
      ],
      "metadata": {
        "outputId": "130076a1-acd0-4649-97c7-43a4b1b8e7be",
        "colab": {
          "base_uri": "https://localhost:8080/",
          "height": 0
        },
        "id": "WHvN4oMn9Zuc"
      },
      "execution_count": 25,
      "outputs": [
        {
          "output_type": "execute_result",
          "data": {
            "text/plain": [
              "   Length.  Beats.Per.Minute\n",
              "0      191               117\n",
              "1      302               105\n",
              "2      186               190\n",
              "3      198                93\n",
              "4      175               150"
            ],
            "text/html": [
              "\n",
              "  <div id=\"df-229cc639-8904-432e-8fb9-4019340dcee0\">\n",
              "    <div class=\"colab-df-container\">\n",
              "      <div>\n",
              "<style scoped>\n",
              "    .dataframe tbody tr th:only-of-type {\n",
              "        vertical-align: middle;\n",
              "    }\n",
              "\n",
              "    .dataframe tbody tr th {\n",
              "        vertical-align: top;\n",
              "    }\n",
              "\n",
              "    .dataframe thead th {\n",
              "        text-align: right;\n",
              "    }\n",
              "</style>\n",
              "<table border=\"1\" class=\"dataframe\">\n",
              "  <thead>\n",
              "    <tr style=\"text-align: right;\">\n",
              "      <th></th>\n",
              "      <th>Length.</th>\n",
              "      <th>Beats.Per.Minute</th>\n",
              "    </tr>\n",
              "  </thead>\n",
              "  <tbody>\n",
              "    <tr>\n",
              "      <th>0</th>\n",
              "      <td>191</td>\n",
              "      <td>117</td>\n",
              "    </tr>\n",
              "    <tr>\n",
              "      <th>1</th>\n",
              "      <td>302</td>\n",
              "      <td>105</td>\n",
              "    </tr>\n",
              "    <tr>\n",
              "      <th>2</th>\n",
              "      <td>186</td>\n",
              "      <td>190</td>\n",
              "    </tr>\n",
              "    <tr>\n",
              "      <th>3</th>\n",
              "      <td>198</td>\n",
              "      <td>93</td>\n",
              "    </tr>\n",
              "    <tr>\n",
              "      <th>4</th>\n",
              "      <td>175</td>\n",
              "      <td>150</td>\n",
              "    </tr>\n",
              "  </tbody>\n",
              "</table>\n",
              "</div>\n",
              "      <button class=\"colab-df-convert\" onclick=\"convertToInteractive('df-229cc639-8904-432e-8fb9-4019340dcee0')\"\n",
              "              title=\"Convert this dataframe to an interactive table.\"\n",
              "              style=\"display:none;\">\n",
              "        \n",
              "  <svg xmlns=\"http://www.w3.org/2000/svg\" height=\"24px\"viewBox=\"0 0 24 24\"\n",
              "       width=\"24px\">\n",
              "    <path d=\"M0 0h24v24H0V0z\" fill=\"none\"/>\n",
              "    <path d=\"M18.56 5.44l.94 2.06.94-2.06 2.06-.94-2.06-.94-.94-2.06-.94 2.06-2.06.94zm-11 1L8.5 8.5l.94-2.06 2.06-.94-2.06-.94L8.5 2.5l-.94 2.06-2.06.94zm10 10l.94 2.06.94-2.06 2.06-.94-2.06-.94-.94-2.06-.94 2.06-2.06.94z\"/><path d=\"M17.41 7.96l-1.37-1.37c-.4-.4-.92-.59-1.43-.59-.52 0-1.04.2-1.43.59L10.3 9.45l-7.72 7.72c-.78.78-.78 2.05 0 2.83L4 21.41c.39.39.9.59 1.41.59.51 0 1.02-.2 1.41-.59l7.78-7.78 2.81-2.81c.8-.78.8-2.07 0-2.86zM5.41 20L4 18.59l7.72-7.72 1.47 1.35L5.41 20z\"/>\n",
              "  </svg>\n",
              "      </button>\n",
              "      \n",
              "  <style>\n",
              "    .colab-df-container {\n",
              "      display:flex;\n",
              "      flex-wrap:wrap;\n",
              "      gap: 12px;\n",
              "    }\n",
              "\n",
              "    .colab-df-convert {\n",
              "      background-color: #E8F0FE;\n",
              "      border: none;\n",
              "      border-radius: 50%;\n",
              "      cursor: pointer;\n",
              "      display: none;\n",
              "      fill: #1967D2;\n",
              "      height: 32px;\n",
              "      padding: 0 0 0 0;\n",
              "      width: 32px;\n",
              "    }\n",
              "\n",
              "    .colab-df-convert:hover {\n",
              "      background-color: #E2EBFA;\n",
              "      box-shadow: 0px 1px 2px rgba(60, 64, 67, 0.3), 0px 1px 3px 1px rgba(60, 64, 67, 0.15);\n",
              "      fill: #174EA6;\n",
              "    }\n",
              "\n",
              "    [theme=dark] .colab-df-convert {\n",
              "      background-color: #3B4455;\n",
              "      fill: #D2E3FC;\n",
              "    }\n",
              "\n",
              "    [theme=dark] .colab-df-convert:hover {\n",
              "      background-color: #434B5C;\n",
              "      box-shadow: 0px 1px 3px 1px rgba(0, 0, 0, 0.15);\n",
              "      filter: drop-shadow(0px 1px 2px rgba(0, 0, 0, 0.3));\n",
              "      fill: #FFFFFF;\n",
              "    }\n",
              "  </style>\n",
              "\n",
              "      <script>\n",
              "        const buttonEl =\n",
              "          document.querySelector('#df-229cc639-8904-432e-8fb9-4019340dcee0 button.colab-df-convert');\n",
              "        buttonEl.style.display =\n",
              "          google.colab.kernel.accessAllowed ? 'block' : 'none';\n",
              "\n",
              "        async function convertToInteractive(key) {\n",
              "          const element = document.querySelector('#df-229cc639-8904-432e-8fb9-4019340dcee0');\n",
              "          const dataTable =\n",
              "            await google.colab.kernel.invokeFunction('convertToInteractive',\n",
              "                                                     [key], {});\n",
              "          if (!dataTable) return;\n",
              "\n",
              "          const docLinkHtml = 'Like what you see? Visit the ' +\n",
              "            '<a target=\"_blank\" href=https://colab.research.google.com/notebooks/data_table.ipynb>data table notebook</a>'\n",
              "            + ' to learn more about interactive tables.';\n",
              "          element.innerHTML = '';\n",
              "          dataTable['output_type'] = 'display_data';\n",
              "          await google.colab.output.renderOutput(dataTable, element);\n",
              "          const docLink = document.createElement('div');\n",
              "          docLink.innerHTML = docLinkHtml;\n",
              "          element.appendChild(docLink);\n",
              "        }\n",
              "      </script>\n",
              "    </div>\n",
              "  </div>\n",
              "  "
            ]
          },
          "metadata": {},
          "execution_count": 25
        }
      ]
    },
    {
      "cell_type": "code",
      "source": [
        "#replacing the null field with 0\n",
        "for feature in selected_features:\n",
        " song_data[feature] = song_data[feature].fillna(0)"
      ],
      "metadata": {
        "id": "QUEYurPx9Zud"
      },
      "execution_count": 26,
      "outputs": []
    },
    {
      "cell_type": "code",
      "source": [
        "#Splitting into train and test data\n",
        "from sklearn.model_selection import train_test_split\n",
        "x_train,x_test,y_train,y_test = train_test_split(selected_features,songs_popularity,test_size = 0.2,random_state =500)\n",
        "#x_train get some random data to train the model as per sixe of test_size, greater the test size less will be train data \n",
        "#y_train get the same number of crosspondingnoutput values of x_train\n",
        "print(x_train.shape)\n",
        "print(y_train.shape)\n",
        "#X-test-get the test data from the dataset , size of the test data is specified by the programmer  \n",
        "#y_test get the same number of crosspondingnoutput values of y_test\n",
        "print(x_test.shape)\n",
        "print(y_test.shape)\n"
      ],
      "metadata": {
        "colab": {
          "base_uri": "https://localhost:8080/"
        },
        "outputId": "1767d7e2-03b8-4d07-f94f-ddfb02416382",
        "id": "_y_TA3xu9Zud"
      },
      "execution_count": 27,
      "outputs": [
        {
          "output_type": "stream",
          "name": "stdout",
          "text": [
            "(40, 2)\n",
            "(40,)\n",
            "(10, 2)\n",
            "(10,)\n"
          ]
        }
      ]
    },
    {
      "cell_type": "code",
      "source": [
        "import numpy as np\n",
        "from sklearn.linear_model import LinearRegression\n",
        "reg = LinearRegression().fit(x_train, y_train)\n",
        "reg.score(x_train, y_train)\n"
      ],
      "metadata": {
        "colab": {
          "base_uri": "https://localhost:8080/"
        },
        "outputId": "29048f3f-9ce6-463d-b29c-0f1b68f08272",
        "id": "26U8ajFQ9Zud"
      },
      "execution_count": 28,
      "outputs": [
        {
          "output_type": "execute_result",
          "data": {
            "text/plain": [
              "0.023047216542893545"
            ]
          },
          "metadata": {},
          "execution_count": 28
        }
      ]
    },
    {
      "cell_type": "code",
      "source": [
        "Reg_predict =reg.predict(x_test)\n",
        "Reg_predict"
      ],
      "metadata": {
        "colab": {
          "base_uri": "https://localhost:8080/"
        },
        "outputId": "a8a854f7-a4ef-43f0-a0fa-8b86b8f51f69",
        "id": "74Xj8Rw39Zud"
      },
      "execution_count": 29,
      "outputs": [
        {
          "output_type": "execute_result",
          "data": {
            "text/plain": [
              "array([88.74097854, 87.90794331, 87.92461443, 86.79615908, 86.91637379,\n",
              "       87.1643455 , 87.18636211, 87.39040229, 88.26364877, 87.52660265])"
            ]
          },
          "metadata": {},
          "execution_count": 29
        }
      ]
    },
    {
      "cell_type": "markdown",
      "source": [
        "**Checking Mean Squared Error for Linear Regression**"
      ],
      "metadata": {
        "id": "V8kG9ja29Zue"
      }
    },
    {
      "cell_type": "code",
      "source": [
        "from sklearn.metrics  import  mean_squared_error\n",
        "mean_squared_error(y_test, Reg_predict)"
      ],
      "metadata": {
        "colab": {
          "base_uri": "https://localhost:8080/"
        },
        "outputId": "60e3dc2f-f45a-4589-a539-eeccd506a0a0",
        "id": "gytM1ahV9Zue"
      },
      "execution_count": 30,
      "outputs": [
        {
          "output_type": "execute_result",
          "data": {
            "text/plain": [
              "14.462404626771633"
            ]
          },
          "metadata": {},
          "execution_count": 30
        }
      ]
    },
    {
      "cell_type": "code",
      "source": [
        "np.sqrt(mean_squared_error(y_test, Reg_predict))"
      ],
      "metadata": {
        "colab": {
          "base_uri": "https://localhost:8080/"
        },
        "outputId": "00545ab5-0de2-4393-d111-423061cf9380",
        "id": "sxtOS9U_9Zue"
      },
      "execution_count": 31,
      "outputs": [
        {
          "output_type": "execute_result",
          "data": {
            "text/plain": [
              "3.802946834597038"
            ]
          },
          "metadata": {},
          "execution_count": 31
        }
      ]
    },
    {
      "cell_type": "markdown",
      "source": [
        "####Selecting Features:Beats.Per.Minute,Danceability"
      ],
      "metadata": {
        "id": "u3CoWDTF99fH"
      }
    },
    {
      "cell_type": "code",
      "source": [
        "#selected_features = song_data[['Genre','Beats.Per.Minute','Artist.Name',\n",
        "  #     'Energy', 'Danceability', 'Loudness..dB..', 'Liveness', 'Valence.',\n",
        "    #   'Length.', 'Acousticness..', 'Speechiness.',]] #feaures on which our Predictionn is dependent\n",
        "#songs_popularity = song_data['Popularity'] #The output that the user get input from our dataset\n",
        "\n",
        "selected_features = song_data[[\"Danceability\", 'Beats.Per.Minute']] #feaures on which our predenction is dependent\n",
        "songs_popularity = song_data['Popularity'] #The output that the user get input from our dataset\n",
        "selected_features.head()"
      ],
      "metadata": {
        "outputId": "3e1bcddb-809f-4302-b5ba-b1667fe01258",
        "colab": {
          "base_uri": "https://localhost:8080/",
          "height": 0
        },
        "id": "Xtxkyc2F99fa"
      },
      "execution_count": 32,
      "outputs": [
        {
          "output_type": "execute_result",
          "data": {
            "text/plain": [
              "   Danceability  Beats.Per.Minute\n",
              "0            76               117\n",
              "1            79               105\n",
              "2            40               190\n",
              "3            64                93\n",
              "4            58               150"
            ],
            "text/html": [
              "\n",
              "  <div id=\"df-e0a28e99-53ba-4a9a-afb8-13c8d4268396\">\n",
              "    <div class=\"colab-df-container\">\n",
              "      <div>\n",
              "<style scoped>\n",
              "    .dataframe tbody tr th:only-of-type {\n",
              "        vertical-align: middle;\n",
              "    }\n",
              "\n",
              "    .dataframe tbody tr th {\n",
              "        vertical-align: top;\n",
              "    }\n",
              "\n",
              "    .dataframe thead th {\n",
              "        text-align: right;\n",
              "    }\n",
              "</style>\n",
              "<table border=\"1\" class=\"dataframe\">\n",
              "  <thead>\n",
              "    <tr style=\"text-align: right;\">\n",
              "      <th></th>\n",
              "      <th>Danceability</th>\n",
              "      <th>Beats.Per.Minute</th>\n",
              "    </tr>\n",
              "  </thead>\n",
              "  <tbody>\n",
              "    <tr>\n",
              "      <th>0</th>\n",
              "      <td>76</td>\n",
              "      <td>117</td>\n",
              "    </tr>\n",
              "    <tr>\n",
              "      <th>1</th>\n",
              "      <td>79</td>\n",
              "      <td>105</td>\n",
              "    </tr>\n",
              "    <tr>\n",
              "      <th>2</th>\n",
              "      <td>40</td>\n",
              "      <td>190</td>\n",
              "    </tr>\n",
              "    <tr>\n",
              "      <th>3</th>\n",
              "      <td>64</td>\n",
              "      <td>93</td>\n",
              "    </tr>\n",
              "    <tr>\n",
              "      <th>4</th>\n",
              "      <td>58</td>\n",
              "      <td>150</td>\n",
              "    </tr>\n",
              "  </tbody>\n",
              "</table>\n",
              "</div>\n",
              "      <button class=\"colab-df-convert\" onclick=\"convertToInteractive('df-e0a28e99-53ba-4a9a-afb8-13c8d4268396')\"\n",
              "              title=\"Convert this dataframe to an interactive table.\"\n",
              "              style=\"display:none;\">\n",
              "        \n",
              "  <svg xmlns=\"http://www.w3.org/2000/svg\" height=\"24px\"viewBox=\"0 0 24 24\"\n",
              "       width=\"24px\">\n",
              "    <path d=\"M0 0h24v24H0V0z\" fill=\"none\"/>\n",
              "    <path d=\"M18.56 5.44l.94 2.06.94-2.06 2.06-.94-2.06-.94-.94-2.06-.94 2.06-2.06.94zm-11 1L8.5 8.5l.94-2.06 2.06-.94-2.06-.94L8.5 2.5l-.94 2.06-2.06.94zm10 10l.94 2.06.94-2.06 2.06-.94-2.06-.94-.94-2.06-.94 2.06-2.06.94z\"/><path d=\"M17.41 7.96l-1.37-1.37c-.4-.4-.92-.59-1.43-.59-.52 0-1.04.2-1.43.59L10.3 9.45l-7.72 7.72c-.78.78-.78 2.05 0 2.83L4 21.41c.39.39.9.59 1.41.59.51 0 1.02-.2 1.41-.59l7.78-7.78 2.81-2.81c.8-.78.8-2.07 0-2.86zM5.41 20L4 18.59l7.72-7.72 1.47 1.35L5.41 20z\"/>\n",
              "  </svg>\n",
              "      </button>\n",
              "      \n",
              "  <style>\n",
              "    .colab-df-container {\n",
              "      display:flex;\n",
              "      flex-wrap:wrap;\n",
              "      gap: 12px;\n",
              "    }\n",
              "\n",
              "    .colab-df-convert {\n",
              "      background-color: #E8F0FE;\n",
              "      border: none;\n",
              "      border-radius: 50%;\n",
              "      cursor: pointer;\n",
              "      display: none;\n",
              "      fill: #1967D2;\n",
              "      height: 32px;\n",
              "      padding: 0 0 0 0;\n",
              "      width: 32px;\n",
              "    }\n",
              "\n",
              "    .colab-df-convert:hover {\n",
              "      background-color: #E2EBFA;\n",
              "      box-shadow: 0px 1px 2px rgba(60, 64, 67, 0.3), 0px 1px 3px 1px rgba(60, 64, 67, 0.15);\n",
              "      fill: #174EA6;\n",
              "    }\n",
              "\n",
              "    [theme=dark] .colab-df-convert {\n",
              "      background-color: #3B4455;\n",
              "      fill: #D2E3FC;\n",
              "    }\n",
              "\n",
              "    [theme=dark] .colab-df-convert:hover {\n",
              "      background-color: #434B5C;\n",
              "      box-shadow: 0px 1px 3px 1px rgba(0, 0, 0, 0.15);\n",
              "      filter: drop-shadow(0px 1px 2px rgba(0, 0, 0, 0.3));\n",
              "      fill: #FFFFFF;\n",
              "    }\n",
              "  </style>\n",
              "\n",
              "      <script>\n",
              "        const buttonEl =\n",
              "          document.querySelector('#df-e0a28e99-53ba-4a9a-afb8-13c8d4268396 button.colab-df-convert');\n",
              "        buttonEl.style.display =\n",
              "          google.colab.kernel.accessAllowed ? 'block' : 'none';\n",
              "\n",
              "        async function convertToInteractive(key) {\n",
              "          const element = document.querySelector('#df-e0a28e99-53ba-4a9a-afb8-13c8d4268396');\n",
              "          const dataTable =\n",
              "            await google.colab.kernel.invokeFunction('convertToInteractive',\n",
              "                                                     [key], {});\n",
              "          if (!dataTable) return;\n",
              "\n",
              "          const docLinkHtml = 'Like what you see? Visit the ' +\n",
              "            '<a target=\"_blank\" href=https://colab.research.google.com/notebooks/data_table.ipynb>data table notebook</a>'\n",
              "            + ' to learn more about interactive tables.';\n",
              "          element.innerHTML = '';\n",
              "          dataTable['output_type'] = 'display_data';\n",
              "          await google.colab.output.renderOutput(dataTable, element);\n",
              "          const docLink = document.createElement('div');\n",
              "          docLink.innerHTML = docLinkHtml;\n",
              "          element.appendChild(docLink);\n",
              "        }\n",
              "      </script>\n",
              "    </div>\n",
              "  </div>\n",
              "  "
            ]
          },
          "metadata": {},
          "execution_count": 32
        }
      ]
    },
    {
      "cell_type": "code",
      "source": [
        "#replacing the null field with 0\n",
        "for feature in selected_features:\n",
        " song_data[feature] = song_data[feature].fillna(0)"
      ],
      "metadata": {
        "id": "GFeWdS__99fa"
      },
      "execution_count": 33,
      "outputs": []
    },
    {
      "cell_type": "code",
      "source": [
        "#Splitting into train and test data\n",
        "from sklearn.model_selection import train_test_split\n",
        "x_train,x_test,y_train,y_test = train_test_split(selected_features,songs_popularity,test_size = 0.2,random_state =500)\n",
        "#x_train get some random data to train the model as per sixe of test_size, greater the test size less will be train data \n",
        "#y_train get the same number of crosspondingnoutput values of x_train\n",
        "print(x_train.shape)\n",
        "print(y_train.shape)\n",
        "#X-test-get the test data from the dataset , size of the test data is specified by the programmer  \n",
        "#y_test get the same number of crosspondingnoutput values of y_test\n",
        "print(x_test.shape)\n",
        "print(y_test.shape)\n"
      ],
      "metadata": {
        "colab": {
          "base_uri": "https://localhost:8080/"
        },
        "outputId": "a5e665a2-fa6b-4c92-c517-f9eefb1b09e0",
        "id": "Tseci7NR99fb"
      },
      "execution_count": 34,
      "outputs": [
        {
          "output_type": "stream",
          "name": "stdout",
          "text": [
            "(40, 2)\n",
            "(40,)\n",
            "(10, 2)\n",
            "(10,)\n"
          ]
        }
      ]
    },
    {
      "cell_type": "code",
      "source": [
        "import numpy as np\n",
        "from sklearn.linear_model import LinearRegression\n",
        "reg = LinearRegression().fit(x_train, y_train)\n",
        "reg.score(x_train, y_train)\n"
      ],
      "metadata": {
        "colab": {
          "base_uri": "https://localhost:8080/"
        },
        "outputId": "d96935e7-919b-49f2-a0c0-0468a02949bc",
        "id": "65si_LDm99fb"
      },
      "execution_count": 35,
      "outputs": [
        {
          "output_type": "execute_result",
          "data": {
            "text/plain": [
              "0.024306473468108436"
            ]
          },
          "metadata": {},
          "execution_count": 35
        }
      ]
    },
    {
      "cell_type": "code",
      "source": [
        "Reg_predict =reg.predict(x_test)\n",
        "Reg_predict"
      ],
      "metadata": {
        "colab": {
          "base_uri": "https://localhost:8080/"
        },
        "outputId": "0e65a47b-bb1a-4a43-cc1d-983f7c153b2b",
        "id": "77el5nC799fb"
      },
      "execution_count": 36,
      "outputs": [
        {
          "output_type": "execute_result",
          "data": {
            "text/plain": [
              "array([88.88653369, 87.85026402, 88.21206775, 87.09385477, 86.78291964,\n",
              "       87.3315258 , 87.18551794, 87.03951008, 88.05338428, 87.57995733])"
            ]
          },
          "metadata": {},
          "execution_count": 36
        }
      ]
    },
    {
      "cell_type": "markdown",
      "source": [
        "**Checking Mean Squared Error for Linear Regression**"
      ],
      "metadata": {
        "id": "yOfJyqwd99fc"
      }
    },
    {
      "cell_type": "code",
      "source": [
        "from sklearn.metrics  import  mean_squared_error\n",
        "mean_squared_error(y_test, Reg_predict)"
      ],
      "metadata": {
        "colab": {
          "base_uri": "https://localhost:8080/"
        },
        "outputId": "698c37b5-a791-4473-eb2a-e0c8e906ce75",
        "id": "CeLrDvLF99fc"
      },
      "execution_count": 37,
      "outputs": [
        {
          "output_type": "execute_result",
          "data": {
            "text/plain": [
              "15.278176485279019"
            ]
          },
          "metadata": {},
          "execution_count": 37
        }
      ]
    },
    {
      "cell_type": "code",
      "source": [
        "np.sqrt(mean_squared_error(y_test, Reg_predict))"
      ],
      "metadata": {
        "colab": {
          "base_uri": "https://localhost:8080/"
        },
        "outputId": "a456d853-e260-4929-fc84-fef49d43f0d0",
        "id": "9ovtwF5C99fc"
      },
      "execution_count": 38,
      "outputs": [
        {
          "output_type": "execute_result",
          "data": {
            "text/plain": [
              "3.908730802355033"
            ]
          },
          "metadata": {},
          "execution_count": 38
        }
      ]
    },
    {
      "cell_type": "markdown",
      "source": [
        "####Selecting Features:Length.,Danceability"
      ],
      "metadata": {
        "id": "2WtjKewl-SVR"
      }
    },
    {
      "cell_type": "code",
      "source": [
        "#selected_features = song_data[['Genre','Beats.Per.Minute','Artist.Name',\n",
        "  #     'Energy', 'Danceability', 'Loudness..dB..', 'Liveness', 'Valence.',\n",
        "    #   'Length.', 'Acousticness..', 'Speechiness.',]] #feaures on which our Predictionn is dependent\n",
        "#songs_popularity = song_data['Popularity'] #The output that the user get input from our dataset\n",
        "\n",
        "selected_features = song_data[[\"Danceability\", 'Length.']] #feaures on which our predenction is dependent\n",
        "songs_popularity = song_data['Popularity'] #The output that the user get input from our dataset\n",
        "selected_features.head()"
      ],
      "metadata": {
        "outputId": "39516d2d-c837-4d00-a02b-fce69dc8d23e",
        "colab": {
          "base_uri": "https://localhost:8080/",
          "height": 0
        },
        "id": "5OB6fnwT-SVS"
      },
      "execution_count": 39,
      "outputs": [
        {
          "output_type": "execute_result",
          "data": {
            "text/plain": [
              "   Danceability  Length.\n",
              "0            76      191\n",
              "1            79      302\n",
              "2            40      186\n",
              "3            64      198\n",
              "4            58      175"
            ],
            "text/html": [
              "\n",
              "  <div id=\"df-fbf8328f-135b-4b4f-88ed-1f6c2b9b4375\">\n",
              "    <div class=\"colab-df-container\">\n",
              "      <div>\n",
              "<style scoped>\n",
              "    .dataframe tbody tr th:only-of-type {\n",
              "        vertical-align: middle;\n",
              "    }\n",
              "\n",
              "    .dataframe tbody tr th {\n",
              "        vertical-align: top;\n",
              "    }\n",
              "\n",
              "    .dataframe thead th {\n",
              "        text-align: right;\n",
              "    }\n",
              "</style>\n",
              "<table border=\"1\" class=\"dataframe\">\n",
              "  <thead>\n",
              "    <tr style=\"text-align: right;\">\n",
              "      <th></th>\n",
              "      <th>Danceability</th>\n",
              "      <th>Length.</th>\n",
              "    </tr>\n",
              "  </thead>\n",
              "  <tbody>\n",
              "    <tr>\n",
              "      <th>0</th>\n",
              "      <td>76</td>\n",
              "      <td>191</td>\n",
              "    </tr>\n",
              "    <tr>\n",
              "      <th>1</th>\n",
              "      <td>79</td>\n",
              "      <td>302</td>\n",
              "    </tr>\n",
              "    <tr>\n",
              "      <th>2</th>\n",
              "      <td>40</td>\n",
              "      <td>186</td>\n",
              "    </tr>\n",
              "    <tr>\n",
              "      <th>3</th>\n",
              "      <td>64</td>\n",
              "      <td>198</td>\n",
              "    </tr>\n",
              "    <tr>\n",
              "      <th>4</th>\n",
              "      <td>58</td>\n",
              "      <td>175</td>\n",
              "    </tr>\n",
              "  </tbody>\n",
              "</table>\n",
              "</div>\n",
              "      <button class=\"colab-df-convert\" onclick=\"convertToInteractive('df-fbf8328f-135b-4b4f-88ed-1f6c2b9b4375')\"\n",
              "              title=\"Convert this dataframe to an interactive table.\"\n",
              "              style=\"display:none;\">\n",
              "        \n",
              "  <svg xmlns=\"http://www.w3.org/2000/svg\" height=\"24px\"viewBox=\"0 0 24 24\"\n",
              "       width=\"24px\">\n",
              "    <path d=\"M0 0h24v24H0V0z\" fill=\"none\"/>\n",
              "    <path d=\"M18.56 5.44l.94 2.06.94-2.06 2.06-.94-2.06-.94-.94-2.06-.94 2.06-2.06.94zm-11 1L8.5 8.5l.94-2.06 2.06-.94-2.06-.94L8.5 2.5l-.94 2.06-2.06.94zm10 10l.94 2.06.94-2.06 2.06-.94-2.06-.94-.94-2.06-.94 2.06-2.06.94z\"/><path d=\"M17.41 7.96l-1.37-1.37c-.4-.4-.92-.59-1.43-.59-.52 0-1.04.2-1.43.59L10.3 9.45l-7.72 7.72c-.78.78-.78 2.05 0 2.83L4 21.41c.39.39.9.59 1.41.59.51 0 1.02-.2 1.41-.59l7.78-7.78 2.81-2.81c.8-.78.8-2.07 0-2.86zM5.41 20L4 18.59l7.72-7.72 1.47 1.35L5.41 20z\"/>\n",
              "  </svg>\n",
              "      </button>\n",
              "      \n",
              "  <style>\n",
              "    .colab-df-container {\n",
              "      display:flex;\n",
              "      flex-wrap:wrap;\n",
              "      gap: 12px;\n",
              "    }\n",
              "\n",
              "    .colab-df-convert {\n",
              "      background-color: #E8F0FE;\n",
              "      border: none;\n",
              "      border-radius: 50%;\n",
              "      cursor: pointer;\n",
              "      display: none;\n",
              "      fill: #1967D2;\n",
              "      height: 32px;\n",
              "      padding: 0 0 0 0;\n",
              "      width: 32px;\n",
              "    }\n",
              "\n",
              "    .colab-df-convert:hover {\n",
              "      background-color: #E2EBFA;\n",
              "      box-shadow: 0px 1px 2px rgba(60, 64, 67, 0.3), 0px 1px 3px 1px rgba(60, 64, 67, 0.15);\n",
              "      fill: #174EA6;\n",
              "    }\n",
              "\n",
              "    [theme=dark] .colab-df-convert {\n",
              "      background-color: #3B4455;\n",
              "      fill: #D2E3FC;\n",
              "    }\n",
              "\n",
              "    [theme=dark] .colab-df-convert:hover {\n",
              "      background-color: #434B5C;\n",
              "      box-shadow: 0px 1px 3px 1px rgba(0, 0, 0, 0.15);\n",
              "      filter: drop-shadow(0px 1px 2px rgba(0, 0, 0, 0.3));\n",
              "      fill: #FFFFFF;\n",
              "    }\n",
              "  </style>\n",
              "\n",
              "      <script>\n",
              "        const buttonEl =\n",
              "          document.querySelector('#df-fbf8328f-135b-4b4f-88ed-1f6c2b9b4375 button.colab-df-convert');\n",
              "        buttonEl.style.display =\n",
              "          google.colab.kernel.accessAllowed ? 'block' : 'none';\n",
              "\n",
              "        async function convertToInteractive(key) {\n",
              "          const element = document.querySelector('#df-fbf8328f-135b-4b4f-88ed-1f6c2b9b4375');\n",
              "          const dataTable =\n",
              "            await google.colab.kernel.invokeFunction('convertToInteractive',\n",
              "                                                     [key], {});\n",
              "          if (!dataTable) return;\n",
              "\n",
              "          const docLinkHtml = 'Like what you see? Visit the ' +\n",
              "            '<a target=\"_blank\" href=https://colab.research.google.com/notebooks/data_table.ipynb>data table notebook</a>'\n",
              "            + ' to learn more about interactive tables.';\n",
              "          element.innerHTML = '';\n",
              "          dataTable['output_type'] = 'display_data';\n",
              "          await google.colab.output.renderOutput(dataTable, element);\n",
              "          const docLink = document.createElement('div');\n",
              "          docLink.innerHTML = docLinkHtml;\n",
              "          element.appendChild(docLink);\n",
              "        }\n",
              "      </script>\n",
              "    </div>\n",
              "  </div>\n",
              "  "
            ]
          },
          "metadata": {},
          "execution_count": 39
        }
      ]
    },
    {
      "cell_type": "code",
      "source": [
        "#replacing the null field with 0\n",
        "for feature in selected_features:\n",
        " song_data[feature] = song_data[feature].fillna(0)"
      ],
      "metadata": {
        "id": "CrSwZNIh-SVU"
      },
      "execution_count": 40,
      "outputs": []
    },
    {
      "cell_type": "code",
      "source": [
        "#Splitting into train and test data\n",
        "from sklearn.model_selection import train_test_split\n",
        "x_train,x_test,y_train,y_test = train_test_split(selected_features,songs_popularity,test_size = 0.2,random_state =500)\n",
        "#x_train get some random data to train the model as per sixe of test_size, greater the test size less will be train data \n",
        "#y_train get the same number of crosspondingnoutput values of x_train\n",
        "print(x_train.shape)\n",
        "print(y_train.shape)\n",
        "#X-test-get the test data from the dataset , size of the test data is specified by the programmer  \n",
        "#y_test get the same number of crosspondingnoutput values of y_test\n",
        "print(x_test.shape)\n",
        "print(y_test.shape)\n"
      ],
      "metadata": {
        "colab": {
          "base_uri": "https://localhost:8080/"
        },
        "outputId": "b6c2795c-7eea-4e53-bc99-8ca9b81cf2e5",
        "id": "_GPM7HTT-SVU"
      },
      "execution_count": 41,
      "outputs": [
        {
          "output_type": "stream",
          "name": "stdout",
          "text": [
            "(40, 2)\n",
            "(40,)\n",
            "(10, 2)\n",
            "(10,)\n"
          ]
        }
      ]
    },
    {
      "cell_type": "code",
      "source": [
        "import numpy as np\n",
        "from sklearn.linear_model import LinearRegression\n",
        "reg = LinearRegression().fit(x_train, y_train)\n",
        "reg.score(x_train, y_train)\n"
      ],
      "metadata": {
        "colab": {
          "base_uri": "https://localhost:8080/"
        },
        "outputId": "a5bb5c61-5d2e-418c-b610-a7a3a5f9f464",
        "id": "gg2ws9bN-SVW"
      },
      "execution_count": 42,
      "outputs": [
        {
          "output_type": "execute_result",
          "data": {
            "text/plain": [
              "0.001645426270307504"
            ]
          },
          "metadata": {},
          "execution_count": 42
        }
      ]
    },
    {
      "cell_type": "code",
      "source": [
        "Reg_predict =reg.predict(x_test)\n",
        "Reg_predict"
      ],
      "metadata": {
        "colab": {
          "base_uri": "https://localhost:8080/"
        },
        "outputId": "ab3aa837-7770-4fff-d9e0-53f80fb6f095",
        "id": "GuRQ1gas-SVW"
      },
      "execution_count": 43,
      "outputs": [
        {
          "output_type": "execute_result",
          "data": {
            "text/plain": [
              "array([87.49997583, 87.56224924, 87.72885986, 87.21347527, 87.6066549 ,\n",
              "       87.85780433, 87.44534471, 87.48237625, 87.57260878, 87.64820924])"
            ]
          },
          "metadata": {},
          "execution_count": 43
        }
      ]
    },
    {
      "cell_type": "markdown",
      "source": [
        "**Checking Mean Squared Error for Linear Regression**"
      ],
      "metadata": {
        "id": "pn4u7alR-SVX"
      }
    },
    {
      "cell_type": "code",
      "source": [
        "from sklearn.metrics  import  mean_squared_error\n",
        "mean_squared_error(y_test, Reg_predict)"
      ],
      "metadata": {
        "colab": {
          "base_uri": "https://localhost:8080/"
        },
        "outputId": "2cf78351-f9df-4db5-9262-f040c5251142",
        "id": "7DiKnQE2-SVY"
      },
      "execution_count": 44,
      "outputs": [
        {
          "output_type": "execute_result",
          "data": {
            "text/plain": [
              "16.282846386106222"
            ]
          },
          "metadata": {},
          "execution_count": 44
        }
      ]
    },
    {
      "cell_type": "code",
      "source": [
        "np.sqrt(mean_squared_error(y_test, Reg_predict))"
      ],
      "metadata": {
        "colab": {
          "base_uri": "https://localhost:8080/"
        },
        "outputId": "81d7185e-0e5e-4b55-e22a-707b6d7b56bd",
        "id": "_04jY3FV-SVY"
      },
      "execution_count": 45,
      "outputs": [
        {
          "output_type": "execute_result",
          "data": {
            "text/plain": [
              "4.035200910252948"
            ]
          },
          "metadata": {},
          "execution_count": 45
        }
      ]
    },
    {
      "cell_type": "markdown",
      "source": [
        "####Selecting Features:Artist.Name"
      ],
      "metadata": {
        "id": "aMss9QhT-tbB"
      }
    },
    {
      "cell_type": "code",
      "source": [
        "#selected_features = song_data[['Genre','Beats.Per.Minute','Artist.Name',\n",
        "  #     'Energy', 'Danceability', 'Loudness..dB..', 'Liveness', 'Valence.',\n",
        "    #   'Length.', 'Acousticness..', 'Speechiness.',]] #feaures on which our Predictionn is dependent\n",
        "#songs_popularity = song_data['Popularity'] #The output that the user get input from our dataset\n",
        "\n",
        "selected_features = song_data[[\"Artist.Name\"]] #feaures on which our predenction is dependent\n",
        "songs_popularity = song_data['Popularity'] #The output that the user get input from our dataset\n",
        "selected_features.head()"
      ],
      "metadata": {
        "outputId": "e8389a90-63b5-4913-a13b-b3a9e95cf8f6",
        "colab": {
          "base_uri": "https://localhost:8080/",
          "height": 0
        },
        "id": "YfZwB6Xj-tbJ"
      },
      "execution_count": 46,
      "outputs": [
        {
          "output_type": "execute_result",
          "data": {
            "text/plain": [
              "   Artist.Name\n",
              "0           32\n",
              "1            1\n",
              "2            2\n",
              "3            9\n",
              "4           28"
            ],
            "text/html": [
              "\n",
              "  <div id=\"df-5750e21e-8275-42d5-94ba-18ae5c4081ed\">\n",
              "    <div class=\"colab-df-container\">\n",
              "      <div>\n",
              "<style scoped>\n",
              "    .dataframe tbody tr th:only-of-type {\n",
              "        vertical-align: middle;\n",
              "    }\n",
              "\n",
              "    .dataframe tbody tr th {\n",
              "        vertical-align: top;\n",
              "    }\n",
              "\n",
              "    .dataframe thead th {\n",
              "        text-align: right;\n",
              "    }\n",
              "</style>\n",
              "<table border=\"1\" class=\"dataframe\">\n",
              "  <thead>\n",
              "    <tr style=\"text-align: right;\">\n",
              "      <th></th>\n",
              "      <th>Artist.Name</th>\n",
              "    </tr>\n",
              "  </thead>\n",
              "  <tbody>\n",
              "    <tr>\n",
              "      <th>0</th>\n",
              "      <td>32</td>\n",
              "    </tr>\n",
              "    <tr>\n",
              "      <th>1</th>\n",
              "      <td>1</td>\n",
              "    </tr>\n",
              "    <tr>\n",
              "      <th>2</th>\n",
              "      <td>2</td>\n",
              "    </tr>\n",
              "    <tr>\n",
              "      <th>3</th>\n",
              "      <td>9</td>\n",
              "    </tr>\n",
              "    <tr>\n",
              "      <th>4</th>\n",
              "      <td>28</td>\n",
              "    </tr>\n",
              "  </tbody>\n",
              "</table>\n",
              "</div>\n",
              "      <button class=\"colab-df-convert\" onclick=\"convertToInteractive('df-5750e21e-8275-42d5-94ba-18ae5c4081ed')\"\n",
              "              title=\"Convert this dataframe to an interactive table.\"\n",
              "              style=\"display:none;\">\n",
              "        \n",
              "  <svg xmlns=\"http://www.w3.org/2000/svg\" height=\"24px\"viewBox=\"0 0 24 24\"\n",
              "       width=\"24px\">\n",
              "    <path d=\"M0 0h24v24H0V0z\" fill=\"none\"/>\n",
              "    <path d=\"M18.56 5.44l.94 2.06.94-2.06 2.06-.94-2.06-.94-.94-2.06-.94 2.06-2.06.94zm-11 1L8.5 8.5l.94-2.06 2.06-.94-2.06-.94L8.5 2.5l-.94 2.06-2.06.94zm10 10l.94 2.06.94-2.06 2.06-.94-2.06-.94-.94-2.06-.94 2.06-2.06.94z\"/><path d=\"M17.41 7.96l-1.37-1.37c-.4-.4-.92-.59-1.43-.59-.52 0-1.04.2-1.43.59L10.3 9.45l-7.72 7.72c-.78.78-.78 2.05 0 2.83L4 21.41c.39.39.9.59 1.41.59.51 0 1.02-.2 1.41-.59l7.78-7.78 2.81-2.81c.8-.78.8-2.07 0-2.86zM5.41 20L4 18.59l7.72-7.72 1.47 1.35L5.41 20z\"/>\n",
              "  </svg>\n",
              "      </button>\n",
              "      \n",
              "  <style>\n",
              "    .colab-df-container {\n",
              "      display:flex;\n",
              "      flex-wrap:wrap;\n",
              "      gap: 12px;\n",
              "    }\n",
              "\n",
              "    .colab-df-convert {\n",
              "      background-color: #E8F0FE;\n",
              "      border: none;\n",
              "      border-radius: 50%;\n",
              "      cursor: pointer;\n",
              "      display: none;\n",
              "      fill: #1967D2;\n",
              "      height: 32px;\n",
              "      padding: 0 0 0 0;\n",
              "      width: 32px;\n",
              "    }\n",
              "\n",
              "    .colab-df-convert:hover {\n",
              "      background-color: #E2EBFA;\n",
              "      box-shadow: 0px 1px 2px rgba(60, 64, 67, 0.3), 0px 1px 3px 1px rgba(60, 64, 67, 0.15);\n",
              "      fill: #174EA6;\n",
              "    }\n",
              "\n",
              "    [theme=dark] .colab-df-convert {\n",
              "      background-color: #3B4455;\n",
              "      fill: #D2E3FC;\n",
              "    }\n",
              "\n",
              "    [theme=dark] .colab-df-convert:hover {\n",
              "      background-color: #434B5C;\n",
              "      box-shadow: 0px 1px 3px 1px rgba(0, 0, 0, 0.15);\n",
              "      filter: drop-shadow(0px 1px 2px rgba(0, 0, 0, 0.3));\n",
              "      fill: #FFFFFF;\n",
              "    }\n",
              "  </style>\n",
              "\n",
              "      <script>\n",
              "        const buttonEl =\n",
              "          document.querySelector('#df-5750e21e-8275-42d5-94ba-18ae5c4081ed button.colab-df-convert');\n",
              "        buttonEl.style.display =\n",
              "          google.colab.kernel.accessAllowed ? 'block' : 'none';\n",
              "\n",
              "        async function convertToInteractive(key) {\n",
              "          const element = document.querySelector('#df-5750e21e-8275-42d5-94ba-18ae5c4081ed');\n",
              "          const dataTable =\n",
              "            await google.colab.kernel.invokeFunction('convertToInteractive',\n",
              "                                                     [key], {});\n",
              "          if (!dataTable) return;\n",
              "\n",
              "          const docLinkHtml = 'Like what you see? Visit the ' +\n",
              "            '<a target=\"_blank\" href=https://colab.research.google.com/notebooks/data_table.ipynb>data table notebook</a>'\n",
              "            + ' to learn more about interactive tables.';\n",
              "          element.innerHTML = '';\n",
              "          dataTable['output_type'] = 'display_data';\n",
              "          await google.colab.output.renderOutput(dataTable, element);\n",
              "          const docLink = document.createElement('div');\n",
              "          docLink.innerHTML = docLinkHtml;\n",
              "          element.appendChild(docLink);\n",
              "        }\n",
              "      </script>\n",
              "    </div>\n",
              "  </div>\n",
              "  "
            ]
          },
          "metadata": {},
          "execution_count": 46
        }
      ]
    },
    {
      "cell_type": "code",
      "source": [
        "#replacing the null field with 0\n",
        "for feature in selected_features:\n",
        " song_data[feature] = song_data[feature].fillna(0)"
      ],
      "metadata": {
        "id": "Q7n0S6Ty-tbK"
      },
      "execution_count": 47,
      "outputs": []
    },
    {
      "cell_type": "code",
      "source": [
        "#Splitting into train and test data\n",
        "from sklearn.model_selection import train_test_split\n",
        "x_train,x_test,y_train,y_test = train_test_split(selected_features,songs_popularity,test_size = 0.2,random_state =500)\n",
        "#x_train get some random data to train the model as per sixe of test_size, greater the test size less will be train data \n",
        "#y_train get the same number of crosspondingnoutput values of x_train\n",
        "print(x_train.shape)\n",
        "print(y_train.shape)\n",
        "#X-test-get the test data from the dataset , size of the test data is specified by the programmer  \n",
        "#y_test get the same number of crosspondingnoutput values of y_test\n",
        "print(x_test.shape)\n",
        "print(y_test.shape)\n"
      ],
      "metadata": {
        "colab": {
          "base_uri": "https://localhost:8080/"
        },
        "outputId": "f8796be3-1285-4d89-dd44-3c91b433d9aa",
        "id": "tzJnj8KJ-tbK"
      },
      "execution_count": 48,
      "outputs": [
        {
          "output_type": "stream",
          "name": "stdout",
          "text": [
            "(40, 1)\n",
            "(40,)\n",
            "(10, 1)\n",
            "(10,)\n"
          ]
        }
      ]
    },
    {
      "cell_type": "code",
      "source": [
        "import numpy as np\n",
        "from sklearn.linear_model import LinearRegression\n",
        "reg = LinearRegression().fit(x_train, y_train)\n",
        "reg.score(x_train, y_train)\n"
      ],
      "metadata": {
        "colab": {
          "base_uri": "https://localhost:8080/"
        },
        "outputId": "94aab07a-3891-42e4-95c9-4634034cbb12",
        "id": "s18MoHVO-tbK"
      },
      "execution_count": 49,
      "outputs": [
        {
          "output_type": "execute_result",
          "data": {
            "text/plain": [
              "0.021818665234449974"
            ]
          },
          "metadata": {},
          "execution_count": 49
        }
      ]
    },
    {
      "cell_type": "code",
      "source": [
        "Reg_predict =reg.predict(x_test)\n",
        "Reg_predict"
      ],
      "metadata": {
        "colab": {
          "base_uri": "https://localhost:8080/"
        },
        "outputId": "970446fc-cb2f-4865-ec3e-a555a6e5e83f",
        "id": "9phhN0DM-tbK"
      },
      "execution_count": 50,
      "outputs": [
        {
          "output_type": "execute_result",
          "data": {
            "text/plain": [
              "array([86.7921506 , 88.38139374, 87.79278517, 87.96936774, 87.14531574,\n",
              "       86.90987232, 87.73392431, 87.55734174, 86.96873317, 86.73328975])"
            ]
          },
          "metadata": {},
          "execution_count": 50
        }
      ]
    },
    {
      "cell_type": "markdown",
      "source": [
        "**Checking Mean Squared Error for Linear Regression**"
      ],
      "metadata": {
        "id": "Bbnn7nWE-tbK"
      }
    },
    {
      "cell_type": "code",
      "source": [
        "from sklearn.metrics  import  mean_squared_error\n",
        "mean_squared_error(y_test, Reg_predict)"
      ],
      "metadata": {
        "colab": {
          "base_uri": "https://localhost:8080/"
        },
        "outputId": "a782ed1c-d18b-4d9d-f937-a7cc8180f478",
        "id": "y3akFK_a-tbK"
      },
      "execution_count": 51,
      "outputs": [
        {
          "output_type": "execute_result",
          "data": {
            "text/plain": [
              "16.859659496743642"
            ]
          },
          "metadata": {},
          "execution_count": 51
        }
      ]
    },
    {
      "cell_type": "code",
      "source": [
        "np.sqrt(mean_squared_error(y_test, Reg_predict))"
      ],
      "metadata": {
        "colab": {
          "base_uri": "https://localhost:8080/"
        },
        "outputId": "5b1c4e8f-f40c-4724-df31-1b61f7877d00",
        "id": "p5EQJWvs-tbL"
      },
      "execution_count": 52,
      "outputs": [
        {
          "output_type": "execute_result",
          "data": {
            "text/plain": [
              "4.1060515701515055"
            ]
          },
          "metadata": {},
          "execution_count": 52
        }
      ]
    },
    {
      "cell_type": "markdown",
      "source": [
        "####Selecting Features:Beats.Per.Minute,Danceability,Length. , Energy"
      ],
      "metadata": {
        "id": "-XvsbZrs_OCF"
      }
    },
    {
      "cell_type": "code",
      "source": [
        "#selected_features = song_data[['Genre','Beats.Per.Minute','Artist.Name',\n",
        "  #     'Energy', 'Danceability', 'Loudness..dB..', 'Liveness', 'Valence.',\n",
        "    #   'Length.', 'Acousticness..', 'Speechiness.',]] #feaures on which our Predictionn is dependent\n",
        "#songs_popularity = song_data['Popularity'] #The output that the user get input from our dataset\n",
        "\n",
        "selected_features = song_data[['Beats.Per.Minute','Length.','Energy','Danceability']] #feaures on which our predenction is dependent\n",
        "songs_popularity = song_data['Popularity'] #The output that the user get input from our dataset\n",
        "selected_features.head()"
      ],
      "metadata": {
        "outputId": "9ae75e76-aaa1-4484-a271-bba4e3f186a1",
        "colab": {
          "base_uri": "https://localhost:8080/",
          "height": 0
        },
        "id": "9U1cbQ0A_OCV"
      },
      "execution_count": 53,
      "outputs": [
        {
          "output_type": "execute_result",
          "data": {
            "text/plain": [
              "   Beats.Per.Minute  Length.  Energy  Danceability\n",
              "0               117      191      55            76\n",
              "1               105      302      81            79\n",
              "2               190      186      80            40\n",
              "3                93      198      65            64\n",
              "4               150      175      65            58"
            ],
            "text/html": [
              "\n",
              "  <div id=\"df-c9b6d429-06f2-41e4-a994-690d38f4d500\">\n",
              "    <div class=\"colab-df-container\">\n",
              "      <div>\n",
              "<style scoped>\n",
              "    .dataframe tbody tr th:only-of-type {\n",
              "        vertical-align: middle;\n",
              "    }\n",
              "\n",
              "    .dataframe tbody tr th {\n",
              "        vertical-align: top;\n",
              "    }\n",
              "\n",
              "    .dataframe thead th {\n",
              "        text-align: right;\n",
              "    }\n",
              "</style>\n",
              "<table border=\"1\" class=\"dataframe\">\n",
              "  <thead>\n",
              "    <tr style=\"text-align: right;\">\n",
              "      <th></th>\n",
              "      <th>Beats.Per.Minute</th>\n",
              "      <th>Length.</th>\n",
              "      <th>Energy</th>\n",
              "      <th>Danceability</th>\n",
              "    </tr>\n",
              "  </thead>\n",
              "  <tbody>\n",
              "    <tr>\n",
              "      <th>0</th>\n",
              "      <td>117</td>\n",
              "      <td>191</td>\n",
              "      <td>55</td>\n",
              "      <td>76</td>\n",
              "    </tr>\n",
              "    <tr>\n",
              "      <th>1</th>\n",
              "      <td>105</td>\n",
              "      <td>302</td>\n",
              "      <td>81</td>\n",
              "      <td>79</td>\n",
              "    </tr>\n",
              "    <tr>\n",
              "      <th>2</th>\n",
              "      <td>190</td>\n",
              "      <td>186</td>\n",
              "      <td>80</td>\n",
              "      <td>40</td>\n",
              "    </tr>\n",
              "    <tr>\n",
              "      <th>3</th>\n",
              "      <td>93</td>\n",
              "      <td>198</td>\n",
              "      <td>65</td>\n",
              "      <td>64</td>\n",
              "    </tr>\n",
              "    <tr>\n",
              "      <th>4</th>\n",
              "      <td>150</td>\n",
              "      <td>175</td>\n",
              "      <td>65</td>\n",
              "      <td>58</td>\n",
              "    </tr>\n",
              "  </tbody>\n",
              "</table>\n",
              "</div>\n",
              "      <button class=\"colab-df-convert\" onclick=\"convertToInteractive('df-c9b6d429-06f2-41e4-a994-690d38f4d500')\"\n",
              "              title=\"Convert this dataframe to an interactive table.\"\n",
              "              style=\"display:none;\">\n",
              "        \n",
              "  <svg xmlns=\"http://www.w3.org/2000/svg\" height=\"24px\"viewBox=\"0 0 24 24\"\n",
              "       width=\"24px\">\n",
              "    <path d=\"M0 0h24v24H0V0z\" fill=\"none\"/>\n",
              "    <path d=\"M18.56 5.44l.94 2.06.94-2.06 2.06-.94-2.06-.94-.94-2.06-.94 2.06-2.06.94zm-11 1L8.5 8.5l.94-2.06 2.06-.94-2.06-.94L8.5 2.5l-.94 2.06-2.06.94zm10 10l.94 2.06.94-2.06 2.06-.94-2.06-.94-.94-2.06-.94 2.06-2.06.94z\"/><path d=\"M17.41 7.96l-1.37-1.37c-.4-.4-.92-.59-1.43-.59-.52 0-1.04.2-1.43.59L10.3 9.45l-7.72 7.72c-.78.78-.78 2.05 0 2.83L4 21.41c.39.39.9.59 1.41.59.51 0 1.02-.2 1.41-.59l7.78-7.78 2.81-2.81c.8-.78.8-2.07 0-2.86zM5.41 20L4 18.59l7.72-7.72 1.47 1.35L5.41 20z\"/>\n",
              "  </svg>\n",
              "      </button>\n",
              "      \n",
              "  <style>\n",
              "    .colab-df-container {\n",
              "      display:flex;\n",
              "      flex-wrap:wrap;\n",
              "      gap: 12px;\n",
              "    }\n",
              "\n",
              "    .colab-df-convert {\n",
              "      background-color: #E8F0FE;\n",
              "      border: none;\n",
              "      border-radius: 50%;\n",
              "      cursor: pointer;\n",
              "      display: none;\n",
              "      fill: #1967D2;\n",
              "      height: 32px;\n",
              "      padding: 0 0 0 0;\n",
              "      width: 32px;\n",
              "    }\n",
              "\n",
              "    .colab-df-convert:hover {\n",
              "      background-color: #E2EBFA;\n",
              "      box-shadow: 0px 1px 2px rgba(60, 64, 67, 0.3), 0px 1px 3px 1px rgba(60, 64, 67, 0.15);\n",
              "      fill: #174EA6;\n",
              "    }\n",
              "\n",
              "    [theme=dark] .colab-df-convert {\n",
              "      background-color: #3B4455;\n",
              "      fill: #D2E3FC;\n",
              "    }\n",
              "\n",
              "    [theme=dark] .colab-df-convert:hover {\n",
              "      background-color: #434B5C;\n",
              "      box-shadow: 0px 1px 3px 1px rgba(0, 0, 0, 0.15);\n",
              "      filter: drop-shadow(0px 1px 2px rgba(0, 0, 0, 0.3));\n",
              "      fill: #FFFFFF;\n",
              "    }\n",
              "  </style>\n",
              "\n",
              "      <script>\n",
              "        const buttonEl =\n",
              "          document.querySelector('#df-c9b6d429-06f2-41e4-a994-690d38f4d500 button.colab-df-convert');\n",
              "        buttonEl.style.display =\n",
              "          google.colab.kernel.accessAllowed ? 'block' : 'none';\n",
              "\n",
              "        async function convertToInteractive(key) {\n",
              "          const element = document.querySelector('#df-c9b6d429-06f2-41e4-a994-690d38f4d500');\n",
              "          const dataTable =\n",
              "            await google.colab.kernel.invokeFunction('convertToInteractive',\n",
              "                                                     [key], {});\n",
              "          if (!dataTable) return;\n",
              "\n",
              "          const docLinkHtml = 'Like what you see? Visit the ' +\n",
              "            '<a target=\"_blank\" href=https://colab.research.google.com/notebooks/data_table.ipynb>data table notebook</a>'\n",
              "            + ' to learn more about interactive tables.';\n",
              "          element.innerHTML = '';\n",
              "          dataTable['output_type'] = 'display_data';\n",
              "          await google.colab.output.renderOutput(dataTable, element);\n",
              "          const docLink = document.createElement('div');\n",
              "          docLink.innerHTML = docLinkHtml;\n",
              "          element.appendChild(docLink);\n",
              "        }\n",
              "      </script>\n",
              "    </div>\n",
              "  </div>\n",
              "  "
            ]
          },
          "metadata": {},
          "execution_count": 53
        }
      ]
    },
    {
      "cell_type": "code",
      "source": [
        "#replacing the null field with 0\n",
        "for feature in selected_features:\n",
        " song_data[feature] = song_data[feature].fillna(0)"
      ],
      "metadata": {
        "id": "A7dYFrPz_OCY"
      },
      "execution_count": 54,
      "outputs": []
    },
    {
      "cell_type": "code",
      "source": [
        "#Splitting into train and test data\n",
        "from sklearn.model_selection import train_test_split\n",
        "x_train,x_test,y_train,y_test = train_test_split(selected_features,songs_popularity,test_size = 0.2,random_state =500)\n",
        "#x_train get some random data to train the model as per sixe of test_size, greater the test size less will be train data \n",
        "#y_train get the same number of crosspondingnoutput values of x_train\n",
        "print(x_train.shape)\n",
        "print(y_train.shape)\n",
        "#X-test-get the test data from the dataset , size of the test data is specified by the programmer  \n",
        "#y_test get the same number of crosspondingnoutput values of y_test\n",
        "print(x_test.shape)\n",
        "print(y_test.shape)\n"
      ],
      "metadata": {
        "colab": {
          "base_uri": "https://localhost:8080/"
        },
        "outputId": "835042c5-2f2f-4dfc-c55d-7fc2912e06b4",
        "id": "xM7lLV6q_OCY"
      },
      "execution_count": 55,
      "outputs": [
        {
          "output_type": "stream",
          "name": "stdout",
          "text": [
            "(40, 4)\n",
            "(40,)\n",
            "(10, 4)\n",
            "(10,)\n"
          ]
        }
      ]
    },
    {
      "cell_type": "code",
      "source": [
        "import numpy as np\n",
        "from sklearn.linear_model import LinearRegression\n",
        "reg = LinearRegression().fit(x_train, y_train)\n",
        "reg.score(x_train, y_train)\n"
      ],
      "metadata": {
        "colab": {
          "base_uri": "https://localhost:8080/"
        },
        "outputId": "4e1be137-b4e6-464b-8366-22aaee6f1e18",
        "id": "3h1ztOf0_OCY"
      },
      "execution_count": 56,
      "outputs": [
        {
          "output_type": "execute_result",
          "data": {
            "text/plain": [
              "0.04554553583015586"
            ]
          },
          "metadata": {},
          "execution_count": 56
        }
      ]
    },
    {
      "cell_type": "code",
      "source": [
        "Reg_predict =reg.predict(x_test)\n",
        "Reg_predict"
      ],
      "metadata": {
        "colab": {
          "base_uri": "https://localhost:8080/"
        },
        "outputId": "5ba0deb2-e4b8-41e4-e600-c3cd3108b1f7",
        "id": "xrlXJiKa_OCY"
      },
      "execution_count": 57,
      "outputs": [
        {
          "output_type": "execute_result",
          "data": {
            "text/plain": [
              "array([88.83412583, 88.83901878, 89.43939639, 86.5991343 , 86.83137325,\n",
              "       87.01834838, 87.07743711, 88.14350267, 88.08262154, 88.04079828])"
            ]
          },
          "metadata": {},
          "execution_count": 57
        }
      ]
    },
    {
      "cell_type": "markdown",
      "source": [
        "**Checking Mean Squared Error for Linear Regression**"
      ],
      "metadata": {
        "id": "_ncEI9_A_OCZ"
      }
    },
    {
      "cell_type": "code",
      "source": [
        "from sklearn.metrics  import  mean_squared_error\n",
        "mean_squared_error(y_test, Reg_predict)"
      ],
      "metadata": {
        "colab": {
          "base_uri": "https://localhost:8080/"
        },
        "outputId": "6b2e24ca-82eb-47d5-807a-e7cc00ed7944",
        "id": "4q4vWer-_OCZ"
      },
      "execution_count": 58,
      "outputs": [
        {
          "output_type": "execute_result",
          "data": {
            "text/plain": [
              "16.721017155553376"
            ]
          },
          "metadata": {},
          "execution_count": 58
        }
      ]
    },
    {
      "cell_type": "code",
      "source": [
        "np.sqrt(mean_squared_error(y_test, Reg_predict))"
      ],
      "metadata": {
        "colab": {
          "base_uri": "https://localhost:8080/"
        },
        "outputId": "8ca6e89b-d3b2-43ed-8089-175b9fd92206",
        "id": "i9eghwSU_OCZ"
      },
      "execution_count": 59,
      "outputs": [
        {
          "output_type": "execute_result",
          "data": {
            "text/plain": [
              "4.089134034921499"
            ]
          },
          "metadata": {},
          "execution_count": 59
        }
      ]
    },
    {
      "cell_type": "markdown",
      "source": [
        "#Implementions using all the Features "
      ],
      "metadata": {
        "id": "0rXZV2CE6xW8"
      }
    },
    {
      "cell_type": "markdown",
      "source": [
        "##Selecting all the features "
      ],
      "metadata": {
        "id": "mBxLvp8sA_-e"
      }
    },
    {
      "cell_type": "code",
      "source": [
        "selected_features = song_data[['Genre','Beats.Per.Minute','Artist.Name',\n",
        "       'Energy', 'Danceability', 'Loudness..dB..', 'Liveness', 'Valence.',\n",
        "       'Length.', 'Acousticness..', 'Speechiness.',]] #feaures on which our Predictionn is dependent\n",
        "songs_popularity = song_data['Popularity'] #The output that the user get input from our dataset\n",
        "\n",
        "\n",
        "selected_features.head()"
      ],
      "metadata": {
        "colab": {
          "base_uri": "https://localhost:8080/",
          "height": 0
        },
        "outputId": "9f3bb502-9e4f-41b1-e6d9-cb4efadcf4af",
        "id": "8l4uLHQ1BO6p"
      },
      "execution_count": 60,
      "outputs": [
        {
          "output_type": "execute_result",
          "data": {
            "text/plain": [
              "   Genre  Beats.Per.Minute  Artist.Name  Energy  Danceability  Loudness..dB..  \\\n",
              "0      6               117           32      55            76              -6   \n",
              "1     19               105            1      81            79              -4   \n",
              "2      8               190            2      80            40              -4   \n",
              "3     15                93            9      65            64              -8   \n",
              "4      9               150           28      65            58              -4   \n",
              "\n",
              "   Liveness  Valence.  Length.  Acousticness..  Speechiness.  \n",
              "0         8        75      191               4             3  \n",
              "1         8        61      302               8             9  \n",
              "2        16        70      186              12            46  \n",
              "3         8        55      198              12            19  \n",
              "4        11        18      175              45             7  "
            ],
            "text/html": [
              "\n",
              "  <div id=\"df-cf67e45e-210b-435a-8284-97947672649f\">\n",
              "    <div class=\"colab-df-container\">\n",
              "      <div>\n",
              "<style scoped>\n",
              "    .dataframe tbody tr th:only-of-type {\n",
              "        vertical-align: middle;\n",
              "    }\n",
              "\n",
              "    .dataframe tbody tr th {\n",
              "        vertical-align: top;\n",
              "    }\n",
              "\n",
              "    .dataframe thead th {\n",
              "        text-align: right;\n",
              "    }\n",
              "</style>\n",
              "<table border=\"1\" class=\"dataframe\">\n",
              "  <thead>\n",
              "    <tr style=\"text-align: right;\">\n",
              "      <th></th>\n",
              "      <th>Genre</th>\n",
              "      <th>Beats.Per.Minute</th>\n",
              "      <th>Artist.Name</th>\n",
              "      <th>Energy</th>\n",
              "      <th>Danceability</th>\n",
              "      <th>Loudness..dB..</th>\n",
              "      <th>Liveness</th>\n",
              "      <th>Valence.</th>\n",
              "      <th>Length.</th>\n",
              "      <th>Acousticness..</th>\n",
              "      <th>Speechiness.</th>\n",
              "    </tr>\n",
              "  </thead>\n",
              "  <tbody>\n",
              "    <tr>\n",
              "      <th>0</th>\n",
              "      <td>6</td>\n",
              "      <td>117</td>\n",
              "      <td>32</td>\n",
              "      <td>55</td>\n",
              "      <td>76</td>\n",
              "      <td>-6</td>\n",
              "      <td>8</td>\n",
              "      <td>75</td>\n",
              "      <td>191</td>\n",
              "      <td>4</td>\n",
              "      <td>3</td>\n",
              "    </tr>\n",
              "    <tr>\n",
              "      <th>1</th>\n",
              "      <td>19</td>\n",
              "      <td>105</td>\n",
              "      <td>1</td>\n",
              "      <td>81</td>\n",
              "      <td>79</td>\n",
              "      <td>-4</td>\n",
              "      <td>8</td>\n",
              "      <td>61</td>\n",
              "      <td>302</td>\n",
              "      <td>8</td>\n",
              "      <td>9</td>\n",
              "    </tr>\n",
              "    <tr>\n",
              "      <th>2</th>\n",
              "      <td>8</td>\n",
              "      <td>190</td>\n",
              "      <td>2</td>\n",
              "      <td>80</td>\n",
              "      <td>40</td>\n",
              "      <td>-4</td>\n",
              "      <td>16</td>\n",
              "      <td>70</td>\n",
              "      <td>186</td>\n",
              "      <td>12</td>\n",
              "      <td>46</td>\n",
              "    </tr>\n",
              "    <tr>\n",
              "      <th>3</th>\n",
              "      <td>15</td>\n",
              "      <td>93</td>\n",
              "      <td>9</td>\n",
              "      <td>65</td>\n",
              "      <td>64</td>\n",
              "      <td>-8</td>\n",
              "      <td>8</td>\n",
              "      <td>55</td>\n",
              "      <td>198</td>\n",
              "      <td>12</td>\n",
              "      <td>19</td>\n",
              "    </tr>\n",
              "    <tr>\n",
              "      <th>4</th>\n",
              "      <td>9</td>\n",
              "      <td>150</td>\n",
              "      <td>28</td>\n",
              "      <td>65</td>\n",
              "      <td>58</td>\n",
              "      <td>-4</td>\n",
              "      <td>11</td>\n",
              "      <td>18</td>\n",
              "      <td>175</td>\n",
              "      <td>45</td>\n",
              "      <td>7</td>\n",
              "    </tr>\n",
              "  </tbody>\n",
              "</table>\n",
              "</div>\n",
              "      <button class=\"colab-df-convert\" onclick=\"convertToInteractive('df-cf67e45e-210b-435a-8284-97947672649f')\"\n",
              "              title=\"Convert this dataframe to an interactive table.\"\n",
              "              style=\"display:none;\">\n",
              "        \n",
              "  <svg xmlns=\"http://www.w3.org/2000/svg\" height=\"24px\"viewBox=\"0 0 24 24\"\n",
              "       width=\"24px\">\n",
              "    <path d=\"M0 0h24v24H0V0z\" fill=\"none\"/>\n",
              "    <path d=\"M18.56 5.44l.94 2.06.94-2.06 2.06-.94-2.06-.94-.94-2.06-.94 2.06-2.06.94zm-11 1L8.5 8.5l.94-2.06 2.06-.94-2.06-.94L8.5 2.5l-.94 2.06-2.06.94zm10 10l.94 2.06.94-2.06 2.06-.94-2.06-.94-.94-2.06-.94 2.06-2.06.94z\"/><path d=\"M17.41 7.96l-1.37-1.37c-.4-.4-.92-.59-1.43-.59-.52 0-1.04.2-1.43.59L10.3 9.45l-7.72 7.72c-.78.78-.78 2.05 0 2.83L4 21.41c.39.39.9.59 1.41.59.51 0 1.02-.2 1.41-.59l7.78-7.78 2.81-2.81c.8-.78.8-2.07 0-2.86zM5.41 20L4 18.59l7.72-7.72 1.47 1.35L5.41 20z\"/>\n",
              "  </svg>\n",
              "      </button>\n",
              "      \n",
              "  <style>\n",
              "    .colab-df-container {\n",
              "      display:flex;\n",
              "      flex-wrap:wrap;\n",
              "      gap: 12px;\n",
              "    }\n",
              "\n",
              "    .colab-df-convert {\n",
              "      background-color: #E8F0FE;\n",
              "      border: none;\n",
              "      border-radius: 50%;\n",
              "      cursor: pointer;\n",
              "      display: none;\n",
              "      fill: #1967D2;\n",
              "      height: 32px;\n",
              "      padding: 0 0 0 0;\n",
              "      width: 32px;\n",
              "    }\n",
              "\n",
              "    .colab-df-convert:hover {\n",
              "      background-color: #E2EBFA;\n",
              "      box-shadow: 0px 1px 2px rgba(60, 64, 67, 0.3), 0px 1px 3px 1px rgba(60, 64, 67, 0.15);\n",
              "      fill: #174EA6;\n",
              "    }\n",
              "\n",
              "    [theme=dark] .colab-df-convert {\n",
              "      background-color: #3B4455;\n",
              "      fill: #D2E3FC;\n",
              "    }\n",
              "\n",
              "    [theme=dark] .colab-df-convert:hover {\n",
              "      background-color: #434B5C;\n",
              "      box-shadow: 0px 1px 3px 1px rgba(0, 0, 0, 0.15);\n",
              "      filter: drop-shadow(0px 1px 2px rgba(0, 0, 0, 0.3));\n",
              "      fill: #FFFFFF;\n",
              "    }\n",
              "  </style>\n",
              "\n",
              "      <script>\n",
              "        const buttonEl =\n",
              "          document.querySelector('#df-cf67e45e-210b-435a-8284-97947672649f button.colab-df-convert');\n",
              "        buttonEl.style.display =\n",
              "          google.colab.kernel.accessAllowed ? 'block' : 'none';\n",
              "\n",
              "        async function convertToInteractive(key) {\n",
              "          const element = document.querySelector('#df-cf67e45e-210b-435a-8284-97947672649f');\n",
              "          const dataTable =\n",
              "            await google.colab.kernel.invokeFunction('convertToInteractive',\n",
              "                                                     [key], {});\n",
              "          if (!dataTable) return;\n",
              "\n",
              "          const docLinkHtml = 'Like what you see? Visit the ' +\n",
              "            '<a target=\"_blank\" href=https://colab.research.google.com/notebooks/data_table.ipynb>data table notebook</a>'\n",
              "            + ' to learn more about interactive tables.';\n",
              "          element.innerHTML = '';\n",
              "          dataTable['output_type'] = 'display_data';\n",
              "          await google.colab.output.renderOutput(dataTable, element);\n",
              "          const docLink = document.createElement('div');\n",
              "          docLink.innerHTML = docLinkHtml;\n",
              "          element.appendChild(docLink);\n",
              "        }\n",
              "      </script>\n",
              "    </div>\n",
              "  </div>\n",
              "  "
            ]
          },
          "metadata": {},
          "execution_count": 60
        }
      ]
    },
    {
      "cell_type": "code",
      "source": [
        "#replacing the null field with 0\n",
        "for feature in selected_features:\n",
        " song_data[feature] = song_data[feature].fillna(0)"
      ],
      "metadata": {
        "id": "rg6Zu_XvBO6q"
      },
      "execution_count": 61,
      "outputs": []
    },
    {
      "cell_type": "markdown",
      "source": [
        "##Training-testing and Spliting Data "
      ],
      "metadata": {
        "id": "CB9PPlOPBnOM"
      }
    },
    {
      "cell_type": "code",
      "source": [
        "#Splitting into train and test data\n",
        "from sklearn.model_selection import train_test_split\n",
        "x_train,x_test,y_train,y_test = train_test_split(selected_features,songs_popularity,test_size = 0.2,random_state =500)\n",
        "#x_train get some random data to train the model as per sixe of test_size, greater the test size less will be train data \n",
        "#y_train get the same number of crosspondingnoutput values of x_train\n",
        "print(x_train.shape)\n",
        "print(y_train.shape)\n",
        "#X-test-get the test data from the dataset , size of the test data is specified by the programmer  \n",
        "#y_test get the same number of crosspondingnoutput values of y_test\n",
        "print(x_test.shape)\n",
        "print(y_test.shape)\n"
      ],
      "metadata": {
        "colab": {
          "base_uri": "https://localhost:8080/"
        },
        "outputId": "901ca7f2-f9ca-406e-a649-461643bfea8d",
        "id": "Ud8Wnz_0BO6q"
      },
      "execution_count": 62,
      "outputs": [
        {
          "output_type": "stream",
          "name": "stdout",
          "text": [
            "(40, 11)\n",
            "(40,)\n",
            "(10, 11)\n",
            "(10,)\n"
          ]
        }
      ]
    },
    {
      "cell_type": "markdown",
      "source": [
        "##Linear Regressions "
      ],
      "metadata": {
        "id": "hjTsGWHQBy9p"
      }
    },
    {
      "cell_type": "code",
      "source": [
        "import numpy as np\n",
        "from sklearn.linear_model import LinearRegression\n",
        "reg = LinearRegression().fit(x_train, y_train)\n",
        "reg.score(x_train, y_train)\n"
      ],
      "metadata": {
        "colab": {
          "base_uri": "https://localhost:8080/"
        },
        "outputId": "1fe1d894-284e-4251-ffd0-b57763c7a3a4",
        "id": "QtEJNbNBBO6q"
      },
      "execution_count": 63,
      "outputs": [
        {
          "output_type": "execute_result",
          "data": {
            "text/plain": [
              "0.33778728690263937"
            ]
          },
          "metadata": {},
          "execution_count": 63
        }
      ]
    },
    {
      "cell_type": "code",
      "source": [
        "Reg_predict =reg.predict(x_test)\n",
        "Reg_predict"
      ],
      "metadata": {
        "colab": {
          "base_uri": "https://localhost:8080/"
        },
        "outputId": "049b2f89-7a4f-40c3-f075-4412af772fed",
        "id": "ZpDFC6uOBO6r"
      },
      "execution_count": 64,
      "outputs": [
        {
          "output_type": "execute_result",
          "data": {
            "text/plain": [
              "array([89.53598092, 87.82482409, 93.20716767, 87.89386002, 92.52390409,\n",
              "       88.81684335, 87.17769458, 87.03519111, 87.49572521, 85.83107876])"
            ]
          },
          "metadata": {},
          "execution_count": 64
        }
      ]
    },
    {
      "cell_type": "markdown",
      "source": [
        "**Checking Mean Squared Error for Linear Regression**"
      ],
      "metadata": {
        "id": "fk_lF1ubBO6r"
      }
    },
    {
      "cell_type": "code",
      "source": [
        "from sklearn.metrics  import  mean_squared_error\n",
        "mean_squared_error(y_test, Reg_predict)"
      ],
      "metadata": {
        "colab": {
          "base_uri": "https://localhost:8080/"
        },
        "outputId": "55148ca4-38cc-435d-93dd-5c68ea4f5f12",
        "id": "9jnKLsvKBO6r"
      },
      "execution_count": 65,
      "outputs": [
        {
          "output_type": "execute_result",
          "data": {
            "text/plain": [
              "22.395540380086537"
            ]
          },
          "metadata": {},
          "execution_count": 65
        }
      ]
    },
    {
      "cell_type": "code",
      "source": [
        "np.sqrt(mean_squared_error(y_test, Reg_predict))"
      ],
      "metadata": {
        "colab": {
          "base_uri": "https://localhost:8080/"
        },
        "outputId": "fa5d9eb7-9317-471a-acb2-d1ba533d5235",
        "id": "S4o4poFcBO6r"
      },
      "execution_count": 66,
      "outputs": [
        {
          "output_type": "execute_result",
          "data": {
            "text/plain": [
              "4.7323926696848115"
            ]
          },
          "metadata": {},
          "execution_count": 66
        }
      ]
    },
    {
      "cell_type": "markdown",
      "source": [
        "## Polynomial Regression"
      ],
      "metadata": {
        "id": "XGpGhQZcBZwj"
      }
    },
    {
      "cell_type": "markdown",
      "source": [
        "####Regression Using degree 2 "
      ],
      "metadata": {
        "id": "wlhXxzRuawYE"
      }
    },
    {
      "cell_type": "code",
      "source": [
        "from sklearn.preprocessing import PolynomialFeatures\n",
        "from sklearn.linear_model import LinearRegression\n",
        "poly = PolynomialFeatures(degree=2, include_bias=False)\n",
        "#poly_features = poly.fit_transform(x_train.values.reshape(-1, 1))\n",
        "poly_reg_model = LinearRegression()\n",
        "poly_reg_model.fit(x_train, y_train)\n",
        "\n",
        "poly_predict= reg.predict(x_test)\n",
        "from sklearn.metrics  import  mean_squared_error\n",
        "mean_squared_error(y_test, poly_predict)\n",
        "\n",
        "np.sqrt(mean_squared_error(y_test, poly_predict))"
      ],
      "metadata": {
        "id": "BBiPrVmVBjWp",
        "outputId": "6a7ef855-c001-4781-9eec-5293b3fc6c50",
        "colab": {
          "base_uri": "https://localhost:8080/"
        }
      },
      "execution_count": 145,
      "outputs": [
        {
          "output_type": "execute_result",
          "data": {
            "text/plain": [
              "4.7323926696848115"
            ]
          },
          "metadata": {},
          "execution_count": 145
        }
      ]
    },
    {
      "cell_type": "markdown",
      "source": [
        "####Regression Using degree 3\n",
        " "
      ],
      "metadata": {
        "id": "teXj5lqObBgA"
      }
    },
    {
      "cell_type": "code",
      "source": [
        "from sklearn.preprocessing import PolynomialFeatures\n",
        "from sklearn.linear_model import LinearRegression\n",
        "poly = PolynomialFeatures(degree=3, include_bias=False)\n",
        "#poly_features = poly.fit_transform(x_train.values.reshape(-1, 1))\n",
        "poly_reg_model = LinearRegression()\n",
        "poly_reg_model.fit(x_train, y_train)\n",
        "\n",
        "poly_predict= reg.predict(x_test)\n",
        "from sklearn.metrics  import  mean_squared_error\n",
        "mean_squared_error(y_test, poly_predict)\n",
        "\n",
        "np.sqrt(mean_squared_error(y_test, poly_predict))"
      ],
      "metadata": {
        "outputId": "b1f918ac-8b04-4f8b-f555-0021108704e7",
        "colab": {
          "base_uri": "https://localhost:8080/"
        },
        "id": "R_Pi-ZQgbBgB"
      },
      "execution_count": 144,
      "outputs": [
        {
          "output_type": "execute_result",
          "data": {
            "text/plain": [
              "4.7323926696848115"
            ]
          },
          "metadata": {},
          "execution_count": 144
        }
      ]
    },
    {
      "cell_type": "markdown",
      "source": [
        "####Regression Using degree 4"
      ],
      "metadata": {
        "id": "FL6oTs2ebIPv"
      }
    },
    {
      "cell_type": "code",
      "source": [
        "from sklearn.preprocessing import PolynomialFeatures\n",
        "from sklearn.linear_model import LinearRegression\n",
        "poly = PolynomialFeatures(degree=4, include_bias=False)\n",
        "#poly_features = poly.fit_transform(x_train.values.reshape(-1, 1))\n",
        "poly_reg_model = LinearRegression()\n",
        "poly_reg_model.fit(x_train, y_train)\n",
        "\n",
        "poly_predict= reg.predict(x_test)\n",
        "from sklearn.metrics  import  mean_squared_error\n",
        "mean_squared_error(y_test, poly_predict)\n",
        "\n",
        "np.sqrt(mean_squared_error(y_test, poly_predict))"
      ],
      "metadata": {
        "outputId": "f7004dd3-186e-43bb-84cc-1751f69324c7",
        "colab": {
          "base_uri": "https://localhost:8080/"
        },
        "id": "I535AtYXbIPw"
      },
      "execution_count": 143,
      "outputs": [
        {
          "output_type": "execute_result",
          "data": {
            "text/plain": [
              "4.7323926696848115"
            ]
          },
          "metadata": {},
          "execution_count": 143
        }
      ]
    },
    {
      "cell_type": "markdown",
      "source": [
        "####Regression Using degree 5"
      ],
      "metadata": {
        "id": "yPuVV4pQbTWk"
      }
    },
    {
      "cell_type": "code",
      "source": [
        "\n",
        "poly = PolynomialFeatures(degree=5, include_bias=False)\n",
        "#poly_features = poly.fit_transform(x_train.values.reshape(-1, 1))\n",
        "poly_reg_model = LinearRegression()\n",
        "poly_reg_model.fit(x_train, y_train)\n",
        "\n",
        "poly_predict= reg.predict(x_test)\n",
        "from sklearn.metrics  import  mean_squared_error\n",
        "mean_squared_error(y_test, poly_predict)\n",
        "\n",
        "np.sqrt(mean_squared_error(y_test, poly_predict))"
      ],
      "metadata": {
        "outputId": "3b47f8d9-f0c6-4d2c-9439-62be2bc4c293",
        "colab": {
          "base_uri": "https://localhost:8080/"
        },
        "id": "Pvp5P4BRbTWl"
      },
      "execution_count": 140,
      "outputs": [
        {
          "output_type": "execute_result",
          "data": {
            "text/plain": [
              "4.7323926696848115"
            ]
          },
          "metadata": {},
          "execution_count": 140
        }
      ]
    },
    {
      "cell_type": "markdown",
      "source": [
        "##Random forest Regressor Algorithm"
      ],
      "metadata": {
        "id": "TFMrxfZWDp0W"
      }
    },
    {
      "cell_type": "code",
      "source": [
        "# Initialzing empty lists to append all model's name and corresponding name\n",
        "data = []  # initialize a array to store the trained data \n",
        "Random_Forest = RandomForestRegressor() #creating the instances of RandomForest Regressor\n",
        "Random_Forest.fit(x_train.values,y_train.values)# it will train the model. Which can be used in predict() with a single arguement"
      ],
      "metadata": {
        "colab": {
          "base_uri": "https://localhost:8080/"
        },
        "id": "bt_f4EghDuFF",
        "outputId": "3b2564f6-a692-4631-c96d-c8e5925d5bdd"
      },
      "execution_count": 67,
      "outputs": [
        {
          "output_type": "execute_result",
          "data": {
            "text/plain": [
              "RandomForestRegressor()"
            ]
          },
          "metadata": {},
          "execution_count": 67
        }
      ]
    },
    {
      "cell_type": "code",
      "source": [
        "y_predict = Random_Forest.predict(x_test.values)\n",
        "#y_predict = Random_Forest.predict(x_test)"
      ],
      "metadata": {
        "id": "5UdRf5EEIwSM"
      },
      "execution_count": 68,
      "outputs": []
    },
    {
      "cell_type": "code",
      "source": [
        "y_predict"
      ],
      "metadata": {
        "colab": {
          "base_uri": "https://localhost:8080/"
        },
        "id": "btEwq3nPJF9S",
        "outputId": "83851bde-8957-4ba5-f552-941a2d2ed667"
      },
      "execution_count": 69,
      "outputs": [
        {
          "output_type": "execute_result",
          "data": {
            "text/plain": [
              "array([88.66, 89.02, 87.09, 86.71, 88.17, 86.06, 88.85, 88.07, 88.27,\n",
              "       87.29])"
            ]
          },
          "metadata": {},
          "execution_count": 69
        }
      ]
    },
    {
      "cell_type": "markdown",
      "source": [
        "**Checking Mean Squared Error for Random Forest Regressor**"
      ],
      "metadata": {
        "id": "tXNWyQC3QuBU"
      }
    },
    {
      "cell_type": "code",
      "source": [
        "from sklearn.metrics  import  mean_squared_error\n",
        "mean_squared_error(y_test, y_predict)"
      ],
      "metadata": {
        "colab": {
          "base_uri": "https://localhost:8080/"
        },
        "id": "sCb4bviaJOyj",
        "outputId": "59202e9f-ef93-4fd8-dd5b-c91641c8975f"
      },
      "execution_count": 70,
      "outputs": [
        {
          "output_type": "execute_result",
          "data": {
            "text/plain": [
              "13.486510000000013"
            ]
          },
          "metadata": {},
          "execution_count": 70
        }
      ]
    },
    {
      "cell_type": "code",
      "source": [
        "np.sqrt(mean_squared_error(y_test, y_predict))"
      ],
      "metadata": {
        "colab": {
          "base_uri": "https://localhost:8080/"
        },
        "id": "57_IN5RfJ4XV",
        "outputId": "8f7bc0c5-544f-4e93-deb7-16e68b147ae2"
      },
      "execution_count": 71,
      "outputs": [
        {
          "output_type": "execute_result",
          "data": {
            "text/plain": [
              "3.6723983988668785"
            ]
          },
          "metadata": {},
          "execution_count": 71
        }
      ]
    },
    {
      "cell_type": "markdown",
      "source": [
        "##Decision Tree Algorithm"
      ],
      "metadata": {
        "id": "pkqH8oh4_4GS"
      }
    },
    {
      "cell_type": "code",
      "source": [
        "from sklearn.tree import DecisionTreeRegressor \n",
        "Decision_tree = DecisionTreeRegressor(random_state = 0)\n",
        "Decision_tree.fit(x_train.values,y_train.values)"
      ],
      "metadata": {
        "colab": {
          "base_uri": "https://localhost:8080/"
        },
        "id": "tlm-kwjmBxmg",
        "outputId": "b94b0c0a-f77f-4e12-8972-6d37c3613e0a"
      },
      "execution_count": 72,
      "outputs": [
        {
          "output_type": "execute_result",
          "data": {
            "text/plain": [
              "DecisionTreeRegressor(random_state=0)"
            ]
          },
          "metadata": {},
          "execution_count": 72
        }
      ]
    },
    {
      "cell_type": "code",
      "source": [
        "dec_predict =Decision_tree.predict(x_test.values)\n",
        "dec_predict"
      ],
      "metadata": {
        "colab": {
          "base_uri": "https://localhost:8080/"
        },
        "id": "QvS03ZyVEvpC",
        "outputId": "96480293-1003-4de6-8605-9064d699a0a9"
      },
      "execution_count": 73,
      "outputs": [
        {
          "output_type": "execute_result",
          "data": {
            "text/plain": [
              "array([90., 88., 90., 82., 86., 90., 90., 90., 90., 87.])"
            ]
          },
          "metadata": {},
          "execution_count": 73
        }
      ]
    },
    {
      "cell_type": "markdown",
      "source": [
        "**Checking Mean Squared Error for Decision tree**"
      ],
      "metadata": {
        "id": "UOQRriIBMsCO"
      }
    },
    {
      "cell_type": "code",
      "source": [
        "from sklearn.metrics  import  mean_squared_error\n",
        "mean_squared_error(y_test, dec_predict)"
      ],
      "metadata": {
        "colab": {
          "base_uri": "https://localhost:8080/"
        },
        "id": "EK141UIvFDMJ",
        "outputId": "27fe7e0b-dd51-4a56-be60-d8296718480d"
      },
      "execution_count": 74,
      "outputs": [
        {
          "output_type": "execute_result",
          "data": {
            "text/plain": [
              "13.5"
            ]
          },
          "metadata": {},
          "execution_count": 74
        }
      ]
    },
    {
      "cell_type": "code",
      "source": [
        "np.sqrt(mean_squared_error(y_test, Reg_predict))"
      ],
      "metadata": {
        "colab": {
          "base_uri": "https://localhost:8080/"
        },
        "id": "Z_NXAn3rFKQh",
        "outputId": "1ddb301a-8432-48d7-b18b-e98695c0b848"
      },
      "execution_count": 75,
      "outputs": [
        {
          "output_type": "execute_result",
          "data": {
            "text/plain": [
              "4.7323926696848115"
            ]
          },
          "metadata": {},
          "execution_count": 75
        }
      ]
    },
    {
      "cell_type": "markdown",
      "source": [
        "## SVM Algorithm"
      ],
      "metadata": {
        "id": "jZOt2qd_GtXW"
      }
    },
    {
      "cell_type": "code",
      "source": [
        "from sklearn.svm import SVR\n",
        "from sklearn.pipeline import make_pipeline \n",
        "from sklearn.preprocessing import StandardScaler\n",
        "svm = make_pipeline(StandardScaler(), SVR(C=1.0, epsilon=0.2))\n",
        "svm.fit(x_train.values,y_train.values)\n",
        "svm_predict=svm.predict(x_test.values)\n",
        "svm_predict\n"
      ],
      "metadata": {
        "colab": {
          "base_uri": "https://localhost:8080/"
        },
        "id": "dsOzhxrJGxpb",
        "outputId": "e9d3dc07-fe96-4229-a5ef-94a3c0887c63"
      },
      "execution_count": 76,
      "outputs": [
        {
          "output_type": "execute_result",
          "data": {
            "text/plain": [
              "array([89.07468613, 89.15439134, 88.73907464, 89.06177385, 88.70563782,\n",
              "       88.39912968, 88.41224143, 88.51348833, 89.22516178, 88.12090714])"
            ]
          },
          "metadata": {},
          "execution_count": 76
        }
      ]
    },
    {
      "cell_type": "markdown",
      "source": [
        "**Checking Mean Squared Error for SVM Model**"
      ],
      "metadata": {
        "id": "eVQN2FG7M7hx"
      }
    },
    {
      "cell_type": "code",
      "source": [
        "from sklearn.metrics  import  mean_squared_error\n",
        "mean_squared_error(y_test, svm_predict)"
      ],
      "metadata": {
        "colab": {
          "base_uri": "https://localhost:8080/"
        },
        "id": "l7B9YwiEH2Ty",
        "outputId": "e4c6cad5-039a-4e45-b39f-8ffbd9af5ec5"
      },
      "execution_count": 77,
      "outputs": [
        {
          "output_type": "execute_result",
          "data": {
            "text/plain": [
              "17.00154704743329"
            ]
          },
          "metadata": {},
          "execution_count": 77
        }
      ]
    },
    {
      "cell_type": "code",
      "source": [
        "np.sqrt(mean_squared_error(y_test, Reg_predict))"
      ],
      "metadata": {
        "colab": {
          "base_uri": "https://localhost:8080/"
        },
        "id": "UbJ9m_OJIK5F",
        "outputId": "602dda23-c29f-4d60-adaa-ff7e70df6b5c"
      },
      "execution_count": 78,
      "outputs": [
        {
          "output_type": "execute_result",
          "data": {
            "text/plain": [
              "4.7323926696848115"
            ]
          },
          "metadata": {},
          "execution_count": 78
        }
      ]
    },
    {
      "cell_type": "markdown",
      "source": [
        "##Gaussian Regression"
      ],
      "metadata": {
        "id": "OhGx_PDQOcIO"
      }
    },
    {
      "cell_type": "code",
      "source": [
        "from sklearn.datasets import make_friedman2\n",
        "from sklearn.gaussian_process import GaussianProcessRegressor\n",
        "from sklearn.gaussian_process.kernels import DotProduct, WhiteKernel\n",
        "kernel = DotProduct() + WhiteKernel()\n",
        "gau = GaussianProcessRegressor(kernel=kernel,random_state=0).fit(x_train, y_train)"
      ],
      "metadata": {
        "id": "JW3ltxRfOhXe"
      },
      "execution_count": 79,
      "outputs": []
    },
    {
      "cell_type": "code",
      "source": [
        "#gpr.score(x_test,y_test)\n",
        "gaussian_predict= gau.predict(x_test)\n",
        "gaussian_predict"
      ],
      "metadata": {
        "id": "caLze2tLO2RH",
        "outputId": "cba99b79-8683-4821-a7c5-afa9ab8f3851",
        "colab": {
          "base_uri": "https://localhost:8080/"
        }
      },
      "execution_count": 80,
      "outputs": [
        {
          "output_type": "execute_result",
          "data": {
            "text/plain": [
              "array([89.63145496, 88.02490909, 93.29207443, 88.01520337, 92.02308953,\n",
              "       88.59599428, 87.36930156, 86.72034601, 87.39423847, 85.83890782])"
            ]
          },
          "metadata": {},
          "execution_count": 80
        }
      ]
    },
    {
      "cell_type": "code",
      "source": [
        "from sklearn.metrics  import  mean_squared_error\n",
        "mean_squared_error(y_test, gaussian_predict)"
      ],
      "metadata": {
        "id": "18rKlVMQPZbk",
        "outputId": "52366e7e-954b-40b3-e87a-c5731650a7e8",
        "colab": {
          "base_uri": "https://localhost:8080/"
        }
      },
      "execution_count": 81,
      "outputs": [
        {
          "output_type": "execute_result",
          "data": {
            "text/plain": [
              "22.33011288622243"
            ]
          },
          "metadata": {},
          "execution_count": 81
        }
      ]
    },
    {
      "cell_type": "code",
      "source": [
        "np.sqrt(mean_squared_error(y_test, gaussian_predict))"
      ],
      "metadata": {
        "id": "hbPoYsBfQP44",
        "outputId": "25178414-ca9a-49ae-fff0-d8644c3f5ff9",
        "colab": {
          "base_uri": "https://localhost:8080/"
        }
      },
      "execution_count": 82,
      "outputs": [
        {
          "output_type": "execute_result",
          "data": {
            "text/plain": [
              "4.725474884730891"
            ]
          },
          "metadata": {},
          "execution_count": 82
        }
      ]
    },
    {
      "cell_type": "markdown",
      "source": [
        "##Lasso Regression"
      ],
      "metadata": {
        "id": "Sxs-PcTZ3e7y"
      }
    },
    {
      "cell_type": "code",
      "source": [
        "from sklearn import linear_model\n",
        "lasso_reg = linear_model.Lasso(alpha=50,max_iter=100,tol=0.1) #max_iter --> The maximum number of iterations, alphafloat:->default=1.0\n",
        "#Constant that multiplies the L1 term, controlling regularization strength. alpha must be a non-negative float, tol:--> The tolerance for the optimization\n",
        "lasso_reg.fit(x_train,y_train)"
      ],
      "metadata": {
        "colab": {
          "base_uri": "https://localhost:8080/"
        },
        "id": "LWPm5usB63tN",
        "outputId": "36892fe7-5815-4abe-8d2e-4e11bf56aede"
      },
      "execution_count": 83,
      "outputs": [
        {
          "output_type": "execute_result",
          "data": {
            "text/plain": [
              "Lasso(alpha=50, max_iter=100, tol=0.1)"
            ]
          },
          "metadata": {},
          "execution_count": 83
        }
      ]
    },
    {
      "cell_type": "code",
      "source": [
        "lasso_predict= lasso_reg.predict(x_test)\n",
        "lasso_predict"
      ],
      "metadata": {
        "colab": {
          "base_uri": "https://localhost:8080/"
        },
        "id": "HDTvk6gd7_Xb",
        "outputId": "c54a2c6d-1cb1-41f1-907e-77ae4a1463a1"
      },
      "execution_count": 84,
      "outputs": [
        {
          "output_type": "execute_result",
          "data": {
            "text/plain": [
              "array([87.575, 87.575, 87.575, 87.575, 87.575, 87.575, 87.575, 87.575,\n",
              "       87.575, 87.575])"
            ]
          },
          "metadata": {},
          "execution_count": 84
        }
      ]
    },
    {
      "cell_type": "code",
      "source": [
        "from sklearn.metrics  import  mean_squared_error\n",
        "mean_squared_error(y_test, lasso_predict)"
      ],
      "metadata": {
        "colab": {
          "base_uri": "https://localhost:8080/"
        },
        "id": "bucr9Pyo8a_z",
        "outputId": "72c86610-d842-478e-d4f2-853464866a74"
      },
      "execution_count": 85,
      "outputs": [
        {
          "output_type": "execute_result",
          "data": {
            "text/plain": [
              "16.300625000000004"
            ]
          },
          "metadata": {},
          "execution_count": 85
        }
      ]
    },
    {
      "cell_type": "code",
      "source": [
        "np.sqrt(mean_squared_error(y_test, lasso_predict))"
      ],
      "metadata": {
        "colab": {
          "base_uri": "https://localhost:8080/"
        },
        "id": "4JGhLCfDzm51",
        "outputId": "19ae8ea3-242d-4bb6-9b57-bd807a79df28"
      },
      "execution_count": 86,
      "outputs": [
        {
          "output_type": "execute_result",
          "data": {
            "text/plain": [
              "4.0374032496147825"
            ]
          },
          "metadata": {},
          "execution_count": 86
        }
      ]
    },
    {
      "cell_type": "markdown",
      "source": [
        "##Ridge Regression\n"
      ],
      "metadata": {
        "id": "VUr-DISpP8V7"
      }
    },
    {
      "cell_type": "code",
      "source": [
        "from sklearn.linear_model import Ridge\n",
        "ridge= Ridge(alpha=1.0)\n",
        "ridge.fit(x_train, y_train)\n"
      ],
      "metadata": {
        "id": "NcTNOmqmQABN",
        "outputId": "0589a427-a2c2-4850-f7db-3bbfe71a678b",
        "colab": {
          "base_uri": "https://localhost:8080/"
        }
      },
      "execution_count": 87,
      "outputs": [
        {
          "output_type": "execute_result",
          "data": {
            "text/plain": [
              "Ridge()"
            ]
          },
          "metadata": {},
          "execution_count": 87
        }
      ]
    },
    {
      "cell_type": "code",
      "source": [
        "ridge_predict=ridge.predict(x_test)"
      ],
      "metadata": {
        "id": "frR13dHiQknq"
      },
      "execution_count": 88,
      "outputs": []
    },
    {
      "cell_type": "code",
      "source": [
        "from sklearn.metrics  import  mean_squared_error\n",
        "mean_squared_error(y_test, ridge_predict)"
      ],
      "metadata": {
        "id": "mig2OX6XQr_6",
        "outputId": "0284351f-c7f7-47e9-98b4-0aac85a95d83",
        "colab": {
          "base_uri": "https://localhost:8080/"
        }
      },
      "execution_count": 89,
      "outputs": [
        {
          "output_type": "execute_result",
          "data": {
            "text/plain": [
              "22.384730851793183"
            ]
          },
          "metadata": {},
          "execution_count": 89
        }
      ]
    },
    {
      "cell_type": "code",
      "source": [
        "np.sqrt(mean_squared_error(y_test, ridge_predict))"
      ],
      "metadata": {
        "id": "5GFmHFhrQ4Ha",
        "outputId": "41cbf9a0-551b-490e-fc3e-1f9a4b384442",
        "colab": {
          "base_uri": "https://localhost:8080/"
        }
      },
      "execution_count": 90,
      "outputs": [
        {
          "output_type": "execute_result",
          "data": {
            "text/plain": [
              "4.731250453293842"
            ]
          },
          "metadata": {},
          "execution_count": 90
        }
      ]
    },
    {
      "cell_type": "markdown",
      "source": [
        "## Bayesian Ridge Regression"
      ],
      "metadata": {
        "id": "KxxVGZunMQtS"
      }
    },
    {
      "cell_type": "code",
      "source": [
        "from sklearn import linear_model\n",
        "BayReg = linear_model.BayesianRidge()\n",
        "BayReg.fit(x_train, y_train)\n",
        "bayesian_predict=ridge.predict(x_test)"
      ],
      "metadata": {
        "id": "chUWXVvWOBts"
      },
      "execution_count": 91,
      "outputs": []
    },
    {
      "cell_type": "code",
      "source": [
        "from sklearn.metrics  import  mean_squared_error\n",
        "mean_squared_error(y_test, bayesian_predict)"
      ],
      "metadata": {
        "colab": {
          "base_uri": "https://localhost:8080/"
        },
        "id": "fczjLkOwOTBq",
        "outputId": "f4bbf852-fbfb-4ab7-cb0d-f510d9bc20fa"
      },
      "execution_count": 92,
      "outputs": [
        {
          "output_type": "execute_result",
          "data": {
            "text/plain": [
              "22.384730851793183"
            ]
          },
          "metadata": {},
          "execution_count": 92
        }
      ]
    },
    {
      "cell_type": "code",
      "source": [
        "np.sqrt(mean_squared_error(y_test, bayesian_predict))"
      ],
      "metadata": {
        "colab": {
          "base_uri": "https://localhost:8080/"
        },
        "id": "zKMhQ4RhOWNz",
        "outputId": "b393c856-ddce-48cf-fd05-5ed764998245"
      },
      "execution_count": 93,
      "outputs": [
        {
          "output_type": "execute_result",
          "data": {
            "text/plain": [
              "4.731250453293842"
            ]
          },
          "metadata": {},
          "execution_count": 93
        }
      ]
    },
    {
      "cell_type": "markdown",
      "source": [
        "## Kernel Ridge Regression "
      ],
      "metadata": {
        "id": "AuArY-EaO_sH"
      }
    },
    {
      "cell_type": "code",
      "source": [
        "import sklearn\n",
        "from sklearn.kernel_ridge import KernelRidge\n",
        "kerReg = sklearn.kernel_ridge.KernelRidge(alpha=1,kernel='linear', gamma=None, degree=3, coef0=1, kernel_params=None)\n",
        "kerReg.fit(x_train,y_train)\n",
        "ker_predict = reg.predict(x_test)"
      ],
      "metadata": {
        "id": "JkRY8EqTPUfF"
      },
      "execution_count": 94,
      "outputs": []
    },
    {
      "cell_type": "code",
      "source": [
        "from sklearn.metrics  import  mean_squared_error\n",
        "mean_squared_error(y_test, bayesian_predict)"
      ],
      "metadata": {
        "colab": {
          "base_uri": "https://localhost:8080/"
        },
        "id": "LIzpmlQgRFTY",
        "outputId": "a61d2d4c-9921-4cb4-a999-25a774c9a7a0"
      },
      "execution_count": 95,
      "outputs": [
        {
          "output_type": "execute_result",
          "data": {
            "text/plain": [
              "22.384730851793183"
            ]
          },
          "metadata": {},
          "execution_count": 95
        }
      ]
    },
    {
      "cell_type": "code",
      "source": [
        "np.sqrt(mean_squared_error(y_test, bayesian_predict))"
      ],
      "metadata": {
        "id": "PzodmmVuRIBV",
        "outputId": "4c2463b5-5025-4dd1-9b7d-4cb7e87c12e8",
        "colab": {
          "base_uri": "https://localhost:8080/"
        }
      },
      "execution_count": 96,
      "outputs": [
        {
          "output_type": "execute_result",
          "data": {
            "text/plain": [
              "4.731250453293842"
            ]
          },
          "metadata": {},
          "execution_count": 96
        }
      ]
    },
    {
      "cell_type": "markdown",
      "metadata": {
        "id": "BdU97Xg7DsYn"
      },
      "source": [
        "##User Input\n"
      ]
    },
    {
      "cell_type": "markdown",
      "metadata": {
        "id": "fLu91MSrR_XC"
      },
      "source": [
        "**Input from the user to predict Popularity using Random Forest**"
      ]
    },
    {
      "cell_type": "code",
      "execution_count": 146,
      "metadata": {
        "id": "c7R0yHj6nfeg",
        "outputId": "c3b3da1a-4417-421b-ddc0-7dc91b0f39cb",
        "colab": {
          "base_uri": "https://localhost:8080/"
        }
      },
      "outputs": [
        {
          "output_type": "stream",
          "name": "stdout",
          "text": [
            "Enter the Artist.Name: Ed Sheeran\n",
            "Enter the Genre: pop\n",
            "Enter the Beats.Per.Minute: 102\n",
            "Enter the Energy: 68\n",
            "Enter the Danceability80\n",
            "Enter the Loudness; -5\n",
            "Enter the Liveness: 9\n",
            "Enter the Valence: 84\n",
            "Enter the Length: 220\n",
            "Enter the Acousticness: 9\n",
            "Enter the Speechiness: 4\n",
            "[85.46]\n"
          ]
        }
      ],
      "source": [
        "Artist = str(input(\"Enter the Artist.Name: \"))\n",
        "genre = str(input(\"Enter the Genre: \"))\n",
        "arr=[Artist,genre] #need to convert strings to numerical value \n",
        "A = encode(arr)\n",
        "Beats = int(input(\"Enter the Beats.Per.Minute: \"))\n",
        "Energy = int(input(\"Enter the Energy: \"))\n",
        "Danceability = int(input(\"Enter the Danceability\"))\n",
        "Loudness = int(input(\"Enter the Loudness; \"))\n",
        "Liveness = int(input(\"Enter the Liveness: \"))\n",
        "Valence = int(input(\"Enter the Valence: \"))\n",
        "Length = int(input(\"Enter the Length: \"))\n",
        "Acousticness = int(input(\"Enter the Acousticness: \"))\n",
        "Speechiness = int(input(\"Enter the Speechiness: \"))\n",
        "data = np.array([[A[0],A[1],Beats,Energy,Danceability,Loudness,Liveness,Valence,Length,Acousticness,Speechiness]])\n",
        "song_popularity =Random_Forest.predict(data)\n",
        "print(song_popularity)\n",
        "#Ed Sheeran\tpop\t102\t68\t80\t-5\t9\t84\t220\t9\t4\t84"
      ]
    }
  ]
}